{
 "cells": [
  {
   "cell_type": "code",
   "execution_count": 331,
   "source": [
    "import numpy as np\r\n",
    "import pandas as pd\r\n",
    "import matplotlib.pyplot as plt\r\n",
    "import seaborn as sns\r\n",
    "import datetime as datetime\r\n",
    "from scipy.stats import norm\r\n",
    "import statistics\r\n",
    "import pylab\r\n",
    "from scipy.stats import shapiro\r\n",
    "from scipy.stats import wilcoxon\r\n",
    "from scipy.stats import chi2_contingency "
   ],
   "outputs": [],
   "metadata": {}
  },
  {
   "cell_type": "markdown",
   "source": [
    "# Ayiti Analytics Probability and Statistics Project"
   ],
   "metadata": {}
  },
  {
   "cell_type": "markdown",
   "source": [
    "Use all the files to have a final datasets to have the following columns\n",
    "   <ul>\n",
    "    <li>questid</li>\n",
    "    <li>gender</li>\n",
    "    <li>age (age of applicant)</li>\n",
    "    <li>communeName (use data prep in commune file)</li>\n",
    "    <li>application_date (created at in quest file)</li>\n",
    "    <li>enroll_date (created_at in enroll file)</li>\n",
    "    <li>is_enroll (Yes/No) (use data prep in enroll file)</li>\n",
    "    <li>Education Level</li>\n",
    "   <li>Communication channels(hear_AA1)</li>\n",
    "    <li>Bootcamp Insterest (after_AA)</li>\n",
    "    <li>Payement Date (use ord and transaction files)</li>\n",
    "    <li>Payed (Yes/No)</li>\n",
    "    <li>list Technologies as columns based (use get_dummies)</li>\n",
    "    <li>list  Study domains (use get_dummies)</li>\n",
    "    <li>Job is formal</li>\n",
    "    <li>Have computer at home</li>\n",
    "    <li>Have internet at home</li>\n",
    "    \n",
    "   </ul>\n",
    "   "
   ],
   "metadata": {}
  },
  {
   "cell_type": "code",
   "execution_count": 332,
   "source": [
    "enroll=pd.read_csv(r'enroll.csv')\r\n",
    "industry=pd.read_csv(r'industry.csv')\r\n",
    "ord1=pd.read_csv(r'ord.csv')\r\n",
    "study_domain=pd.read_csv(r'study_domain.csv')\r\n",
    "technology=pd.read_csv(r'technology.csv')\r\n",
    "transaction=pd.read_csv(r'transaction.csv')\r\n",
    "commune=pd.read_excel(r'commune.xlsx')\r\n",
    "quest=pd.read_csv(r'quest.csv')"
   ],
   "outputs": [],
   "metadata": {}
  },
  {
   "cell_type": "code",
   "execution_count": 333,
   "source": [
    "def fonksyon(a):\r\n",
    "    return a.info()"
   ],
   "outputs": [],
   "metadata": {}
  },
  {
   "cell_type": "code",
   "execution_count": 334,
   "source": [
    "fonksyon(enroll)"
   ],
   "outputs": [
    {
     "output_type": "stream",
     "name": "stdout",
     "text": [
      "<class 'pandas.core.frame.DataFrame'>\n",
      "RangeIndex: 148 entries, 0 to 147\n",
      "Data columns (total 15 columns):\n",
      " #   Column                Non-Null Count  Dtype  \n",
      "---  ------                --------------  -----  \n",
      " 0   Unnamed: 0            148 non-null    int64  \n",
      " 1   created_at            148 non-null    object \n",
      " 2   expiry_date           60 non-null     object \n",
      " 3   user_id               148 non-null    int64  \n",
      " 4   course_name           148 non-null    object \n",
      " 5   course_id             148 non-null    int64  \n",
      " 6   percentage_completed  148 non-null    float64\n",
      " 7   completed_at          0 non-null      float64\n",
      " 8   expired               148 non-null    bool   \n",
      " 9   is_free_trial         148 non-null    bool   \n",
      " 10  completed             148 non-null    bool   \n",
      " 11  started_at            135 non-null    object \n",
      " 12  activated_at          77 non-null     object \n",
      " 13  updated_at            148 non-null    object \n",
      " 14  quest_id              102 non-null    object \n",
      "dtypes: bool(3), float64(2), int64(3), object(7)\n",
      "memory usage: 14.4+ KB\n"
     ]
    }
   ],
   "metadata": {}
  },
  {
   "cell_type": "code",
   "execution_count": 335,
   "source": [
    "enroll.isnull().any()"
   ],
   "outputs": [
    {
     "output_type": "execute_result",
     "data": {
      "text/plain": [
       "Unnamed: 0              False\n",
       "created_at              False\n",
       "expiry_date              True\n",
       "user_id                 False\n",
       "course_name             False\n",
       "course_id               False\n",
       "percentage_completed    False\n",
       "completed_at             True\n",
       "expired                 False\n",
       "is_free_trial           False\n",
       "completed               False\n",
       "started_at               True\n",
       "activated_at             True\n",
       "updated_at              False\n",
       "quest_id                 True\n",
       "dtype: bool"
      ]
     },
     "metadata": {},
     "execution_count": 335
    }
   ],
   "metadata": {}
  },
  {
   "cell_type": "code",
   "execution_count": 336,
   "source": [
    "enroll.isnull().sum()"
   ],
   "outputs": [
    {
     "output_type": "execute_result",
     "data": {
      "text/plain": [
       "Unnamed: 0                0\n",
       "created_at                0\n",
       "expiry_date              88\n",
       "user_id                   0\n",
       "course_name               0\n",
       "course_id                 0\n",
       "percentage_completed      0\n",
       "completed_at            148\n",
       "expired                   0\n",
       "is_free_trial             0\n",
       "completed                 0\n",
       "started_at               13\n",
       "activated_at             71\n",
       "updated_at                0\n",
       "quest_id                 46\n",
       "dtype: int64"
      ]
     },
     "metadata": {},
     "execution_count": 336
    }
   ],
   "metadata": {}
  },
  {
   "cell_type": "code",
   "execution_count": 337,
   "source": [
    "industry.isnull().any()"
   ],
   "outputs": [
    {
     "output_type": "execute_result",
     "data": {
      "text/plain": [
       "Unnamed: 0    False\n",
       "key           False\n",
       "values        False\n",
       "quest_id      False\n",
       "dtype: bool"
      ]
     },
     "metadata": {},
     "execution_count": 337
    }
   ],
   "metadata": {}
  },
  {
   "cell_type": "code",
   "execution_count": 338,
   "source": [
    "fonksyon(industry)"
   ],
   "outputs": [
    {
     "output_type": "stream",
     "name": "stdout",
     "text": [
      "<class 'pandas.core.frame.DataFrame'>\n",
      "RangeIndex: 807 entries, 0 to 806\n",
      "Data columns (total 4 columns):\n",
      " #   Column      Non-Null Count  Dtype \n",
      "---  ------      --------------  ----- \n",
      " 0   Unnamed: 0  807 non-null    int64 \n",
      " 1   key         807 non-null    object\n",
      " 2   values      807 non-null    object\n",
      " 3   quest_id    807 non-null    object\n",
      "dtypes: int64(1), object(3)\n",
      "memory usage: 25.3+ KB\n"
     ]
    }
   ],
   "metadata": {}
  },
  {
   "cell_type": "code",
   "execution_count": 339,
   "source": [
    "ord1.isnull().any()"
   ],
   "outputs": [
    {
     "output_type": "execute_result",
     "data": {
      "text/plain": [
       "Unnamed: 0                 False\n",
       "created_at                 False\n",
       "user_id                    False\n",
       "product_name               False\n",
       "product_id                 False\n",
       "amount_dollars             False\n",
       "amount_cents               False\n",
       "subscription               False\n",
       "coupon_code                 True\n",
       "coupon_id                   True\n",
       "affiliate_referral_code     True\n",
       "status                     False\n",
       "quest_id                    True\n",
       "dtype: bool"
      ]
     },
     "metadata": {},
     "execution_count": 339
    }
   ],
   "metadata": {}
  },
  {
   "cell_type": "code",
   "execution_count": 340,
   "source": [
    "fonksyon(ord1)"
   ],
   "outputs": [
    {
     "output_type": "stream",
     "name": "stdout",
     "text": [
      "<class 'pandas.core.frame.DataFrame'>\n",
      "RangeIndex: 18 entries, 0 to 17\n",
      "Data columns (total 13 columns):\n",
      " #   Column                   Non-Null Count  Dtype  \n",
      "---  ------                   --------------  -----  \n",
      " 0   Unnamed: 0               18 non-null     int64  \n",
      " 1   created_at               18 non-null     object \n",
      " 2   user_id                  18 non-null     int64  \n",
      " 3   product_name             18 non-null     object \n",
      " 4   product_id               18 non-null     int64  \n",
      " 5   amount_dollars           18 non-null     int64  \n",
      " 6   amount_cents             18 non-null     int64  \n",
      " 7   subscription             18 non-null     bool   \n",
      " 8   coupon_code              4 non-null      object \n",
      " 9   coupon_id                4 non-null      float64\n",
      " 10  affiliate_referral_code  0 non-null      float64\n",
      " 11  status                   18 non-null     object \n",
      " 12  quest_id                 14 non-null     object \n",
      "dtypes: bool(1), float64(2), int64(5), object(5)\n",
      "memory usage: 1.8+ KB\n"
     ]
    }
   ],
   "metadata": {}
  },
  {
   "cell_type": "code",
   "execution_count": 341,
   "source": [
    "quest.isnull().any()"
   ],
   "outputs": [
    {
     "output_type": "execute_result",
     "data": {
      "text/plain": [
       "Unnamed: 0            False\n",
       "gender                False\n",
       "dob                    True\n",
       "commune               False\n",
       "created_at            False\n",
       "modified_at           False\n",
       "department             True\n",
       "education_level       False\n",
       "university            False\n",
       "study_domain          False\n",
       "current_employed      False\n",
       "formal_sector_job     False\n",
       "have_computer_home    False\n",
       "internet_at_home      False\n",
       "hear_AA_1             False\n",
       "after_AA              False\n",
       "quest_id              False\n",
       "dtype: bool"
      ]
     },
     "metadata": {},
     "execution_count": 341
    }
   ],
   "metadata": {}
  },
  {
   "cell_type": "code",
   "execution_count": 342,
   "source": [
    "quest.isnull().sum()"
   ],
   "outputs": [
    {
     "output_type": "execute_result",
     "data": {
      "text/plain": [
       "Unnamed: 0            0\n",
       "gender                0\n",
       "dob                   6\n",
       "commune               0\n",
       "created_at            0\n",
       "modified_at           0\n",
       "department            1\n",
       "education_level       0\n",
       "university            0\n",
       "study_domain          0\n",
       "current_employed      0\n",
       "formal_sector_job     0\n",
       "have_computer_home    0\n",
       "internet_at_home      0\n",
       "hear_AA_1             0\n",
       "after_AA              0\n",
       "quest_id              0\n",
       "dtype: int64"
      ]
     },
     "metadata": {},
     "execution_count": 342
    }
   ],
   "metadata": {}
  },
  {
   "cell_type": "code",
   "execution_count": 343,
   "source": [
    "fonksyon(quest)"
   ],
   "outputs": [
    {
     "output_type": "stream",
     "name": "stdout",
     "text": [
      "<class 'pandas.core.frame.DataFrame'>\n",
      "RangeIndex: 250 entries, 0 to 249\n",
      "Data columns (total 17 columns):\n",
      " #   Column              Non-Null Count  Dtype \n",
      "---  ------              --------------  ----- \n",
      " 0   Unnamed: 0          250 non-null    int64 \n",
      " 1   gender              250 non-null    object\n",
      " 2   dob                 244 non-null    object\n",
      " 3   commune             250 non-null    object\n",
      " 4   created_at          250 non-null    object\n",
      " 5   modified_at         250 non-null    object\n",
      " 6   department          249 non-null    object\n",
      " 7   education_level     250 non-null    object\n",
      " 8   university          250 non-null    object\n",
      " 9   study_domain        250 non-null    object\n",
      " 10  current_employed    250 non-null    object\n",
      " 11  formal_sector_job   250 non-null    object\n",
      " 12  have_computer_home  250 non-null    object\n",
      " 13  internet_at_home    250 non-null    object\n",
      " 14  hear_AA_1           250 non-null    object\n",
      " 15  after_AA            250 non-null    object\n",
      " 16  quest_id            250 non-null    object\n",
      "dtypes: int64(1), object(16)\n",
      "memory usage: 33.3+ KB\n"
     ]
    }
   ],
   "metadata": {}
  },
  {
   "cell_type": "code",
   "execution_count": 344,
   "source": [
    "study_domain.isnull().any()"
   ],
   "outputs": [
    {
     "output_type": "execute_result",
     "data": {
      "text/plain": [
       "Unnamed: 0    False\n",
       "key           False\n",
       "values        False\n",
       "quest_id      False\n",
       "dtype: bool"
      ]
     },
     "metadata": {},
     "execution_count": 344
    }
   ],
   "metadata": {}
  },
  {
   "cell_type": "code",
   "execution_count": 345,
   "source": [
    "fonksyon(study_domain)"
   ],
   "outputs": [
    {
     "output_type": "stream",
     "name": "stdout",
     "text": [
      "<class 'pandas.core.frame.DataFrame'>\n",
      "RangeIndex: 287 entries, 0 to 286\n",
      "Data columns (total 4 columns):\n",
      " #   Column      Non-Null Count  Dtype \n",
      "---  ------      --------------  ----- \n",
      " 0   Unnamed: 0  287 non-null    int64 \n",
      " 1   key         287 non-null    object\n",
      " 2   values      287 non-null    object\n",
      " 3   quest_id    287 non-null    object\n",
      "dtypes: int64(1), object(3)\n",
      "memory usage: 9.1+ KB\n"
     ]
    }
   ],
   "metadata": {}
  },
  {
   "cell_type": "code",
   "execution_count": 346,
   "source": [
    "technology.isnull().any()"
   ],
   "outputs": [
    {
     "output_type": "execute_result",
     "data": {
      "text/plain": [
       "Unnamed: 0    False\n",
       "key           False\n",
       "values        False\n",
       "quest_id      False\n",
       "dtype: bool"
      ]
     },
     "metadata": {},
     "execution_count": 346
    }
   ],
   "metadata": {}
  },
  {
   "cell_type": "code",
   "execution_count": 347,
   "source": [
    "fonksyon(technology)"
   ],
   "outputs": [
    {
     "output_type": "stream",
     "name": "stdout",
     "text": [
      "<class 'pandas.core.frame.DataFrame'>\n",
      "RangeIndex: 678 entries, 0 to 677\n",
      "Data columns (total 4 columns):\n",
      " #   Column      Non-Null Count  Dtype \n",
      "---  ------      --------------  ----- \n",
      " 0   Unnamed: 0  678 non-null    int64 \n",
      " 1   key         678 non-null    object\n",
      " 2   values      678 non-null    object\n",
      " 3   quest_id    678 non-null    object\n",
      "dtypes: int64(1), object(3)\n",
      "memory usage: 21.3+ KB\n"
     ]
    }
   ],
   "metadata": {}
  },
  {
   "cell_type": "code",
   "execution_count": 348,
   "source": [
    "transaction.isnull().any()"
   ],
   "outputs": [
    {
     "output_type": "execute_result",
     "data": {
      "text/plain": [
       "Unnamed: 0        False\n",
       "created_at        False\n",
       "modified_at       False\n",
       "user_id           False\n",
       "course_id         False\n",
       "transaction_id    False\n",
       "dtype: bool"
      ]
     },
     "metadata": {},
     "execution_count": 348
    }
   ],
   "metadata": {}
  },
  {
   "cell_type": "code",
   "execution_count": 349,
   "source": [
    "fonksyon(transaction)"
   ],
   "outputs": [
    {
     "output_type": "stream",
     "name": "stdout",
     "text": [
      "<class 'pandas.core.frame.DataFrame'>\n",
      "RangeIndex: 60 entries, 0 to 59\n",
      "Data columns (total 6 columns):\n",
      " #   Column          Non-Null Count  Dtype \n",
      "---  ------          --------------  ----- \n",
      " 0   Unnamed: 0      60 non-null     int64 \n",
      " 1   created_at      60 non-null     object\n",
      " 2   modified_at     60 non-null     object\n",
      " 3   user_id         60 non-null     int64 \n",
      " 4   course_id       60 non-null     int64 \n",
      " 5   transaction_id  60 non-null     int64 \n",
      "dtypes: int64(4), object(2)\n",
      "memory usage: 2.9+ KB\n"
     ]
    }
   ],
   "metadata": {}
  },
  {
   "cell_type": "code",
   "execution_count": 350,
   "source": [
    "commune.isnull().any()"
   ],
   "outputs": [
    {
     "output_type": "execute_result",
     "data": {
      "text/plain": [
       "Commune_en     False\n",
       "Commune_FR     False\n",
       "Commune_Id     False\n",
       "Departement    False\n",
       "ADM1_PCODE     False\n",
       "dtype: bool"
      ]
     },
     "metadata": {},
     "execution_count": 350
    }
   ],
   "metadata": {}
  },
  {
   "cell_type": "code",
   "execution_count": 351,
   "source": [
    "fonksyon(commune)"
   ],
   "outputs": [
    {
     "output_type": "stream",
     "name": "stdout",
     "text": [
      "<class 'pandas.core.frame.DataFrame'>\n",
      "RangeIndex: 140 entries, 0 to 139\n",
      "Data columns (total 5 columns):\n",
      " #   Column       Non-Null Count  Dtype \n",
      "---  ------       --------------  ----- \n",
      " 0   Commune_en   140 non-null    object\n",
      " 1   Commune_FR   140 non-null    object\n",
      " 2   Commune_Id   140 non-null    object\n",
      " 3   Departement  140 non-null    object\n",
      " 4   ADM1_PCODE   140 non-null    object\n",
      "dtypes: object(5)\n",
      "memory usage: 5.6+ KB\n"
     ]
    }
   ],
   "metadata": {}
  },
  {
   "cell_type": "code",
   "execution_count": 352,
   "source": [
    "enroll.rename(columns = {\"created_at\": \"enroll_date\"}, inplace = True)\r\n",
    "enroll['created_at']=enroll[\"enroll_date\"]\r\n",
    "enroll['is_enroll'] = np.where(enroll['enroll_date'].isna(), 'no', 'yes')\r\n",
    "\r\n",
    "enroll=enroll[[\"enroll_date\",\"is_enroll\",\"quest_id\", \"user_id\"]]\r\n"
   ],
   "outputs": [],
   "metadata": {}
  },
  {
   "cell_type": "code",
   "execution_count": 353,
   "source": [
    "enroll"
   ],
   "outputs": [
    {
     "output_type": "execute_result",
     "data": {
      "text/plain": [
       "                  enroll_date is_enroll                              quest_id  \\\n",
       "0    2020-12-12T06:41:29.844Z       yes                                   NaN   \n",
       "1    2020-12-13T14:41:17.720Z       yes                                   NaN   \n",
       "2    2020-12-15T00:53:06.499Z       yes                                   NaN   \n",
       "3    2020-12-18T18:38:55.683Z       yes                                   NaN   \n",
       "4    2020-12-21T14:45:06.528Z       yes                                   NaN   \n",
       "..                        ...       ...                                   ...   \n",
       "143  2021-03-14T02:16:08.736Z       yes  906b65e3-ce95-11eb-a294-7c67a234f601   \n",
       "144  2021-03-14T04:20:30.803Z       yes  906636cf-ce95-11eb-8679-7c67a234f601   \n",
       "145  2021-03-14T07:34:09.491Z       yes  906241d5-ce95-11eb-9850-7c67a234f601   \n",
       "146  2021-03-14T15:34:39.800Z       yes  906b3c86-ce95-11eb-b6a7-7c67a234f601   \n",
       "147  2021-03-14T17:34:44.861Z       yes                                   NaN   \n",
       "\n",
       "      user_id  \n",
       "0    29816173  \n",
       "1    35229766  \n",
       "2    31987560  \n",
       "3    35616451  \n",
       "4    35390649  \n",
       "..        ...  \n",
       "143  41508160  \n",
       "144  41564742  \n",
       "145  41569249  \n",
       "146  41587952  \n",
       "147  41592698  \n",
       "\n",
       "[148 rows x 4 columns]"
      ],
      "text/html": [
       "<div>\n",
       "<style scoped>\n",
       "    .dataframe tbody tr th:only-of-type {\n",
       "        vertical-align: middle;\n",
       "    }\n",
       "\n",
       "    .dataframe tbody tr th {\n",
       "        vertical-align: top;\n",
       "    }\n",
       "\n",
       "    .dataframe thead th {\n",
       "        text-align: right;\n",
       "    }\n",
       "</style>\n",
       "<table border=\"1\" class=\"dataframe\">\n",
       "  <thead>\n",
       "    <tr style=\"text-align: right;\">\n",
       "      <th></th>\n",
       "      <th>enroll_date</th>\n",
       "      <th>is_enroll</th>\n",
       "      <th>quest_id</th>\n",
       "      <th>user_id</th>\n",
       "    </tr>\n",
       "  </thead>\n",
       "  <tbody>\n",
       "    <tr>\n",
       "      <th>0</th>\n",
       "      <td>2020-12-12T06:41:29.844Z</td>\n",
       "      <td>yes</td>\n",
       "      <td>NaN</td>\n",
       "      <td>29816173</td>\n",
       "    </tr>\n",
       "    <tr>\n",
       "      <th>1</th>\n",
       "      <td>2020-12-13T14:41:17.720Z</td>\n",
       "      <td>yes</td>\n",
       "      <td>NaN</td>\n",
       "      <td>35229766</td>\n",
       "    </tr>\n",
       "    <tr>\n",
       "      <th>2</th>\n",
       "      <td>2020-12-15T00:53:06.499Z</td>\n",
       "      <td>yes</td>\n",
       "      <td>NaN</td>\n",
       "      <td>31987560</td>\n",
       "    </tr>\n",
       "    <tr>\n",
       "      <th>3</th>\n",
       "      <td>2020-12-18T18:38:55.683Z</td>\n",
       "      <td>yes</td>\n",
       "      <td>NaN</td>\n",
       "      <td>35616451</td>\n",
       "    </tr>\n",
       "    <tr>\n",
       "      <th>4</th>\n",
       "      <td>2020-12-21T14:45:06.528Z</td>\n",
       "      <td>yes</td>\n",
       "      <td>NaN</td>\n",
       "      <td>35390649</td>\n",
       "    </tr>\n",
       "    <tr>\n",
       "      <th>...</th>\n",
       "      <td>...</td>\n",
       "      <td>...</td>\n",
       "      <td>...</td>\n",
       "      <td>...</td>\n",
       "    </tr>\n",
       "    <tr>\n",
       "      <th>143</th>\n",
       "      <td>2021-03-14T02:16:08.736Z</td>\n",
       "      <td>yes</td>\n",
       "      <td>906b65e3-ce95-11eb-a294-7c67a234f601</td>\n",
       "      <td>41508160</td>\n",
       "    </tr>\n",
       "    <tr>\n",
       "      <th>144</th>\n",
       "      <td>2021-03-14T04:20:30.803Z</td>\n",
       "      <td>yes</td>\n",
       "      <td>906636cf-ce95-11eb-8679-7c67a234f601</td>\n",
       "      <td>41564742</td>\n",
       "    </tr>\n",
       "    <tr>\n",
       "      <th>145</th>\n",
       "      <td>2021-03-14T07:34:09.491Z</td>\n",
       "      <td>yes</td>\n",
       "      <td>906241d5-ce95-11eb-9850-7c67a234f601</td>\n",
       "      <td>41569249</td>\n",
       "    </tr>\n",
       "    <tr>\n",
       "      <th>146</th>\n",
       "      <td>2021-03-14T15:34:39.800Z</td>\n",
       "      <td>yes</td>\n",
       "      <td>906b3c86-ce95-11eb-b6a7-7c67a234f601</td>\n",
       "      <td>41587952</td>\n",
       "    </tr>\n",
       "    <tr>\n",
       "      <th>147</th>\n",
       "      <td>2021-03-14T17:34:44.861Z</td>\n",
       "      <td>yes</td>\n",
       "      <td>NaN</td>\n",
       "      <td>41592698</td>\n",
       "    </tr>\n",
       "  </tbody>\n",
       "</table>\n",
       "<p>148 rows × 4 columns</p>\n",
       "</div>"
      ]
     },
     "metadata": {},
     "execution_count": 353
    }
   ],
   "metadata": {}
  },
  {
   "cell_type": "code",
   "execution_count": 354,
   "source": [
    "quest\r\n",
    "quest.rename(columns = {\"created_at\": \"payment_date\"}, inplace = True)\r\n"
   ],
   "outputs": [],
   "metadata": {}
  },
  {
   "cell_type": "code",
   "execution_count": 355,
   "source": [
    "\r\n",
    "quest.rename(columns = {\"formal_sector_job\": \"job_is_formal\"}, inplace = True)"
   ],
   "outputs": [],
   "metadata": {}
  },
  {
   "cell_type": "code",
   "execution_count": 356,
   "source": [
    "quest=quest[[\"gender\",\"dob\",\"commune\",\"payment_date\",\"education_level\",\"study_domain\",\"internet_at_home\",\"have_computer_home\",\"hear_AA_1\",\"after_AA\",\"job_is_formal\",\"quest_id\"]]"
   ],
   "outputs": [],
   "metadata": {}
  },
  {
   "cell_type": "code",
   "execution_count": 357,
   "source": [
    "# In this section we use the get_dummies() for data manipulation. We want to convert categorical data into dummy or indicator variable\r\n",
    "study_domain1 = pd.get_dummies(data=study_domain[[\"key\", \"quest_id\", \"values\"]], columns=['values'], prefix=\"\", prefix_sep=\"\")\r\n",
    "# After that we group the new indicator variable by thier quest_id which is common to all\r\n",
    "study_domain2 = study_domain1.groupby(\"quest_id\").sum()"
   ],
   "outputs": [],
   "metadata": {}
  },
  {
   "cell_type": "code",
   "execution_count": 358,
   "source": [
    "# In this section we use the get_dummies() for data manipulation. We want to convert categorical data into dummy or indicator variable\r\n",
    "technology1 = pd.get_dummies(technology[[\"key\", \"quest_id\", \"values\"]], columns=['values'], prefix=\"\", prefix_sep=\"\")\r\n",
    "# After that we group the new indicator variable by thier quest_id which is common to all\r\n",
    "technology2 = technology1.groupby(\"quest_id\").sum()"
   ],
   "outputs": [],
   "metadata": {}
  },
  {
   "cell_type": "code",
   "execution_count": 359,
   "source": [
    "# In this section we use the get_dummies() for data manipulation. We want to convert categorical data into dummy or indicator variable\r\n",
    "industry1 = pd.get_dummies(data=industry[[\"key\", \"quest_id\", \"values\"]], columns=['values'], prefix=\"\", prefix_sep=\"\")\r\n",
    "# After that we group the new indicator variable by thier quest_id which is common to all\r\n",
    "industry2 = industry1.groupby(\"quest_id\").sum()"
   ],
   "outputs": [],
   "metadata": {}
  },
  {
   "cell_type": "code",
   "execution_count": 360,
   "source": [
    "#First, I start the merging of the dataset beginning with quest and enroll\r\n",
    "result=pd.merge(left=quest, right=enroll, how = 'left',on='quest_id')\r\n",
    "#Secondly,  I merge the old merging(result) with study_domain\r\n",
    "result1=pd.merge(left=result, right=study_domain2, how = 'left',on='quest_id')\r\n",
    "#Thirdly,  I merge the old merging(result1) with technology, and as so one\r\n",
    "result2=pd.merge(left=result1, right=technology2, how = 'left',on='quest_id')\r\n",
    "result3=pd.merge(left=result2, right=industry2, how = 'left',on='quest_id')\r\n"
   ],
   "outputs": [],
   "metadata": {}
  },
  {
   "cell_type": "code",
   "execution_count": 361,
   "source": [
    "#I also change to lowercase the column \"Commune_ID so that I can merge it\"\r\n",
    "commune[\"Commune_Id\"] = commune[\"Commune_Id\"].str.lower()\r\n",
    "#I rename the column \"Commune_ID to 'commune' so that I could merge it with the commune colum on the commune dataset and I persist the result on the dataset\"\r\n",
    "commune.rename(columns = {\"Commune_Id\":\"commune\"}, inplace = True)"
   ],
   "outputs": [],
   "metadata": {}
  },
  {
   "cell_type": "code",
   "execution_count": 362,
   "source": [
    "#After that,  I merge the old merging(result3) with commune\r\n",
    "result4=pd.merge(left=result3, right=commune[[\"Commune_FR\",\"commune\"]], how = 'left', on=\"commune\")\r\n",
    "\r\n",
    "#I slice the 9th first elements on the columns 'created_at'\r\n",
    "result4[\"payment_date\"] = result4[\"payment_date\"].str[:10]"
   ],
   "outputs": [],
   "metadata": {}
  },
  {
   "cell_type": "code",
   "execution_count": 363,
   "source": [
    "result4.columns"
   ],
   "outputs": [
    {
     "output_type": "execute_result",
     "data": {
      "text/plain": [
       "Index(['gender', 'dob', 'commune', 'payment_date', 'education_level',\n",
       "       'study_domain', 'internet_at_home', 'have_computer_home', 'hear_AA_1',\n",
       "       'after_AA', 'job_is_formal', 'quest_id', 'enroll_date', 'is_enroll',\n",
       "       'user_id', 'Accounting', 'Computer Science', 'Economics',\n",
       "       'Electrical Engineering', 'Law', 'Management', 'Medicine', 'Statistics',\n",
       "       'other_x', 'Bash', 'Excel', 'Git', 'Java', 'JavaScript', 'PHP',\n",
       "       'PowerBI or Tableau', 'Python', 'R', 'SQL', 'VBA', 'other_y',\n",
       "       'Communications', 'Consulting', 'Education', 'Energy', 'Finance',\n",
       "       'Healthcare', 'Insurance', 'Manufacturing', 'Marketing',\n",
       "       'Public Sector/ Non-Profit Agencies', 'Retail/ E-Commerce',\n",
       "       'Technology (Software/ Internet)', 'Transportation', 'other',\n",
       "       'Commune_FR'],\n",
       "      dtype='object')"
      ]
     },
     "metadata": {},
     "execution_count": 363
    }
   ],
   "metadata": {}
  },
  {
   "cell_type": "code",
   "execution_count": 364,
   "source": [
    "# I concat the old merging(ord1) with transaction\r\n",
    "resulta = pd.concat([ord1, transaction],axis=0)\r\n",
    "#I print the shape of the new variable\r\n",
    "resulta.shape"
   ],
   "outputs": [
    {
     "output_type": "execute_result",
     "data": {
      "text/plain": [
       "(78, 16)"
      ]
     },
     "metadata": {},
     "execution_count": 364
    }
   ],
   "metadata": {}
  },
  {
   "cell_type": "code",
   "execution_count": 365,
   "source": [
    "#I create a column payed\r\n",
    "resulta['payed'] = \"yes\"\r\n",
    "resulta.head()"
   ],
   "outputs": [
    {
     "output_type": "execute_result",
     "data": {
      "text/plain": [
       "   Unnamed: 0                created_at   user_id  \\\n",
       "0           0  2021-03-14T15:34:35.014Z  41587952   \n",
       "1           1  2021-03-14T04:20:23.483Z  41564742   \n",
       "2           2  2021-03-12T19:29:22.832Z  41501853   \n",
       "3           3  2021-03-12T14:23:11.154Z  40284930   \n",
       "4           4  2021-03-11T16:01:17.901Z  40281483   \n",
       "\n",
       "                  product_name  product_id  amount_dollars  amount_cents  \\\n",
       "0  Entwodiksyon Nan Syans Done   1100636.0            20.0        2000.0   \n",
       "1  Entwodiksyon Nan Syans Done   1100636.0            20.0        2000.0   \n",
       "2  Entwodiksyon Nan Syans Done   1100636.0            20.0        2000.0   \n",
       "3  Entwodiksyon Nan Syans Done   1100636.0             0.0           0.0   \n",
       "4  Entwodiksyon Nan Syans Done   1100636.0            20.0        2000.0   \n",
       "\n",
       "  subscription        coupon_code  coupon_id  affiliate_referral_code  \\\n",
       "0        False                NaN        NaN                      NaN   \n",
       "1        False                NaN        NaN                      NaN   \n",
       "2        False                NaN        NaN                      NaN   \n",
       "3        False  impact_hub_coupon  6658457.0                      NaN   \n",
       "4        False                NaN        NaN                      NaN   \n",
       "\n",
       "     status                              quest_id modified_at  course_id  \\\n",
       "0  Complete  906b3c86-ce95-11eb-b6a7-7c67a234f601         NaN        NaN   \n",
       "1  Complete  906636cf-ce95-11eb-8679-7c67a234f601         NaN        NaN   \n",
       "2  Complete  906968f5-ce95-11eb-9e1a-7c67a234f601         NaN        NaN   \n",
       "3  Complete  9060477c-ce95-11eb-ace3-7c67a234f601         NaN        NaN   \n",
       "4  Complete  9064ff29-ce95-11eb-a3d3-7c67a234f601         NaN        NaN   \n",
       "\n",
       "   transaction_id payed  \n",
       "0             NaN   yes  \n",
       "1             NaN   yes  \n",
       "2             NaN   yes  \n",
       "3             NaN   yes  \n",
       "4             NaN   yes  "
      ],
      "text/html": [
       "<div>\n",
       "<style scoped>\n",
       "    .dataframe tbody tr th:only-of-type {\n",
       "        vertical-align: middle;\n",
       "    }\n",
       "\n",
       "    .dataframe tbody tr th {\n",
       "        vertical-align: top;\n",
       "    }\n",
       "\n",
       "    .dataframe thead th {\n",
       "        text-align: right;\n",
       "    }\n",
       "</style>\n",
       "<table border=\"1\" class=\"dataframe\">\n",
       "  <thead>\n",
       "    <tr style=\"text-align: right;\">\n",
       "      <th></th>\n",
       "      <th>Unnamed: 0</th>\n",
       "      <th>created_at</th>\n",
       "      <th>user_id</th>\n",
       "      <th>product_name</th>\n",
       "      <th>product_id</th>\n",
       "      <th>amount_dollars</th>\n",
       "      <th>amount_cents</th>\n",
       "      <th>subscription</th>\n",
       "      <th>coupon_code</th>\n",
       "      <th>coupon_id</th>\n",
       "      <th>affiliate_referral_code</th>\n",
       "      <th>status</th>\n",
       "      <th>quest_id</th>\n",
       "      <th>modified_at</th>\n",
       "      <th>course_id</th>\n",
       "      <th>transaction_id</th>\n",
       "      <th>payed</th>\n",
       "    </tr>\n",
       "  </thead>\n",
       "  <tbody>\n",
       "    <tr>\n",
       "      <th>0</th>\n",
       "      <td>0</td>\n",
       "      <td>2021-03-14T15:34:35.014Z</td>\n",
       "      <td>41587952</td>\n",
       "      <td>Entwodiksyon Nan Syans Done</td>\n",
       "      <td>1100636.0</td>\n",
       "      <td>20.0</td>\n",
       "      <td>2000.0</td>\n",
       "      <td>False</td>\n",
       "      <td>NaN</td>\n",
       "      <td>NaN</td>\n",
       "      <td>NaN</td>\n",
       "      <td>Complete</td>\n",
       "      <td>906b3c86-ce95-11eb-b6a7-7c67a234f601</td>\n",
       "      <td>NaN</td>\n",
       "      <td>NaN</td>\n",
       "      <td>NaN</td>\n",
       "      <td>yes</td>\n",
       "    </tr>\n",
       "    <tr>\n",
       "      <th>1</th>\n",
       "      <td>1</td>\n",
       "      <td>2021-03-14T04:20:23.483Z</td>\n",
       "      <td>41564742</td>\n",
       "      <td>Entwodiksyon Nan Syans Done</td>\n",
       "      <td>1100636.0</td>\n",
       "      <td>20.0</td>\n",
       "      <td>2000.0</td>\n",
       "      <td>False</td>\n",
       "      <td>NaN</td>\n",
       "      <td>NaN</td>\n",
       "      <td>NaN</td>\n",
       "      <td>Complete</td>\n",
       "      <td>906636cf-ce95-11eb-8679-7c67a234f601</td>\n",
       "      <td>NaN</td>\n",
       "      <td>NaN</td>\n",
       "      <td>NaN</td>\n",
       "      <td>yes</td>\n",
       "    </tr>\n",
       "    <tr>\n",
       "      <th>2</th>\n",
       "      <td>2</td>\n",
       "      <td>2021-03-12T19:29:22.832Z</td>\n",
       "      <td>41501853</td>\n",
       "      <td>Entwodiksyon Nan Syans Done</td>\n",
       "      <td>1100636.0</td>\n",
       "      <td>20.0</td>\n",
       "      <td>2000.0</td>\n",
       "      <td>False</td>\n",
       "      <td>NaN</td>\n",
       "      <td>NaN</td>\n",
       "      <td>NaN</td>\n",
       "      <td>Complete</td>\n",
       "      <td>906968f5-ce95-11eb-9e1a-7c67a234f601</td>\n",
       "      <td>NaN</td>\n",
       "      <td>NaN</td>\n",
       "      <td>NaN</td>\n",
       "      <td>yes</td>\n",
       "    </tr>\n",
       "    <tr>\n",
       "      <th>3</th>\n",
       "      <td>3</td>\n",
       "      <td>2021-03-12T14:23:11.154Z</td>\n",
       "      <td>40284930</td>\n",
       "      <td>Entwodiksyon Nan Syans Done</td>\n",
       "      <td>1100636.0</td>\n",
       "      <td>0.0</td>\n",
       "      <td>0.0</td>\n",
       "      <td>False</td>\n",
       "      <td>impact_hub_coupon</td>\n",
       "      <td>6658457.0</td>\n",
       "      <td>NaN</td>\n",
       "      <td>Complete</td>\n",
       "      <td>9060477c-ce95-11eb-ace3-7c67a234f601</td>\n",
       "      <td>NaN</td>\n",
       "      <td>NaN</td>\n",
       "      <td>NaN</td>\n",
       "      <td>yes</td>\n",
       "    </tr>\n",
       "    <tr>\n",
       "      <th>4</th>\n",
       "      <td>4</td>\n",
       "      <td>2021-03-11T16:01:17.901Z</td>\n",
       "      <td>40281483</td>\n",
       "      <td>Entwodiksyon Nan Syans Done</td>\n",
       "      <td>1100636.0</td>\n",
       "      <td>20.0</td>\n",
       "      <td>2000.0</td>\n",
       "      <td>False</td>\n",
       "      <td>NaN</td>\n",
       "      <td>NaN</td>\n",
       "      <td>NaN</td>\n",
       "      <td>Complete</td>\n",
       "      <td>9064ff29-ce95-11eb-a3d3-7c67a234f601</td>\n",
       "      <td>NaN</td>\n",
       "      <td>NaN</td>\n",
       "      <td>NaN</td>\n",
       "      <td>yes</td>\n",
       "    </tr>\n",
       "  </tbody>\n",
       "</table>\n",
       "</div>"
      ]
     },
     "metadata": {},
     "execution_count": 365
    }
   ],
   "metadata": {}
  },
  {
   "cell_type": "code",
   "execution_count": 366,
   "source": [
    "#And then I merge the old merging \"result4\" with 'resulta'\r\n",
    "result5 = pd.merge(left=result4, right=resulta, how = 'left',on='user_id')"
   ],
   "outputs": [],
   "metadata": {}
  },
  {
   "cell_type": "code",
   "execution_count": 367,
   "source": [
    "# I replace the unsuported format with the good format so that I will have a date format\r\n",
    "result5[\"dob\"].replace({\"3 aout 1977\": \"3/08/1977\"}, inplace=True)\r\n",
    "#I convert the new value into datetime\r\n",
    "result5[\"dob\"] = pd.to_datetime(result5[\"dob\"])"
   ],
   "outputs": [],
   "metadata": {}
  },
  {
   "cell_type": "code",
   "execution_count": 368,
   "source": [
    "#I also  convert the values in the columns \"created_at\" into datetime\r\n",
    "result5[\"payment_date\"] = pd.to_datetime(result5[\"payment_date\"])"
   ],
   "outputs": [],
   "metadata": {}
  },
  {
   "cell_type": "code",
   "execution_count": 369,
   "source": [
    "#I use this function to determine the age\r\n",
    "result5[\"age\"] = (-(result5[\"dob\"]-result5[\"payment_date\"])//365)"
   ],
   "outputs": [],
   "metadata": {}
  },
  {
   "cell_type": "code",
   "execution_count": 370,
   "source": [
    "result5[\"age\"] = result5[\"age\"].apply(lambda x: str(x)[:2])"
   ],
   "outputs": [],
   "metadata": {}
  },
  {
   "cell_type": "code",
   "execution_count": 371,
   "source": [
    "result5.columns"
   ],
   "outputs": [
    {
     "output_type": "execute_result",
     "data": {
      "text/plain": [
       "Index(['gender', 'dob', 'commune', 'payment_date', 'education_level',\n",
       "       'study_domain', 'internet_at_home', 'have_computer_home', 'hear_AA_1',\n",
       "       'after_AA', 'job_is_formal', 'quest_id_x', 'enroll_date', 'is_enroll',\n",
       "       'user_id', 'Accounting', 'Computer Science', 'Economics',\n",
       "       'Electrical Engineering', 'Law', 'Management', 'Medicine', 'Statistics',\n",
       "       'other_x', 'Bash', 'Excel', 'Git', 'Java', 'JavaScript', 'PHP',\n",
       "       'PowerBI or Tableau', 'Python', 'R', 'SQL', 'VBA', 'other_y',\n",
       "       'Communications', 'Consulting', 'Education', 'Energy', 'Finance',\n",
       "       'Healthcare', 'Insurance', 'Manufacturing', 'Marketing',\n",
       "       'Public Sector/ Non-Profit Agencies', 'Retail/ E-Commerce',\n",
       "       'Technology (Software/ Internet)', 'Transportation', 'other',\n",
       "       'Commune_FR', 'Unnamed: 0', 'created_at', 'product_name', 'product_id',\n",
       "       'amount_dollars', 'amount_cents', 'subscription', 'coupon_code',\n",
       "       'coupon_id', 'affiliate_referral_code', 'status', 'quest_id_y',\n",
       "       'modified_at', 'course_id', 'transaction_id', 'payed', 'age'],\n",
       "      dtype='object')"
      ]
     },
     "metadata": {},
     "execution_count": 371
    }
   ],
   "metadata": {}
  },
  {
   "cell_type": "code",
   "execution_count": 372,
   "source": [
    "result5=result5[['gender','dob', 'payment_date', 'education_level',\r\n",
    "       'study_domain', 'internet_at_home', 'have_computer_home', 'hear_AA_1',\r\n",
    "       'after_AA', 'job_is_formal', 'quest_id_x', 'is_enroll',\r\n",
    "       'Accounting', 'Computer Science', 'Economics', 'Electrical Engineering',\r\n",
    "       'Law', 'Management', 'Medicine', 'Statistics', 'Bash',\r\n",
    "       'Excel', 'Git', 'Java', 'JavaScript', 'PHP', 'PowerBI or Tableau',\r\n",
    "       'Python', 'R', 'SQL', 'VBA', 'Commune_FR', 'age','payed']]\r\n",
    "result5.shape"
   ],
   "outputs": [
    {
     "output_type": "execute_result",
     "data": {
      "text/plain": [
       "(250, 34)"
      ]
     },
     "metadata": {},
     "execution_count": 372
    }
   ],
   "metadata": {}
  },
  {
   "cell_type": "code",
   "execution_count": 373,
   "source": [
    "#Rename a column\r\n",
    "result5.rename(columns={\"quest_id_x\": \"quest_id\"}, inplace=1)"
   ],
   "outputs": [],
   "metadata": {}
  },
  {
   "cell_type": "code",
   "execution_count": 374,
   "source": [
    "result5.dob = result5[\"dob\"].fillna(value =result5.dob.mean())"
   ],
   "outputs": [],
   "metadata": {}
  },
  {
   "cell_type": "code",
   "execution_count": 375,
   "source": [
    "#I use this function to determine the age\r\n",
    "result5[\"age1\"]=(result5[\"payment_date\"] -result5[\"dob\"])"
   ],
   "outputs": [],
   "metadata": {}
  },
  {
   "cell_type": "code",
   "execution_count": 376,
   "source": [
    "result5[\"age1\"] = result5[\"age1\"]// np.timedelta64(1,\"Y\")"
   ],
   "outputs": [],
   "metadata": {}
  },
  {
   "cell_type": "code",
   "execution_count": 377,
   "source": [
    "#Drop of two columns\r\n",
    "result5.drop(\"age\", axis=1, inplace=True)\r\n",
    "result5.drop(\"dob\", axis=1, inplace=True)"
   ],
   "outputs": [],
   "metadata": {}
  },
  {
   "cell_type": "code",
   "execution_count": 378,
   "source": [
    "#I print all the columns\r\n",
    "result5.columns"
   ],
   "outputs": [
    {
     "output_type": "execute_result",
     "data": {
      "text/plain": [
       "Index(['gender', 'payment_date', 'education_level', 'study_domain',\n",
       "       'internet_at_home', 'have_computer_home', 'hear_AA_1', 'after_AA',\n",
       "       'job_is_formal', 'quest_id', 'is_enroll', 'Accounting',\n",
       "       'Computer Science', 'Economics', 'Electrical Engineering', 'Law',\n",
       "       'Management', 'Medicine', 'Statistics', 'Bash', 'Excel', 'Git', 'Java',\n",
       "       'JavaScript', 'PHP', 'PowerBI or Tableau', 'Python', 'R', 'SQL', 'VBA',\n",
       "       'Commune_FR', 'payed', 'age1'],\n",
       "      dtype='object')"
      ]
     },
     "metadata": {},
     "execution_count": 378
    }
   ],
   "metadata": {}
  },
  {
   "cell_type": "code",
   "execution_count": 379,
   "source": [
    "#I look for the ages < 18 years old\r\n",
    "result5[result5.age1<18]"
   ],
   "outputs": [
    {
     "output_type": "execute_result",
     "data": {
      "text/plain": [
       "     gender payment_date         education_level study_domain  \\\n",
       "25     male   2021-02-19  High School (16 years)    ['item1']   \n",
       "92     male   2021-02-18                   Other    ['item1']   \n",
       "176    male   2021-02-19     Bachelors (bacc +4)    ['item1']   \n",
       "209  female   2021-02-16                   Other    ['other']   \n",
       "210  female   2021-02-17                   Other    ['item1']   \n",
       "219    male   2021-02-19     Bachelors (bacc +4)    ['other']   \n",
       "229    male   2021-02-20     Bachelors (bacc +4)    ['item6']   \n",
       "\n",
       "    internet_at_home have_computer_home hear_AA_1  \\\n",
       "25               Yes                Yes  WhatsApp   \n",
       "92               Yes                Yes    Friend   \n",
       "176               No                Yes  WhatsApp   \n",
       "209               No                 No  WhatsApp   \n",
       "210              Yes                Yes      ESIH   \n",
       "219              Yes                Yes  Facebook   \n",
       "229              Yes                Yes  Facebook   \n",
       "\n",
       "                              after_AA job_is_formal  \\\n",
       "25                          Mentorship           Yes   \n",
       "92   Improving my data analysis skills       unknown   \n",
       "176   Training to start my own company       unknown   \n",
       "209  Improving my data analysis skills       unknown   \n",
       "210  Improving my data analysis skills       unknown   \n",
       "219           Finding a job/internship       unknown   \n",
       "229  Improving my data analysis skills           Yes   \n",
       "\n",
       "                                 quest_id  ... JavaScript  PHP  \\\n",
       "25   906036c8-ce95-11eb-8c78-7c67a234f601  ...        1.0  0.0   \n",
       "92   9064923b-ce95-11eb-a771-7c67a234f601  ...        0.0  0.0   \n",
       "176  9067e4c0-ce95-11eb-bebe-7c67a234f601  ...        0.0  0.0   \n",
       "209  9069a205-ce95-11eb-be5a-7c67a234f601  ...        0.0  0.0   \n",
       "210  9069a206-ce95-11eb-9c6f-7c67a234f601  ...        0.0  1.0   \n",
       "219  9069ddd8-ce95-11eb-b0fb-7c67a234f601  ...        0.0  0.0   \n",
       "229  906a52b4-ce95-11eb-b9bd-7c67a234f601  ...        0.0  0.0   \n",
       "\n",
       "     PowerBI or Tableau  Python    R  SQL  VBA      Commune_FR  payed  age1  \n",
       "25                  0.0     0.0  0.0  0.0  0.0  Port-au-Prince    NaN    -1  \n",
       "92                  0.0     0.0  0.0  1.0  0.0          Delmas    NaN    -1  \n",
       "176                 0.0     0.0  1.0  0.0  0.0    Pétion-Ville    NaN     0  \n",
       "209                 0.0     0.0  0.0  0.0  0.0       Les Cayes    NaN     1  \n",
       "210                 0.0     0.0  0.0  1.0  0.0     Cité Soleil    NaN    -1  \n",
       "219                 0.0     0.0  0.0  0.0  0.0  Sainte Suzanne    NaN    -1  \n",
       "229                 0.0     0.0  0.0  0.0  0.0     Ouanaminthe    NaN    -1  \n",
       "\n",
       "[7 rows x 33 columns]"
      ],
      "text/html": [
       "<div>\n",
       "<style scoped>\n",
       "    .dataframe tbody tr th:only-of-type {\n",
       "        vertical-align: middle;\n",
       "    }\n",
       "\n",
       "    .dataframe tbody tr th {\n",
       "        vertical-align: top;\n",
       "    }\n",
       "\n",
       "    .dataframe thead th {\n",
       "        text-align: right;\n",
       "    }\n",
       "</style>\n",
       "<table border=\"1\" class=\"dataframe\">\n",
       "  <thead>\n",
       "    <tr style=\"text-align: right;\">\n",
       "      <th></th>\n",
       "      <th>gender</th>\n",
       "      <th>payment_date</th>\n",
       "      <th>education_level</th>\n",
       "      <th>study_domain</th>\n",
       "      <th>internet_at_home</th>\n",
       "      <th>have_computer_home</th>\n",
       "      <th>hear_AA_1</th>\n",
       "      <th>after_AA</th>\n",
       "      <th>job_is_formal</th>\n",
       "      <th>quest_id</th>\n",
       "      <th>...</th>\n",
       "      <th>JavaScript</th>\n",
       "      <th>PHP</th>\n",
       "      <th>PowerBI or Tableau</th>\n",
       "      <th>Python</th>\n",
       "      <th>R</th>\n",
       "      <th>SQL</th>\n",
       "      <th>VBA</th>\n",
       "      <th>Commune_FR</th>\n",
       "      <th>payed</th>\n",
       "      <th>age1</th>\n",
       "    </tr>\n",
       "  </thead>\n",
       "  <tbody>\n",
       "    <tr>\n",
       "      <th>25</th>\n",
       "      <td>male</td>\n",
       "      <td>2021-02-19</td>\n",
       "      <td>High School (16 years)</td>\n",
       "      <td>['item1']</td>\n",
       "      <td>Yes</td>\n",
       "      <td>Yes</td>\n",
       "      <td>WhatsApp</td>\n",
       "      <td>Mentorship</td>\n",
       "      <td>Yes</td>\n",
       "      <td>906036c8-ce95-11eb-8c78-7c67a234f601</td>\n",
       "      <td>...</td>\n",
       "      <td>1.0</td>\n",
       "      <td>0.0</td>\n",
       "      <td>0.0</td>\n",
       "      <td>0.0</td>\n",
       "      <td>0.0</td>\n",
       "      <td>0.0</td>\n",
       "      <td>0.0</td>\n",
       "      <td>Port-au-Prince</td>\n",
       "      <td>NaN</td>\n",
       "      <td>-1</td>\n",
       "    </tr>\n",
       "    <tr>\n",
       "      <th>92</th>\n",
       "      <td>male</td>\n",
       "      <td>2021-02-18</td>\n",
       "      <td>Other</td>\n",
       "      <td>['item1']</td>\n",
       "      <td>Yes</td>\n",
       "      <td>Yes</td>\n",
       "      <td>Friend</td>\n",
       "      <td>Improving my data analysis skills</td>\n",
       "      <td>unknown</td>\n",
       "      <td>9064923b-ce95-11eb-a771-7c67a234f601</td>\n",
       "      <td>...</td>\n",
       "      <td>0.0</td>\n",
       "      <td>0.0</td>\n",
       "      <td>0.0</td>\n",
       "      <td>0.0</td>\n",
       "      <td>0.0</td>\n",
       "      <td>1.0</td>\n",
       "      <td>0.0</td>\n",
       "      <td>Delmas</td>\n",
       "      <td>NaN</td>\n",
       "      <td>-1</td>\n",
       "    </tr>\n",
       "    <tr>\n",
       "      <th>176</th>\n",
       "      <td>male</td>\n",
       "      <td>2021-02-19</td>\n",
       "      <td>Bachelors (bacc +4)</td>\n",
       "      <td>['item1']</td>\n",
       "      <td>No</td>\n",
       "      <td>Yes</td>\n",
       "      <td>WhatsApp</td>\n",
       "      <td>Training to start my own company</td>\n",
       "      <td>unknown</td>\n",
       "      <td>9067e4c0-ce95-11eb-bebe-7c67a234f601</td>\n",
       "      <td>...</td>\n",
       "      <td>0.0</td>\n",
       "      <td>0.0</td>\n",
       "      <td>0.0</td>\n",
       "      <td>0.0</td>\n",
       "      <td>1.0</td>\n",
       "      <td>0.0</td>\n",
       "      <td>0.0</td>\n",
       "      <td>Pétion-Ville</td>\n",
       "      <td>NaN</td>\n",
       "      <td>0</td>\n",
       "    </tr>\n",
       "    <tr>\n",
       "      <th>209</th>\n",
       "      <td>female</td>\n",
       "      <td>2021-02-16</td>\n",
       "      <td>Other</td>\n",
       "      <td>['other']</td>\n",
       "      <td>No</td>\n",
       "      <td>No</td>\n",
       "      <td>WhatsApp</td>\n",
       "      <td>Improving my data analysis skills</td>\n",
       "      <td>unknown</td>\n",
       "      <td>9069a205-ce95-11eb-be5a-7c67a234f601</td>\n",
       "      <td>...</td>\n",
       "      <td>0.0</td>\n",
       "      <td>0.0</td>\n",
       "      <td>0.0</td>\n",
       "      <td>0.0</td>\n",
       "      <td>0.0</td>\n",
       "      <td>0.0</td>\n",
       "      <td>0.0</td>\n",
       "      <td>Les Cayes</td>\n",
       "      <td>NaN</td>\n",
       "      <td>1</td>\n",
       "    </tr>\n",
       "    <tr>\n",
       "      <th>210</th>\n",
       "      <td>female</td>\n",
       "      <td>2021-02-17</td>\n",
       "      <td>Other</td>\n",
       "      <td>['item1']</td>\n",
       "      <td>Yes</td>\n",
       "      <td>Yes</td>\n",
       "      <td>ESIH</td>\n",
       "      <td>Improving my data analysis skills</td>\n",
       "      <td>unknown</td>\n",
       "      <td>9069a206-ce95-11eb-9c6f-7c67a234f601</td>\n",
       "      <td>...</td>\n",
       "      <td>0.0</td>\n",
       "      <td>1.0</td>\n",
       "      <td>0.0</td>\n",
       "      <td>0.0</td>\n",
       "      <td>0.0</td>\n",
       "      <td>1.0</td>\n",
       "      <td>0.0</td>\n",
       "      <td>Cité Soleil</td>\n",
       "      <td>NaN</td>\n",
       "      <td>-1</td>\n",
       "    </tr>\n",
       "    <tr>\n",
       "      <th>219</th>\n",
       "      <td>male</td>\n",
       "      <td>2021-02-19</td>\n",
       "      <td>Bachelors (bacc +4)</td>\n",
       "      <td>['other']</td>\n",
       "      <td>Yes</td>\n",
       "      <td>Yes</td>\n",
       "      <td>Facebook</td>\n",
       "      <td>Finding a job/internship</td>\n",
       "      <td>unknown</td>\n",
       "      <td>9069ddd8-ce95-11eb-b0fb-7c67a234f601</td>\n",
       "      <td>...</td>\n",
       "      <td>0.0</td>\n",
       "      <td>0.0</td>\n",
       "      <td>0.0</td>\n",
       "      <td>0.0</td>\n",
       "      <td>0.0</td>\n",
       "      <td>0.0</td>\n",
       "      <td>0.0</td>\n",
       "      <td>Sainte Suzanne</td>\n",
       "      <td>NaN</td>\n",
       "      <td>-1</td>\n",
       "    </tr>\n",
       "    <tr>\n",
       "      <th>229</th>\n",
       "      <td>male</td>\n",
       "      <td>2021-02-20</td>\n",
       "      <td>Bachelors (bacc +4)</td>\n",
       "      <td>['item6']</td>\n",
       "      <td>Yes</td>\n",
       "      <td>Yes</td>\n",
       "      <td>Facebook</td>\n",
       "      <td>Improving my data analysis skills</td>\n",
       "      <td>Yes</td>\n",
       "      <td>906a52b4-ce95-11eb-b9bd-7c67a234f601</td>\n",
       "      <td>...</td>\n",
       "      <td>0.0</td>\n",
       "      <td>0.0</td>\n",
       "      <td>0.0</td>\n",
       "      <td>0.0</td>\n",
       "      <td>0.0</td>\n",
       "      <td>0.0</td>\n",
       "      <td>0.0</td>\n",
       "      <td>Ouanaminthe</td>\n",
       "      <td>NaN</td>\n",
       "      <td>-1</td>\n",
       "    </tr>\n",
       "  </tbody>\n",
       "</table>\n",
       "<p>7 rows × 33 columns</p>\n",
       "</div>"
      ]
     },
     "metadata": {},
     "execution_count": 379
    }
   ],
   "metadata": {}
  },
  {
   "cell_type": "code",
   "execution_count": 380,
   "source": [
    "#I replace the ages<18 years old by the mean\r\n",
    "result5['age1']=np.where(result5['age1'].le(18), result5['age1'].mean(),result5['age1'] )"
   ],
   "outputs": [],
   "metadata": {}
  },
  {
   "cell_type": "code",
   "execution_count": 381,
   "source": [
    "#result5[result5.age1<18]"
   ],
   "outputs": [],
   "metadata": {}
  },
  {
   "cell_type": "code",
   "execution_count": 382,
   "source": [
    "#We define a function that can generate barchart\r\n",
    "def generate_barchart(data=result5, title =\"\",abs_value =\"Total\",rel_value=\"Percent\",figsize =(10,6),horizontal=True):\r\n",
    "  plt.figure(figsize=figsize)\r\n",
    "  if horizontal:\r\n",
    "      axes = sns.barplot(data=data,x=abs_value,y=data.index)\r\n",
    "      i=0\r\n",
    "      for tot, perc in zip(data[abs_value],data[rel_value]):\r\n",
    "        axes.text(tot/2,\r\n",
    "                  i,\r\n",
    "                  str(np.round(perc*100,2))+ \"%\",\r\n",
    "                    fontdict=dict(color='White',fontsize=12,horizontalalignment=\"center\")\r\n",
    "                  )\r\n",
    "        axes.text(tot+3,\r\n",
    "                  i,\r\n",
    "                  str(tot),\r\n",
    "                    fontdict=dict(color='blue',fontsize=12,horizontalalignment=\"center\")\r\n",
    "                  )\r\n",
    "        \r\n",
    "        i+=1\r\n",
    "      plt.title(title)\r\n",
    "      plt.show()\r\n",
    "  else:\r\n",
    "        axes = sns.barplot(data=data,y=abs_value,x=data.index)\r\n",
    "        i=0\r\n",
    "        for tot, perc in zip(data[abs_value],data[rel_value]):\r\n",
    "          axes.text(i,\r\n",
    "                    tot/2,\r\n",
    "                    str(np.round(perc*100,2))+ \"%\",\r\n",
    "                      fontdict=dict(color='White',fontsize=12,horizontalalignment=\"center\")\r\n",
    "                    )\r\n",
    "          axes.text(i,\r\n",
    "                    tot+3,\r\n",
    "                    str(tot),\r\n",
    "                      fontdict=dict(color='blue',fontsize=12,horizontalalignment=\"center\")\r\n",
    "                    )\r\n",
    "          \r\n",
    "          i+=1\r\n",
    "        plt.title(title)\r\n",
    "        plt.show()  "
   ],
   "outputs": [],
   "metadata": {}
  },
  {
   "cell_type": "code",
   "execution_count": 383,
   "source": [
    "#Thes fucntion will show the plot and will show the probability\r\n",
    "def prob_category(data,top_n =6,col=\"Pclass_letter\", abs_value =\"Total\",rel_value =\"Percent\",show_plot=False, title=\"\",figsize=(10,20),horizontal=True):\r\n",
    "  # absolute value\r\n",
    "   res1 = data[col].value_counts().to_frame()\r\n",
    "   res1.columns = [abs_value]\r\n",
    "\r\n",
    "   res2 = data[col].value_counts(normalize=True).to_frame()\r\n",
    "   res2.columns = [rel_value]\r\n",
    "   if  not show_plot:\r\n",
    "     return pd.concat([res1,res2],axis=1).head(top_n)\r\n",
    "   else:\r\n",
    "     result = pd.concat([res1,res2],axis=1).head(top_n)\r\n",
    "     generate_barchart(data=result, title =title,abs_value =abs_value,rel_value=rel_value,figsize =figsize,horizontal=horizontal)\r\n",
    "     return result\r\n"
   ],
   "outputs": [],
   "metadata": {}
  },
  {
   "cell_type": "code",
   "execution_count": 384,
   "source": [
    "#I fill the NaN values in the column payed by \"no\"\r\n",
    "result5.payed = result5[\"payed\"].fillna(value =\"no\")"
   ],
   "outputs": [],
   "metadata": {}
  },
  {
   "cell_type": "markdown",
   "source": [
    "###  1. How many observations and variables are there in the dataset\n",
    " "
   ],
   "metadata": {}
  },
  {
   "cell_type": "code",
   "execution_count": 385,
   "source": [
    "# here your codes\r\n",
    "result5.shape\r\n",
    "#The shape of the dataset is (250,33)"
   ],
   "outputs": [
    {
     "output_type": "execute_result",
     "data": {
      "text/plain": [
       "(250, 33)"
      ]
     },
     "metadata": {},
     "execution_count": 385
    }
   ],
   "metadata": {}
  },
  {
   "cell_type": "markdown",
   "source": [
    "### 2.A Calculate the average age of the observations\r\n",
    "   * On the whole dataset\r\n",
    "   * On the whole male dataset\r\n",
    "   * On all the female dataset\r\n",
    "   "
   ],
   "metadata": {}
  },
  {
   "cell_type": "code",
   "execution_count": 386,
   "source": [
    "# here your codes\r\n",
    "result5.age1.mean()"
   ],
   "outputs": [
    {
     "output_type": "execute_result",
     "data": {
      "text/plain": [
       "27.258975999999997"
      ]
     },
     "metadata": {},
     "execution_count": 386
    }
   ],
   "metadata": {}
  },
  {
   "cell_type": "markdown",
   "source": [
    "The average age on the whole dataset is 27.258975"
   ],
   "metadata": {}
  },
  {
   "cell_type": "code",
   "execution_count": 387,
   "source": [
    "result5.groupby('gender')['age1'].mean()\r\n",
    "#The average age on the dataset by gender"
   ],
   "outputs": [
    {
     "output_type": "execute_result",
     "data": {
      "text/plain": [
       "gender\n",
       "female    26.211404\n",
       "male      27.501517\n",
       "Name: age1, dtype: float64"
      ]
     },
     "metadata": {},
     "execution_count": 387
    }
   ],
   "metadata": {}
  },
  {
   "cell_type": "code",
   "execution_count": 388,
   "source": [
    "a=result5[result5.gender==\"male\"]\r\n",
    "#The male dataset is define a\r\n"
   ],
   "outputs": [],
   "metadata": {}
  },
  {
   "cell_type": "code",
   "execution_count": 389,
   "source": [
    "a.age1.mean()"
   ],
   "outputs": [
    {
     "output_type": "execute_result",
     "data": {
      "text/plain": [
       "27.50151724137931"
      ]
     },
     "metadata": {},
     "execution_count": 389
    }
   ],
   "metadata": {}
  },
  {
   "cell_type": "markdown",
   "source": [
    "The average age on the male dataset is 27.501517"
   ],
   "metadata": {}
  },
  {
   "cell_type": "code",
   "execution_count": 390,
   "source": [
    "\r\n",
    "b=result5[result5.gender==\"female\"]\r\n",
    "#The female dataset is define by b"
   ],
   "outputs": [],
   "metadata": {}
  },
  {
   "cell_type": "code",
   "execution_count": 391,
   "source": [
    "b.age1.mean()"
   ],
   "outputs": [
    {
     "output_type": "execute_result",
     "data": {
      "text/plain": [
       "26.211404255319152"
      ]
     },
     "metadata": {},
     "execution_count": 391
    }
   ],
   "metadata": {}
  },
  {
   "cell_type": "markdown",
   "source": [
    "The average age on the female dataset is 26.211404"
   ],
   "metadata": {}
  },
  {
   "cell_type": "markdown",
   "source": [
    "### 2.B Calculate \r\n",
    "   * variance of the whole datatset,male and female\r\n",
    "   * kurtosis of the whole datatset,male and female\r\n",
    "   * skewness of the whole datatset,male and female"
   ],
   "metadata": {}
  },
  {
   "cell_type": "code",
   "execution_count": 392,
   "source": [
    "variance_total=statistics.variance(result5['age1'])\r\n",
    "variance_total\r\n"
   ],
   "outputs": [
    {
     "output_type": "execute_result",
     "data": {
      "text/plain": [
       "29.45581144520482"
      ]
     },
     "metadata": {},
     "execution_count": 392
    }
   ],
   "metadata": {}
  },
  {
   "cell_type": "markdown",
   "source": [
    "The variance on the whole dataset is 29.455811"
   ],
   "metadata": {}
  },
  {
   "cell_type": "code",
   "execution_count": 393,
   "source": [
    "variance_male=statistics.variance(a.age1)\r\n",
    "variance_male"
   ],
   "outputs": [
    {
     "output_type": "execute_result",
     "data": {
      "text/plain": [
       "29.75069146876067"
      ]
     },
     "metadata": {},
     "execution_count": 393
    }
   ],
   "metadata": {}
  },
  {
   "cell_type": "markdown",
   "source": [
    "the variance on the male dataset is 29.750691"
   ],
   "metadata": {}
  },
  {
   "cell_type": "code",
   "execution_count": 394,
   "source": [
    "variance_female=statistics.variance(b.age1)\r\n",
    "variance_female"
   ],
   "outputs": [
    {
     "output_type": "execute_result",
     "data": {
      "text/plain": [
       "27.420381202590193"
      ]
     },
     "metadata": {},
     "execution_count": 394
    }
   ],
   "metadata": {}
  },
  {
   "cell_type": "markdown",
   "source": [
    "the variance on the female dataset is 27.420381"
   ],
   "metadata": {}
  },
  {
   "cell_type": "code",
   "execution_count": 395,
   "source": [
    "#kurtosis\r\n",
    "import scipy.stats as stats\r\n",
    "from scipy.stats import kurtosis\r\n",
    "result5.kurtosis()\r\n",
    "#kurtosis on the whole dataset\r\n",
    "#Kurtosis is a measure of whether or not a distribution is heavy-tailed or light-tailed relative to a normal distribution.\r\n",
    "\r\n",
    "#The kurtosis of a normal distribution is 3.\r\n",
    "#If a given distribution has a kurtosis less than 3, it is said to be playkurtic, which means it tends to produce fewer and less extreme outliers than the normal distribution.\r\n",
    "#If a given distribution has a kurtosis greater than 3, it is said to be leptokurtic, which means it tends to produce more outliers than the normal distribution."
   ],
   "outputs": [
    {
     "output_type": "execute_result",
     "data": {
      "text/plain": [
       "Accounting                15.730040\n",
       "Computer Science          -1.822324\n",
       "Economics                  3.647483\n",
       "Electrical Engineering    57.206719\n",
       "Law                       15.730040\n",
       "Management                 1.835220\n",
       "Medicine                  36.459207\n",
       "Statistics                 8.116408\n",
       "Bash                      19.872111\n",
       "Excel                      0.931824\n",
       "Git                        4.622554\n",
       "Java                      -1.268769\n",
       "JavaScript                -0.176375\n",
       "PHP                       -0.770119\n",
       "PowerBI or Tableau        11.592858\n",
       "Python                    -0.876392\n",
       "R                          2.208377\n",
       "SQL                       -1.650399\n",
       "VBA                       22.635079\n",
       "age1                       2.691457\n",
       "dtype: float64"
      ]
     },
     "metadata": {},
     "execution_count": 395
    }
   ],
   "metadata": {}
  },
  {
   "cell_type": "code",
   "execution_count": 396,
   "source": [
    "a.kurtosis()\r\n",
    "#kurtosis on the male dataset "
   ],
   "outputs": [
    {
     "output_type": "execute_result",
     "data": {
      "text/plain": [
       "Accounting                15.165977\n",
       "Computer Science          -1.916429\n",
       "Economics                  3.824075\n",
       "Electrical Engineering    45.446321\n",
       "Law                       23.810039\n",
       "Management                 1.822540\n",
       "Medicine                  35.347127\n",
       "Statistics                 8.459235\n",
       "Bash                      17.517002\n",
       "Excel                      0.771724\n",
       "Git                        3.867245\n",
       "Java                      -1.220049\n",
       "JavaScript                -0.282823\n",
       "PHP                       -1.066511\n",
       "PowerBI or Tableau         9.486977\n",
       "Python                    -0.952055\n",
       "R                          2.586227\n",
       "SQL                       -1.764333\n",
       "VBA                       17.517002\n",
       "age1                       2.555506\n",
       "dtype: float64"
      ]
     },
     "metadata": {},
     "execution_count": 396
    }
   ],
   "metadata": {}
  },
  {
   "cell_type": "code",
   "execution_count": 397,
   "source": [
    "b.kurtosis()\r\n",
    "#kurtosis on the female dataset"
   ],
   "outputs": [
    {
     "output_type": "execute_result",
     "data": {
      "text/plain": [
       "Accounting                20.819259\n",
       "Computer Science          -0.978281\n",
       "Economics                  3.462183\n",
       "Electrical Engineering     0.000000\n",
       "Law                        5.178817\n",
       "Management                 2.246234\n",
       "Medicine                  47.000000\n",
       "Statistics                 7.770402\n",
       "Bash                      46.000000\n",
       "Excel                      2.099993\n",
       "Git                       11.771965\n",
       "Java                      -1.477597\n",
       "JavaScript                 0.538826\n",
       "PHP                        2.099993\n",
       "PowerBI or Tableau        46.000000\n",
       "Python                    -0.420582\n",
       "R                          1.216445\n",
       "SQL                       -0.766929\n",
       "VBA                        0.000000\n",
       "age1                       4.405175\n",
       "dtype: float64"
      ]
     },
     "metadata": {},
     "execution_count": 397
    }
   ],
   "metadata": {}
  },
  {
   "cell_type": "code",
   "execution_count": 398,
   "source": [
    "#Skewness\r\n",
    "result5.skew()\r\n",
    "#Skewness on the whole dataset"
   ],
   "outputs": [
    {
     "output_type": "execute_result",
     "data": {
      "text/plain": [
       "Accounting                4.195375\n",
       "Computer Science          0.438955\n",
       "Economics                 2.370159\n",
       "Electrical Engineering    7.664063\n",
       "Law                       4.195375\n",
       "Management                1.954545\n",
       "Medicine                  6.177412\n",
       "Statistics                3.170165\n",
       "Bash                      4.659323\n",
       "Excel                    -1.710045\n",
       "Git                       2.566073\n",
       "Java                      0.861219\n",
       "JavaScript                1.350977\n",
       "PHP                       1.111873\n",
       "PowerBI or Tableau        3.673949\n",
       "Python                    1.063419\n",
       "R                         2.047033\n",
       "SQL                       0.602658\n",
       "VBA                       4.944654\n",
       "age1                      1.506350\n",
       "dtype: float64"
      ]
     },
     "metadata": {},
     "execution_count": 398
    }
   ],
   "metadata": {}
  },
  {
   "cell_type": "code",
   "execution_count": 399,
   "source": [
    "a.skew()\r\n",
    "#Skewness on the male dataset"
   ],
   "outputs": [
    {
     "output_type": "execute_result",
     "data": {
      "text/plain": [
       "Accounting                4.124573\n",
       "Computer Science          0.321142\n",
       "Economics                 2.405276\n",
       "Electrical Engineering    6.854562\n",
       "Law                       5.056521\n",
       "Management                1.950420\n",
       "Medicine                  6.081806\n",
       "Statistics                3.220785\n",
       "Bash                      4.397744\n",
       "Excel                    -1.662537\n",
       "Git                       2.414184\n",
       "Java                      0.890156\n",
       "JavaScript                1.311540\n",
       "PHP                       0.971784\n",
       "PowerBI or Tableau        3.375092\n",
       "Python                    1.028428\n",
       "R                         2.135464\n",
       "SQL                       0.503579\n",
       "VBA                       4.397744\n",
       "age1                      1.446218\n",
       "dtype: float64"
      ]
     },
     "metadata": {},
     "execution_count": 399
    }
   ],
   "metadata": {}
  },
  {
   "cell_type": "code",
   "execution_count": 400,
   "source": [
    "b.skew()\r\n",
    "#Skewness on the female dataset"
   ],
   "outputs": [
    {
     "output_type": "execute_result",
     "data": {
      "text/plain": [
       "Accounting                4.683414\n",
       "Computer Science          1.032104\n",
       "Economics                 2.305769\n",
       "Electrical Engineering    0.000000\n",
       "Law                       2.638198\n",
       "Management                2.037747\n",
       "Medicine                  6.855655\n",
       "Statistics                3.072669\n",
       "Bash                      6.782330\n",
       "Excel                    -2.002632\n",
       "Git                       3.641645\n",
       "Java                      0.767231\n",
       "JavaScript                1.586604\n",
       "PHP                       2.002632\n",
       "PowerBI or Tableau        6.782330\n",
       "Python                    1.264775\n",
       "R                         1.779168\n",
       "SQL                       1.126225\n",
       "VBA                       0.000000\n",
       "age1                      1.927113\n",
       "dtype: float64"
      ]
     },
     "metadata": {},
     "execution_count": 400
    }
   ],
   "metadata": {}
  },
  {
   "cell_type": "markdown",
   "source": [
    "### 2.C Does the age distribution follow a normal distribution \r\n",
    "   "
   ],
   "metadata": {}
  },
  {
   "cell_type": "markdown",
   "source": [
    "There are two ways to test normality,\r\n",
    "1. Graphs for Normality test\r\n",
    "2. Statistical Tests for Normality\r\n",
    "# Graphs for Normality test\r\n",
    "Various graphs can be used to test the normality of a variable. Using graphs/plots we can visually see the normality but graphs are not very accurate as statistical methods."
   ],
   "metadata": {}
  },
  {
   "cell_type": "code",
   "execution_count": 401,
   "source": [
    "\r\n",
    "stats.probplot(result5[\"age1\"], dist=\"norm\", plot=pylab)\r\n",
    "pylab.show()"
   ],
   "outputs": [
    {
     "output_type": "display_data",
     "data": {
      "text/plain": [
       "<Figure size 432x288 with 1 Axes>"
      ],
      "image/png": "[encoded data removed]"
     },
     "metadata": {
      "needs_background": "light"
     }
    }
   ],
   "metadata": {}
  },
  {
   "cell_type": "markdown",
   "source": [
    "Q Q or Quantile-Quantile Plot\r\n",
    "It plots two sets of quantiles against one another i.e. theoretical quantiles against the actual quantiles of the variable.\r\n",
    "If our data comes from a normal distribution, we should see all the points sitting on the straight line. In this case we can see that the distribution is not normal."
   ],
   "metadata": {}
  },
  {
   "cell_type": "code",
   "execution_count": 402,
   "source": [
    "ax=sns.boxplot(x=result5.age1)"
   ],
   "outputs": [
    {
     "output_type": "display_data",
     "data": {
      "text/plain": [
       "<Figure size 432x288 with 1 Axes>"
      ],
      "image/png": "[encoded data removed]"
     },
     "metadata": {
      "needs_background": "light"
     }
    }
   ],
   "metadata": {}
  },
  {
   "cell_type": "markdown",
   "source": [
    "Box Plot\r\n",
    "Box Plot also know as a box and whisker plot is another way to visualize the normality of a variable. It displays the distribution of data based on a five-number summary i.e. minimum, first quartile (Q1), median (Q2), third quartile (Q3) and maximum.\r\n",
    "If your variable has a normal distribution, we should see the mean and median in the center. But it's not the case in this example. We can notice that the mean and median are not in the center."
   ],
   "metadata": {}
  },
  {
   "cell_type": "markdown",
   "source": [
    "# Statistical Tests for Normality\r\n",
    "On the other hand, there are many Statistical Tests to check if the distribution of a variable is normal/gaussian. In this section, I am not gonna talk about the math behind but I will show you the python code for each test."
   ],
   "metadata": {}
  },
  {
   "cell_type": "code",
   "execution_count": 403,
   "source": [
    "\r\n",
    "stat, p =shapiro(result5.age1)\r\n",
    "print('stat=%.15f,p=%.15f\\n'% (stat,p))\r\n",
    "if  p> 0.05:\r\n",
    "    print(\"probably Gaussian\")\r\n",
    "else:\r\n",
    "    print(\"probably  not Gaussian\")"
   ],
   "outputs": [
    {
     "output_type": "stream",
     "name": "stdout",
     "text": [
      "stat=0.876894533634186,p=0.000000000000249\n",
      "\n",
      "probably  not Gaussian\n"
     ]
    }
   ],
   "metadata": {}
  },
  {
   "cell_type": "markdown",
   "source": [
    "Shapiro-Wilk Test\r\n",
    "We should start with the Shapiro-Wilk Test. It is the most powerful test to check the normality of a variable.\r\n",
    "If the p-value ≤ 0.05, then we reject the null hypothesis i.e. we assume the distribution of our variable is not normal/gaussian.\r\n",
    "If the p-value > 0.05, then we fail to reject the null hypothesis i.e. we assume the distribution of our variable is normal/gaussian.\r\n",
    "In  this case the p-value is <0.05, that implies that the distribution is not Gaussian or normal."
   ],
   "metadata": {}
  },
  {
   "cell_type": "markdown",
   "source": [
    "### 3.Display the age frequency disbrution\n",
    "   * On the whole dataset\n",
    "   * On the whole male dataset\n",
    "   * On all the female dataset"
   ],
   "metadata": {}
  },
  {
   "cell_type": "code",
   "execution_count": 404,
   "source": [
    "#display(result5.age1.value_counts(normalize=True).to_frame())\r\n",
    "#result['frequency']=result5.age1/result.shape[0]\r\n",
    "prob_category(data=result5,top_n =100,col=\"age1\", abs_value =\"Total\",rel_value =\"Percent\",show_plot=False, title=\"\",figsize=(10,20),horizontal=False)"
   ],
   "outputs": [
    {
     "output_type": "execute_result",
     "data": {
      "text/plain": [
       "        Total  Percent\n",
       "24.000     27    0.108\n",
       "26.000     26    0.104\n",
       "23.000     26    0.104\n",
       "25.000     24    0.096\n",
       "28.000     18    0.072\n",
       "22.000     16    0.064\n",
       "27.000     15    0.060\n",
       "29.000     12    0.048\n",
       "21.000     10    0.040\n",
       "30.000      9    0.036\n",
       "33.000      8    0.032\n",
       "26.468      8    0.032\n",
       "20.000      7    0.028\n",
       "31.000      7    0.028\n",
       "34.000      7    0.028\n",
       "32.000      7    0.028\n",
       "37.000      6    0.024\n",
       "40.000      4    0.016\n",
       "38.000      3    0.012\n",
       "44.000      2    0.008\n",
       "45.000      1    0.004\n",
       "39.000      1    0.004\n",
       "46.000      1    0.004\n",
       "43.000      1    0.004\n",
       "50.000      1    0.004\n",
       "48.000      1    0.004\n",
       "19.000      1    0.004\n",
       "35.000      1    0.004"
      ],
      "text/html": [
       "<div>\n",
       "<style scoped>\n",
       "    .dataframe tbody tr th:only-of-type {\n",
       "        vertical-align: middle;\n",
       "    }\n",
       "\n",
       "    .dataframe tbody tr th {\n",
       "        vertical-align: top;\n",
       "    }\n",
       "\n",
       "    .dataframe thead th {\n",
       "        text-align: right;\n",
       "    }\n",
       "</style>\n",
       "<table border=\"1\" class=\"dataframe\">\n",
       "  <thead>\n",
       "    <tr style=\"text-align: right;\">\n",
       "      <th></th>\n",
       "      <th>Total</th>\n",
       "      <th>Percent</th>\n",
       "    </tr>\n",
       "  </thead>\n",
       "  <tbody>\n",
       "    <tr>\n",
       "      <th>24.000</th>\n",
       "      <td>27</td>\n",
       "      <td>0.108</td>\n",
       "    </tr>\n",
       "    <tr>\n",
       "      <th>26.000</th>\n",
       "      <td>26</td>\n",
       "      <td>0.104</td>\n",
       "    </tr>\n",
       "    <tr>\n",
       "      <th>23.000</th>\n",
       "      <td>26</td>\n",
       "      <td>0.104</td>\n",
       "    </tr>\n",
       "    <tr>\n",
       "      <th>25.000</th>\n",
       "      <td>24</td>\n",
       "      <td>0.096</td>\n",
       "    </tr>\n",
       "    <tr>\n",
       "      <th>28.000</th>\n",
       "      <td>18</td>\n",
       "      <td>0.072</td>\n",
       "    </tr>\n",
       "    <tr>\n",
       "      <th>22.000</th>\n",
       "      <td>16</td>\n",
       "      <td>0.064</td>\n",
       "    </tr>\n",
       "    <tr>\n",
       "      <th>27.000</th>\n",
       "      <td>15</td>\n",
       "      <td>0.060</td>\n",
       "    </tr>\n",
       "    <tr>\n",
       "      <th>29.000</th>\n",
       "      <td>12</td>\n",
       "      <td>0.048</td>\n",
       "    </tr>\n",
       "    <tr>\n",
       "      <th>21.000</th>\n",
       "      <td>10</td>\n",
       "      <td>0.040</td>\n",
       "    </tr>\n",
       "    <tr>\n",
       "      <th>30.000</th>\n",
       "      <td>9</td>\n",
       "      <td>0.036</td>\n",
       "    </tr>\n",
       "    <tr>\n",
       "      <th>33.000</th>\n",
       "      <td>8</td>\n",
       "      <td>0.032</td>\n",
       "    </tr>\n",
       "    <tr>\n",
       "      <th>26.468</th>\n",
       "      <td>8</td>\n",
       "      <td>0.032</td>\n",
       "    </tr>\n",
       "    <tr>\n",
       "      <th>20.000</th>\n",
       "      <td>7</td>\n",
       "      <td>0.028</td>\n",
       "    </tr>\n",
       "    <tr>\n",
       "      <th>31.000</th>\n",
       "      <td>7</td>\n",
       "      <td>0.028</td>\n",
       "    </tr>\n",
       "    <tr>\n",
       "      <th>34.000</th>\n",
       "      <td>7</td>\n",
       "      <td>0.028</td>\n",
       "    </tr>\n",
       "    <tr>\n",
       "      <th>32.000</th>\n",
       "      <td>7</td>\n",
       "      <td>0.028</td>\n",
       "    </tr>\n",
       "    <tr>\n",
       "      <th>37.000</th>\n",
       "      <td>6</td>\n",
       "      <td>0.024</td>\n",
       "    </tr>\n",
       "    <tr>\n",
       "      <th>40.000</th>\n",
       "      <td>4</td>\n",
       "      <td>0.016</td>\n",
       "    </tr>\n",
       "    <tr>\n",
       "      <th>38.000</th>\n",
       "      <td>3</td>\n",
       "      <td>0.012</td>\n",
       "    </tr>\n",
       "    <tr>\n",
       "      <th>44.000</th>\n",
       "      <td>2</td>\n",
       "      <td>0.008</td>\n",
       "    </tr>\n",
       "    <tr>\n",
       "      <th>45.000</th>\n",
       "      <td>1</td>\n",
       "      <td>0.004</td>\n",
       "    </tr>\n",
       "    <tr>\n",
       "      <th>39.000</th>\n",
       "      <td>1</td>\n",
       "      <td>0.004</td>\n",
       "    </tr>\n",
       "    <tr>\n",
       "      <th>46.000</th>\n",
       "      <td>1</td>\n",
       "      <td>0.004</td>\n",
       "    </tr>\n",
       "    <tr>\n",
       "      <th>43.000</th>\n",
       "      <td>1</td>\n",
       "      <td>0.004</td>\n",
       "    </tr>\n",
       "    <tr>\n",
       "      <th>50.000</th>\n",
       "      <td>1</td>\n",
       "      <td>0.004</td>\n",
       "    </tr>\n",
       "    <tr>\n",
       "      <th>48.000</th>\n",
       "      <td>1</td>\n",
       "      <td>0.004</td>\n",
       "    </tr>\n",
       "    <tr>\n",
       "      <th>19.000</th>\n",
       "      <td>1</td>\n",
       "      <td>0.004</td>\n",
       "    </tr>\n",
       "    <tr>\n",
       "      <th>35.000</th>\n",
       "      <td>1</td>\n",
       "      <td>0.004</td>\n",
       "    </tr>\n",
       "  </tbody>\n",
       "</table>\n",
       "</div>"
      ]
     },
     "metadata": {},
     "execution_count": 404
    }
   ],
   "metadata": {}
  },
  {
   "cell_type": "code",
   "execution_count": 405,
   "source": [
    "#result5[\"e\"]=(a.age1/result5.shape[0]).to_frame()\r\n",
    "result5[\"e\"]=(a.age1)\r\n"
   ],
   "outputs": [],
   "metadata": {}
  },
  {
   "cell_type": "code",
   "execution_count": 406,
   "source": [
    "prob_category(data=result5,top_n =100,col=\"e\", abs_value =\"Total\",rel_value =\"Percent\",show_plot=False, title=\"\",figsize=(10,20),horizontal=False)"
   ],
   "outputs": [
    {
     "output_type": "execute_result",
     "data": {
      "text/plain": [
       "        Total   Percent\n",
       "24.000     24  0.118227\n",
       "25.000     21  0.103448\n",
       "23.000     21  0.103448\n",
       "26.000     18  0.088670\n",
       "28.000     15  0.073892\n",
       "27.000     13  0.064039\n",
       "29.000     10  0.049261\n",
       "30.000      9  0.044335\n",
       "33.000      8  0.039409\n",
       "22.000      8  0.039409\n",
       "21.000      7  0.034483\n",
       "31.000      6  0.029557\n",
       "26.468      6  0.029557\n",
       "20.000      6  0.029557\n",
       "34.000      6  0.029557\n",
       "37.000      5  0.024631\n",
       "32.000      5  0.024631\n",
       "40.000      4  0.019704\n",
       "38.000      3  0.014778\n",
       "44.000      2  0.009852\n",
       "39.000      1  0.004926\n",
       "46.000      1  0.004926\n",
       "50.000      1  0.004926\n",
       "48.000      1  0.004926\n",
       "19.000      1  0.004926\n",
       "35.000      1  0.004926"
      ],
      "text/html": [
       "<div>\n",
       "<style scoped>\n",
       "    .dataframe tbody tr th:only-of-type {\n",
       "        vertical-align: middle;\n",
       "    }\n",
       "\n",
       "    .dataframe tbody tr th {\n",
       "        vertical-align: top;\n",
       "    }\n",
       "\n",
       "    .dataframe thead th {\n",
       "        text-align: right;\n",
       "    }\n",
       "</style>\n",
       "<table border=\"1\" class=\"dataframe\">\n",
       "  <thead>\n",
       "    <tr style=\"text-align: right;\">\n",
       "      <th></th>\n",
       "      <th>Total</th>\n",
       "      <th>Percent</th>\n",
       "    </tr>\n",
       "  </thead>\n",
       "  <tbody>\n",
       "    <tr>\n",
       "      <th>24.000</th>\n",
       "      <td>24</td>\n",
       "      <td>0.118227</td>\n",
       "    </tr>\n",
       "    <tr>\n",
       "      <th>25.000</th>\n",
       "      <td>21</td>\n",
       "      <td>0.103448</td>\n",
       "    </tr>\n",
       "    <tr>\n",
       "      <th>23.000</th>\n",
       "      <td>21</td>\n",
       "      <td>0.103448</td>\n",
       "    </tr>\n",
       "    <tr>\n",
       "      <th>26.000</th>\n",
       "      <td>18</td>\n",
       "      <td>0.088670</td>\n",
       "    </tr>\n",
       "    <tr>\n",
       "      <th>28.000</th>\n",
       "      <td>15</td>\n",
       "      <td>0.073892</td>\n",
       "    </tr>\n",
       "    <tr>\n",
       "      <th>27.000</th>\n",
       "      <td>13</td>\n",
       "      <td>0.064039</td>\n",
       "    </tr>\n",
       "    <tr>\n",
       "      <th>29.000</th>\n",
       "      <td>10</td>\n",
       "      <td>0.049261</td>\n",
       "    </tr>\n",
       "    <tr>\n",
       "      <th>30.000</th>\n",
       "      <td>9</td>\n",
       "      <td>0.044335</td>\n",
       "    </tr>\n",
       "    <tr>\n",
       "      <th>33.000</th>\n",
       "      <td>8</td>\n",
       "      <td>0.039409</td>\n",
       "    </tr>\n",
       "    <tr>\n",
       "      <th>22.000</th>\n",
       "      <td>8</td>\n",
       "      <td>0.039409</td>\n",
       "    </tr>\n",
       "    <tr>\n",
       "      <th>21.000</th>\n",
       "      <td>7</td>\n",
       "      <td>0.034483</td>\n",
       "    </tr>\n",
       "    <tr>\n",
       "      <th>31.000</th>\n",
       "      <td>6</td>\n",
       "      <td>0.029557</td>\n",
       "    </tr>\n",
       "    <tr>\n",
       "      <th>26.468</th>\n",
       "      <td>6</td>\n",
       "      <td>0.029557</td>\n",
       "    </tr>\n",
       "    <tr>\n",
       "      <th>20.000</th>\n",
       "      <td>6</td>\n",
       "      <td>0.029557</td>\n",
       "    </tr>\n",
       "    <tr>\n",
       "      <th>34.000</th>\n",
       "      <td>6</td>\n",
       "      <td>0.029557</td>\n",
       "    </tr>\n",
       "    <tr>\n",
       "      <th>37.000</th>\n",
       "      <td>5</td>\n",
       "      <td>0.024631</td>\n",
       "    </tr>\n",
       "    <tr>\n",
       "      <th>32.000</th>\n",
       "      <td>5</td>\n",
       "      <td>0.024631</td>\n",
       "    </tr>\n",
       "    <tr>\n",
       "      <th>40.000</th>\n",
       "      <td>4</td>\n",
       "      <td>0.019704</td>\n",
       "    </tr>\n",
       "    <tr>\n",
       "      <th>38.000</th>\n",
       "      <td>3</td>\n",
       "      <td>0.014778</td>\n",
       "    </tr>\n",
       "    <tr>\n",
       "      <th>44.000</th>\n",
       "      <td>2</td>\n",
       "      <td>0.009852</td>\n",
       "    </tr>\n",
       "    <tr>\n",
       "      <th>39.000</th>\n",
       "      <td>1</td>\n",
       "      <td>0.004926</td>\n",
       "    </tr>\n",
       "    <tr>\n",
       "      <th>46.000</th>\n",
       "      <td>1</td>\n",
       "      <td>0.004926</td>\n",
       "    </tr>\n",
       "    <tr>\n",
       "      <th>50.000</th>\n",
       "      <td>1</td>\n",
       "      <td>0.004926</td>\n",
       "    </tr>\n",
       "    <tr>\n",
       "      <th>48.000</th>\n",
       "      <td>1</td>\n",
       "      <td>0.004926</td>\n",
       "    </tr>\n",
       "    <tr>\n",
       "      <th>19.000</th>\n",
       "      <td>1</td>\n",
       "      <td>0.004926</td>\n",
       "    </tr>\n",
       "    <tr>\n",
       "      <th>35.000</th>\n",
       "      <td>1</td>\n",
       "      <td>0.004926</td>\n",
       "    </tr>\n",
       "  </tbody>\n",
       "</table>\n",
       "</div>"
      ]
     },
     "metadata": {},
     "execution_count": 406
    }
   ],
   "metadata": {}
  },
  {
   "cell_type": "code",
   "execution_count": 407,
   "source": [
    "#result5[\"f\"]=b.age1/result5.shape[0]\r\n",
    "result5[\"f\"]=b.age1"
   ],
   "outputs": [],
   "metadata": {}
  },
  {
   "cell_type": "code",
   "execution_count": 408,
   "source": [
    "prob_category(data=result5,top_n =100,col=\"f\", abs_value =\"Total\",rel_value =\"Percent\",show_plot=False, title=\"\",figsize=(10,20),horizontal=False)"
   ],
   "outputs": [
    {
     "output_type": "execute_result",
     "data": {
      "text/plain": [
       "        Total   Percent\n",
       "26.000      8  0.170213\n",
       "22.000      8  0.170213\n",
       "23.000      5  0.106383\n",
       "25.000      3  0.063830\n",
       "21.000      3  0.063830\n",
       "28.000      3  0.063830\n",
       "24.000      3  0.063830\n",
       "27.000      2  0.042553\n",
       "29.000      2  0.042553\n",
       "32.000      2  0.042553\n",
       "26.468      2  0.042553\n",
       "37.000      1  0.021277\n",
       "31.000      1  0.021277\n",
       "34.000      1  0.021277\n",
       "45.000      1  0.021277\n",
       "43.000      1  0.021277\n",
       "20.000      1  0.021277"
      ],
      "text/html": [
       "<div>\n",
       "<style scoped>\n",
       "    .dataframe tbody tr th:only-of-type {\n",
       "        vertical-align: middle;\n",
       "    }\n",
       "\n",
       "    .dataframe tbody tr th {\n",
       "        vertical-align: top;\n",
       "    }\n",
       "\n",
       "    .dataframe thead th {\n",
       "        text-align: right;\n",
       "    }\n",
       "</style>\n",
       "<table border=\"1\" class=\"dataframe\">\n",
       "  <thead>\n",
       "    <tr style=\"text-align: right;\">\n",
       "      <th></th>\n",
       "      <th>Total</th>\n",
       "      <th>Percent</th>\n",
       "    </tr>\n",
       "  </thead>\n",
       "  <tbody>\n",
       "    <tr>\n",
       "      <th>26.000</th>\n",
       "      <td>8</td>\n",
       "      <td>0.170213</td>\n",
       "    </tr>\n",
       "    <tr>\n",
       "      <th>22.000</th>\n",
       "      <td>8</td>\n",
       "      <td>0.170213</td>\n",
       "    </tr>\n",
       "    <tr>\n",
       "      <th>23.000</th>\n",
       "      <td>5</td>\n",
       "      <td>0.106383</td>\n",
       "    </tr>\n",
       "    <tr>\n",
       "      <th>25.000</th>\n",
       "      <td>3</td>\n",
       "      <td>0.063830</td>\n",
       "    </tr>\n",
       "    <tr>\n",
       "      <th>21.000</th>\n",
       "      <td>3</td>\n",
       "      <td>0.063830</td>\n",
       "    </tr>\n",
       "    <tr>\n",
       "      <th>28.000</th>\n",
       "      <td>3</td>\n",
       "      <td>0.063830</td>\n",
       "    </tr>\n",
       "    <tr>\n",
       "      <th>24.000</th>\n",
       "      <td>3</td>\n",
       "      <td>0.063830</td>\n",
       "    </tr>\n",
       "    <tr>\n",
       "      <th>27.000</th>\n",
       "      <td>2</td>\n",
       "      <td>0.042553</td>\n",
       "    </tr>\n",
       "    <tr>\n",
       "      <th>29.000</th>\n",
       "      <td>2</td>\n",
       "      <td>0.042553</td>\n",
       "    </tr>\n",
       "    <tr>\n",
       "      <th>32.000</th>\n",
       "      <td>2</td>\n",
       "      <td>0.042553</td>\n",
       "    </tr>\n",
       "    <tr>\n",
       "      <th>26.468</th>\n",
       "      <td>2</td>\n",
       "      <td>0.042553</td>\n",
       "    </tr>\n",
       "    <tr>\n",
       "      <th>37.000</th>\n",
       "      <td>1</td>\n",
       "      <td>0.021277</td>\n",
       "    </tr>\n",
       "    <tr>\n",
       "      <th>31.000</th>\n",
       "      <td>1</td>\n",
       "      <td>0.021277</td>\n",
       "    </tr>\n",
       "    <tr>\n",
       "      <th>34.000</th>\n",
       "      <td>1</td>\n",
       "      <td>0.021277</td>\n",
       "    </tr>\n",
       "    <tr>\n",
       "      <th>45.000</th>\n",
       "      <td>1</td>\n",
       "      <td>0.021277</td>\n",
       "    </tr>\n",
       "    <tr>\n",
       "      <th>43.000</th>\n",
       "      <td>1</td>\n",
       "      <td>0.021277</td>\n",
       "    </tr>\n",
       "    <tr>\n",
       "      <th>20.000</th>\n",
       "      <td>1</td>\n",
       "      <td>0.021277</td>\n",
       "    </tr>\n",
       "  </tbody>\n",
       "</table>\n",
       "</div>"
      ]
     },
     "metadata": {},
     "execution_count": 408
    }
   ],
   "metadata": {}
  },
  {
   "cell_type": "code",
   "execution_count": 409,
   "source": [
    "#Age distribution on the whole dataset\r\n",
    "ax = sns.displot(result5.age1,\r\n",
    "                  bins=10,\r\n",
    "                  kde=True,\r\n",
    "                  color=None)\r\n",
    "ax.set(xlabel='age distribution', ylabel='Frequency', title=\"Age distribution on the whole dataset\")"
   ],
   "outputs": [
    {
     "output_type": "execute_result",
     "data": {
      "text/plain": [
       "<seaborn.axisgrid.FacetGrid at 0x23719aea340>"
      ]
     },
     "metadata": {},
     "execution_count": 409
    },
    {
     "output_type": "display_data",
     "data": {
      "text/plain": [
       "<Figure size 360x360 with 1 Axes>"
      ],
      "image/png": "[encoded data removed]"
     },
     "metadata": {
      "needs_background": "light"
     }
    }
   ],
   "metadata": {}
  },
  {
   "cell_type": "code",
   "execution_count": 410,
   "source": [
    "#result5.groupby('gender').age1.plot(kind='kde')\r\n"
   ],
   "outputs": [],
   "metadata": {}
  },
  {
   "cell_type": "code",
   "execution_count": 411,
   "source": [
    "#result5.groupby('gender')['age1'].hist()\r\n",
    "ax = sns.displot(a.age1,\r\n",
    "                  bins=5,\r\n",
    "                  kde=True,\r\n",
    "                  color=None)\r\n",
    "ax.set(xlabel='age distribution', ylabel='Frequency', title=\"Age distribution on the male dataset)"
   ],
   "outputs": [
    {
     "output_type": "error",
     "ename": "SyntaxError",
     "evalue": "EOL while scanning string literal (<ipython-input-411-c13f2b2a95d0>, line 6)",
     "traceback": [
      "\u001b[1;36m  File \u001b[1;32m\"<ipython-input-411-c13f2b2a95d0>\"\u001b[1;36m, line \u001b[1;32m6\u001b[0m\n\u001b[1;33m    ax.set(xlabel='age distribution', ylabel='Frequency', title=\"Age distribution on the male dataset)\u001b[0m\n\u001b[1;37m                                                                                                      ^\u001b[0m\n\u001b[1;31mSyntaxError\u001b[0m\u001b[1;31m:\u001b[0m EOL while scanning string literal\n"
     ]
    }
   ],
   "metadata": {}
  },
  {
   "cell_type": "code",
   "execution_count": null,
   "source": [
    "#result5.groupby('gender')['age1'].plot()\r\n",
    "ax = sns.displot(b.age1,\r\n",
    "                  bins=5,\r\n",
    "                  kde=True,\r\n",
    "                  color=None)\r\n",
    "ax.set(xlabel='age distribution', ylabel='Frequency', title=\"Age distribution on the female dataset)"
   ],
   "outputs": [
    {
     "output_type": "execute_result",
     "data": {
      "text/plain": [
       "<seaborn.axisgrid.FacetGrid at 0x23713cfb550>"
      ]
     },
     "metadata": {},
     "execution_count": 295
    },
    {
     "output_type": "display_data",
     "data": {
      "text/plain": [
       "<Figure size 360x360 with 1 Axes>"
      ],
      "image/png": "[encoded data removed]"
     },
     "metadata": {
      "needs_background": "light"
     }
    }
   ],
   "metadata": {}
  },
  {
   "cell_type": "markdown",
   "source": [
    "### 4. Can we say that the average age (24 years old) of the observations can be considered as the average age of the population likely to participate in this bootcamp. Justify your answer"
   ],
   "metadata": {}
  },
  {
   "cell_type": "markdown",
   "source": [
    "#H0 The average age of the observations can be considered as the average age of the population\r\n",
    "\r\n",
    "#HA The average age of the observations can't be considered as the average age of the population"
   ],
   "metadata": {}
  },
  {
   "cell_type": "code",
   "execution_count": null,
   "source": [
    "#here your codes\r\n",
    "\r\n",
    "#from scipy import stats\r\n",
    "#stats.ttest_1samp(result5[\"age1\"],24)\r\n",
    "#w, p = wilcoxon(result5[\"age1\"])\r\n",
    "#H0 we suppose that the average age of the observations can be considered as the average age of the population\r\n",
    "#HA The average age of the observations can't be considered as the average age of the population\r\n",
    "z_statistic, p_value = wilcoxon(24 -result5[\"age1\"])\r\n",
    "if  p_value< 0.05:\r\n",
    "    print(\"we reject the null hypothesis H0 \")\r\n",
    "else:\r\n",
    "    print(\"we accept the null hypothesis H0\")\r\n",
    "\r\n",
    "print (\"paired wilcoxon-test\", p_value)"
   ],
   "outputs": [
    {
     "output_type": "stream",
     "name": "stdout",
     "text": [
      "we reject the null hypothesis H0 \n",
      "paired wilcoxon-test 1.9373322608272278e-18\n"
     ]
    }
   ],
   "metadata": {}
  },
  {
   "cell_type": "markdown",
   "source": [
    "HA The average age of the observations can't be considered as the average age of the population"
   ],
   "metadata": {}
  },
  {
   "cell_type": "markdown",
   "source": [
    "### 5. Calculate the average age of participants for each communication channel"
   ],
   "metadata": {}
  },
  {
   "cell_type": "code",
   "execution_count": null,
   "source": [
    "#here your codes\r\n",
    "AverAge=result5.groupby('hear_AA_1')['age1'].mean()\r\n",
    "AverAge.to_frame()\r\n",
    "#The average age of participants for each communication channel"
   ],
   "outputs": [
    {
     "output_type": "execute_result",
     "data": {
      "text/plain": [
       "                              age1\n",
       "hear_AA_1                         \n",
       "Ayiti Analytics Website  27.000000\n",
       "Bootcamp Alumni          26.285714\n",
       "ESIH                     25.081556\n",
       "Facebook                 27.398400\n",
       "Friend                   27.103522\n",
       "Instagram                24.400000\n",
       "LinkedIn                 29.933333\n",
       "WhatsApp                 27.718242\n",
       "other                    28.444444\n",
       "unknown                  22.000000"
      ],
      "text/html": [
       "<div>\n",
       "<style scoped>\n",
       "    .dataframe tbody tr th:only-of-type {\n",
       "        vertical-align: middle;\n",
       "    }\n",
       "\n",
       "    .dataframe tbody tr th {\n",
       "        vertical-align: top;\n",
       "    }\n",
       "\n",
       "    .dataframe thead th {\n",
       "        text-align: right;\n",
       "    }\n",
       "</style>\n",
       "<table border=\"1\" class=\"dataframe\">\n",
       "  <thead>\n",
       "    <tr style=\"text-align: right;\">\n",
       "      <th></th>\n",
       "      <th>age1</th>\n",
       "    </tr>\n",
       "    <tr>\n",
       "      <th>hear_AA_1</th>\n",
       "      <th></th>\n",
       "    </tr>\n",
       "  </thead>\n",
       "  <tbody>\n",
       "    <tr>\n",
       "      <th>Ayiti Analytics Website</th>\n",
       "      <td>27.000000</td>\n",
       "    </tr>\n",
       "    <tr>\n",
       "      <th>Bootcamp Alumni</th>\n",
       "      <td>26.285714</td>\n",
       "    </tr>\n",
       "    <tr>\n",
       "      <th>ESIH</th>\n",
       "      <td>25.081556</td>\n",
       "    </tr>\n",
       "    <tr>\n",
       "      <th>Facebook</th>\n",
       "      <td>27.398400</td>\n",
       "    </tr>\n",
       "    <tr>\n",
       "      <th>Friend</th>\n",
       "      <td>27.103522</td>\n",
       "    </tr>\n",
       "    <tr>\n",
       "      <th>Instagram</th>\n",
       "      <td>24.400000</td>\n",
       "    </tr>\n",
       "    <tr>\n",
       "      <th>LinkedIn</th>\n",
       "      <td>29.933333</td>\n",
       "    </tr>\n",
       "    <tr>\n",
       "      <th>WhatsApp</th>\n",
       "      <td>27.718242</td>\n",
       "    </tr>\n",
       "    <tr>\n",
       "      <th>other</th>\n",
       "      <td>28.444444</td>\n",
       "    </tr>\n",
       "    <tr>\n",
       "      <th>unknown</th>\n",
       "      <td>22.000000</td>\n",
       "    </tr>\n",
       "  </tbody>\n",
       "</table>\n",
       "</div>"
      ]
     },
     "metadata": {},
     "execution_count": 297
    }
   ],
   "metadata": {}
  },
  {
   "cell_type": "markdown",
   "source": [
    "### 6. Display an age boxplot for each communication channel"
   ],
   "metadata": {}
  },
  {
   "cell_type": "code",
   "execution_count": null,
   "source": [
    "#here your codes\r\n",
    "#result5.groupby('hear_AA_1')['age1'].plot()\r\n",
    "plt.figure(figsize=(15,8))\r\n",
    "sns.boxplot(y=\"age1\", x=\"hear_AA_1\", data=result5, orient='v')\r\n",
    "plt.title(\"Age boxplot for each communication channel\")\r\n",
    "plt.xlabel(\"communication channel\")\r\n",
    "plt.ylabel(\"age of the participants\")\r\n",
    "#An age boxplot for each communication channel"
   ],
   "outputs": [
    {
     "output_type": "execute_result",
     "data": {
      "text/plain": [
       "Text(0, 0.5, 'age of the participants')"
      ]
     },
     "metadata": {},
     "execution_count": 298
    },
    {
     "output_type": "display_data",
     "data": {
      "text/plain": [
       "<Figure size 1080x576 with 1 Axes>"
      ],
      "image/png": "[encoded data removed]"
     },
     "metadata": {
      "needs_background": "light"
     }
    }
   ],
   "metadata": {}
  },
  {
   "cell_type": "markdown",
   "source": [
    "We can notice that the mean age is not the same for each communication channel. The mean age for each communication channel varies between 20 and 30. "
   ],
   "metadata": {}
  },
  {
   "cell_type": "markdown",
   "source": [
    "### 7 .Is there a significant age difference between these groups"
   ],
   "metadata": {}
  },
  {
   "cell_type": "code",
   "execution_count": null,
   "source": [
    "#here your codes\r\n",
    "# H0 There is no significant age diference beetween these groups\r\n",
    "# HA There is a significant age difference between these groups\r\n",
    "WhatsApp1 = result5[result5.hear_AA_1 == \"WhatsApp\"].age1\r\n",
    "unknown1 = result5[result5.hear_AA_1 == \"unknown\"].age1\r\n",
    "Friends1 = result5[result5.hear_AA_1 == \"Friend\"].age1\r\n",
    "ESIH1 = result5[result5.hear_AA_1 == \"ESIH\"].age1  \r\n",
    "Bootcamp_Alumni1 = result5[result5.hear_AA_1 == \"Bootcamp Alumni\"].age1  \r\n",
    "Facebook1 = result5[result5.hear_AA_1 == \"Facebook\"].age1  \r\n",
    "LinkedIn1 = result5[result5.hear_AA_1 == \"LinkedIn\"].age1  \r\n",
    "Ayiti_Analytics_Website1 = result5[result5.hear_AA_1 == \"Ayiti Analytics Website\"].age1\r\n",
    "other1 = result5[result5.hear_AA_1 == \"other\"].age1 \r\n",
    "Instagram1 = result5[result5.hear_AA_1 == \"Instagram\"].age1   \r\n",
    "F,pvalue = stats.f_oneway(WhatsApp1,unknown1,Friends1,ESIH1,Bootcamp_Alumni1,Facebook1,LinkedIn1,Ayiti_Analytics_Website1,other1,Instagram1)\r\n",
    "print(f\"Statistic F = {F} and pvalue = {pvalue}\")\r\n",
    "if pvalue> 0.05:\r\n",
    "    print(\"we accept the null hypothesis, that means there is no significant age diference beetween these groups\")\r\n",
    "else:\r\n",
    "    print(\"We reject the null hypothesis that means there is a significant age diference beetween these groups\")"
   ],
   "outputs": [
    {
     "output_type": "execute_result",
     "data": {
      "text/plain": [
       "'fvalue, pvalue = stats.f_oneway( result5.age1,result5.hear_AA_1)\\nprint(fvalue, pvalue)\\nimport statsmodels.stats.multicomp as mc\\ncomp = mc.MultiComparison(result5[\"age1\"],result5[\"hear_AA_1\"])\\npost_hoc_res = comp.tukeyhsd()\\npost_hoc_res.summary()\\n'"
      ]
     },
     "metadata": {},
     "execution_count": 299
    }
   ],
   "metadata": {}
  },
  {
   "cell_type": "markdown",
   "source": [
    "### 8.Plan a BA strategy for each communication channel regarding the age group"
   ],
   "metadata": {}
  },
  {
   "cell_type": "code",
   "execution_count": null,
   "source": [
    "AverAge.to_frame()"
   ],
   "outputs": [
    {
     "output_type": "execute_result",
     "data": {
      "text/plain": [
       "                              age1\n",
       "hear_AA_1                         \n",
       "Ayiti Analytics Website  27.000000\n",
       "Bootcamp Alumni          26.285714\n",
       "ESIH                     25.081556\n",
       "Facebook                 27.398400\n",
       "Friend                   27.103522\n",
       "Instagram                24.400000\n",
       "LinkedIn                 29.933333\n",
       "WhatsApp                 27.718242\n",
       "other                    28.444444\n",
       "unknown                  22.000000"
      ],
      "text/html": [
       "<div>\n",
       "<style scoped>\n",
       "    .dataframe tbody tr th:only-of-type {\n",
       "        vertical-align: middle;\n",
       "    }\n",
       "\n",
       "    .dataframe tbody tr th {\n",
       "        vertical-align: top;\n",
       "    }\n",
       "\n",
       "    .dataframe thead th {\n",
       "        text-align: right;\n",
       "    }\n",
       "</style>\n",
       "<table border=\"1\" class=\"dataframe\">\n",
       "  <thead>\n",
       "    <tr style=\"text-align: right;\">\n",
       "      <th></th>\n",
       "      <th>age1</th>\n",
       "    </tr>\n",
       "    <tr>\n",
       "      <th>hear_AA_1</th>\n",
       "      <th></th>\n",
       "    </tr>\n",
       "  </thead>\n",
       "  <tbody>\n",
       "    <tr>\n",
       "      <th>Ayiti Analytics Website</th>\n",
       "      <td>27.000000</td>\n",
       "    </tr>\n",
       "    <tr>\n",
       "      <th>Bootcamp Alumni</th>\n",
       "      <td>26.285714</td>\n",
       "    </tr>\n",
       "    <tr>\n",
       "      <th>ESIH</th>\n",
       "      <td>25.081556</td>\n",
       "    </tr>\n",
       "    <tr>\n",
       "      <th>Facebook</th>\n",
       "      <td>27.398400</td>\n",
       "    </tr>\n",
       "    <tr>\n",
       "      <th>Friend</th>\n",
       "      <td>27.103522</td>\n",
       "    </tr>\n",
       "    <tr>\n",
       "      <th>Instagram</th>\n",
       "      <td>24.400000</td>\n",
       "    </tr>\n",
       "    <tr>\n",
       "      <th>LinkedIn</th>\n",
       "      <td>29.933333</td>\n",
       "    </tr>\n",
       "    <tr>\n",
       "      <th>WhatsApp</th>\n",
       "      <td>27.718242</td>\n",
       "    </tr>\n",
       "    <tr>\n",
       "      <th>other</th>\n",
       "      <td>28.444444</td>\n",
       "    </tr>\n",
       "    <tr>\n",
       "      <th>unknown</th>\n",
       "      <td>22.000000</td>\n",
       "    </tr>\n",
       "  </tbody>\n",
       "</table>\n",
       "</div>"
      ]
     },
     "metadata": {},
     "execution_count": 301
    }
   ],
   "metadata": {}
  },
  {
   "cell_type": "markdown",
   "source": [
    "There is no significant age difference between these groups. So the BA strategy that we will plan for one will be valuable for all of them. As a BA strategy, I will advise them to segment the market, because most of the applicants have their age between 20 to 30  years old. It will be easier to convince them to participate to the bootcamp. Because they have shown so much interest for this field. Now we can notice that applicants who have used Ayiti Analytics website, Bootcamp Alumni, ESIH, Friend, whatsapp and linkedin have their mean age very close of the mean age of the dataset. So I suggest them to focus their marketing or ads on these channels."
   ],
   "metadata": {}
  },
  {
   "cell_type": "markdown",
   "source": [
    "### 9.According to the observations what is the probability of being in each channel of communication knowing your are a woman"
   ],
   "metadata": {}
  },
  {
   "cell_type": "code",
   "execution_count": null,
   "source": [
    "#here your codes\r\n",
    "res =result5.gender.value_counts(normalize=True).to_frame()\r\n",
    "display(res)\r\n",
    "gender_table = pd.pivot_table(result5,'age1',index='hear_AA_1',columns=['gender'],aggfunc = ['count'],fill_value=0)\r\n",
    "my_pivot = gender_table.sort_values(by= ('count','female'),ascending = False)\r\n",
    "my_pivot['Probabilty of being female and being in each communications channels'] =gender_table[('count','female')]/result5.shape[0]\r\n",
    "my_pivot['Probabilty of being male and being in each communications channels'] = gender_table[('count','male')]/result5.shape[0]\r\n",
    "my_pivot=my_pivot.loc[:,['Probabilty of being female and being in each communications channels','Probabilty of being male and being in each communications channels']]\r\n",
    "display(my_pivot)\r\n",
    "my_pivot['male'] =my_pivot['Probabilty of being male and being in each communications channels']/ res.loc[\"male\",\"gender\"]\r\n",
    "my_pivot['female'] =my_pivot['Probabilty of being female and being in each communications channels']/ res.loc[\"female\",\"gender\"]\r\n",
    "my_pivot.loc[:,['female']]\r\n"
   ],
   "outputs": [],
   "metadata": {}
  },
  {
   "cell_type": "markdown",
   "source": [
    "### 10.According to the observations what is the probability of being in each channel of communication knowing your are a man"
   ],
   "metadata": {}
  },
  {
   "cell_type": "code",
   "execution_count": null,
   "source": [
    "#here your codes\r\n",
    "res =result5.gender.value_counts(normalize=True).to_frame()\r\n",
    "display(res)\r\n",
    "gender_table = pd.pivot_table(result5,'age1',index='hear_AA_1',columns=['gender'],aggfunc = ['count'],fill_value=0)\r\n",
    "my_pivot = gender_table.sort_values(by= ('count','female'),ascending = False)\r\n",
    "my_pivot['Probabilty of being female and being in each communications channels'] =gender_table[('count','female')]/result5.shape[0]\r\n",
    "my_pivot['Probabilty of being male and being in each communications channels'] = gender_table[('count','male')]/result5.shape[0]\r\n",
    "my_pivot=my_pivot.loc[:,['Probabilty of being female and being in each communications channels','Probabilty of being male and being in each communications channels']]\r\n",
    "display(my_pivot)\r\n",
    "my_pivot['male'] =my_pivot['Probabilty of being male and being in each communications channels']/ res.loc[\"male\",\"gender\"]\r\n",
    "my_pivot['female'] =my_pivot['Probabilty of being female and being in each communications channels']/ res.loc[\"female\",\"gender\"]\r\n",
    "my_pivot.loc[:,['male']]"
   ],
   "outputs": [
    {
     "output_type": "display_data",
     "data": {
      "text/plain": [
       "        gender\n",
       "male     0.812\n",
       "female   0.188"
      ],
      "text/html": [
       "<div>\n",
       "<style scoped>\n",
       "    .dataframe tbody tr th:only-of-type {\n",
       "        vertical-align: middle;\n",
       "    }\n",
       "\n",
       "    .dataframe tbody tr th {\n",
       "        vertical-align: top;\n",
       "    }\n",
       "\n",
       "    .dataframe thead th {\n",
       "        text-align: right;\n",
       "    }\n",
       "</style>\n",
       "<table border=\"1\" class=\"dataframe\">\n",
       "  <thead>\n",
       "    <tr style=\"text-align: right;\">\n",
       "      <th></th>\n",
       "      <th>gender</th>\n",
       "    </tr>\n",
       "  </thead>\n",
       "  <tbody>\n",
       "    <tr>\n",
       "      <th>male</th>\n",
       "      <td>0.812</td>\n",
       "    </tr>\n",
       "    <tr>\n",
       "      <th>female</th>\n",
       "      <td>0.188</td>\n",
       "    </tr>\n",
       "  </tbody>\n",
       "</table>\n",
       "</div>"
      ]
     },
     "metadata": {}
    },
    {
     "output_type": "display_data",
     "data": {
      "text/plain": [
       "                        Probabilty of being female and being in each communications channels  \\\n",
       "gender                                                                                         \n",
       "hear_AA_1                                                                                      \n",
       "Friend                                                               0.044                     \n",
       "WhatsApp                                                             0.036                     \n",
       "Bootcamp Alumni                                                      0.032                     \n",
       "Facebook                                                             0.024                     \n",
       "ESIH                                                                 0.020                     \n",
       "Ayiti Analytics Website                                              0.016                     \n",
       "other                                                                0.008                     \n",
       "Instagram                                                            0.004                     \n",
       "LinkedIn                                                             0.004                     \n",
       "unknown                                                              0.000                     \n",
       "\n",
       "                        Probabilty of being male and being in each communications channels  \n",
       "gender                                                                                      \n",
       "hear_AA_1                                                                                   \n",
       "Friend                                                               0.224                  \n",
       "WhatsApp                                                             0.228                  \n",
       "Bootcamp Alumni                                                      0.024                  \n",
       "Facebook                                                             0.136                  \n",
       "ESIH                                                                 0.052                  \n",
       "Ayiti Analytics Website                                              0.044                  \n",
       "other                                                                0.028                  \n",
       "Instagram                                                            0.016                  \n",
       "LinkedIn                                                             0.056                  \n",
       "unknown                                                              0.004                  "
      ],
      "text/html": [
       "<div>\n",
       "<style scoped>\n",
       "    .dataframe tbody tr th:only-of-type {\n",
       "        vertical-align: middle;\n",
       "    }\n",
       "\n",
       "    .dataframe tbody tr th {\n",
       "        vertical-align: top;\n",
       "    }\n",
       "\n",
       "    .dataframe thead tr th {\n",
       "        text-align: left;\n",
       "    }\n",
       "\n",
       "    .dataframe thead tr:last-of-type th {\n",
       "        text-align: right;\n",
       "    }\n",
       "</style>\n",
       "<table border=\"1\" class=\"dataframe\">\n",
       "  <thead>\n",
       "    <tr>\n",
       "      <th></th>\n",
       "      <th>Probabilty of being female and being in each communications channels</th>\n",
       "      <th>Probabilty of being male and being in each communications channels</th>\n",
       "    </tr>\n",
       "    <tr>\n",
       "      <th>gender</th>\n",
       "      <th></th>\n",
       "      <th></th>\n",
       "    </tr>\n",
       "    <tr>\n",
       "      <th>hear_AA_1</th>\n",
       "      <th></th>\n",
       "      <th></th>\n",
       "    </tr>\n",
       "  </thead>\n",
       "  <tbody>\n",
       "    <tr>\n",
       "      <th>Friend</th>\n",
       "      <td>0.044</td>\n",
       "      <td>0.224</td>\n",
       "    </tr>\n",
       "    <tr>\n",
       "      <th>WhatsApp</th>\n",
       "      <td>0.036</td>\n",
       "      <td>0.228</td>\n",
       "    </tr>\n",
       "    <tr>\n",
       "      <th>Bootcamp Alumni</th>\n",
       "      <td>0.032</td>\n",
       "      <td>0.024</td>\n",
       "    </tr>\n",
       "    <tr>\n",
       "      <th>Facebook</th>\n",
       "      <td>0.024</td>\n",
       "      <td>0.136</td>\n",
       "    </tr>\n",
       "    <tr>\n",
       "      <th>ESIH</th>\n",
       "      <td>0.020</td>\n",
       "      <td>0.052</td>\n",
       "    </tr>\n",
       "    <tr>\n",
       "      <th>Ayiti Analytics Website</th>\n",
       "      <td>0.016</td>\n",
       "      <td>0.044</td>\n",
       "    </tr>\n",
       "    <tr>\n",
       "      <th>other</th>\n",
       "      <td>0.008</td>\n",
       "      <td>0.028</td>\n",
       "    </tr>\n",
       "    <tr>\n",
       "      <th>Instagram</th>\n",
       "      <td>0.004</td>\n",
       "      <td>0.016</td>\n",
       "    </tr>\n",
       "    <tr>\n",
       "      <th>LinkedIn</th>\n",
       "      <td>0.004</td>\n",
       "      <td>0.056</td>\n",
       "    </tr>\n",
       "    <tr>\n",
       "      <th>unknown</th>\n",
       "      <td>0.000</td>\n",
       "      <td>0.004</td>\n",
       "    </tr>\n",
       "  </tbody>\n",
       "</table>\n",
       "</div>"
      ]
     },
     "metadata": {}
    },
    {
     "output_type": "execute_result",
     "data": {
      "text/plain": [
       "                             male\n",
       "gender                           \n",
       "hear_AA_1                        \n",
       "Friend                   0.275862\n",
       "WhatsApp                 0.280788\n",
       "Bootcamp Alumni          0.029557\n",
       "Facebook                 0.167488\n",
       "ESIH                     0.064039\n",
       "Ayiti Analytics Website  0.054187\n",
       "other                    0.034483\n",
       "Instagram                0.019704\n",
       "LinkedIn                 0.068966\n",
       "unknown                  0.004926"
      ],
      "text/html": [
       "<div>\n",
       "<style scoped>\n",
       "    .dataframe tbody tr th:only-of-type {\n",
       "        vertical-align: middle;\n",
       "    }\n",
       "\n",
       "    .dataframe tbody tr th {\n",
       "        vertical-align: top;\n",
       "    }\n",
       "\n",
       "    .dataframe thead tr th {\n",
       "        text-align: left;\n",
       "    }\n",
       "\n",
       "    .dataframe thead tr:last-of-type th {\n",
       "        text-align: right;\n",
       "    }\n",
       "</style>\n",
       "<table border=\"1\" class=\"dataframe\">\n",
       "  <thead>\n",
       "    <tr>\n",
       "      <th></th>\n",
       "      <th>male</th>\n",
       "    </tr>\n",
       "    <tr>\n",
       "      <th>gender</th>\n",
       "      <th></th>\n",
       "    </tr>\n",
       "    <tr>\n",
       "      <th>hear_AA_1</th>\n",
       "      <th></th>\n",
       "    </tr>\n",
       "  </thead>\n",
       "  <tbody>\n",
       "    <tr>\n",
       "      <th>Friend</th>\n",
       "      <td>0.275862</td>\n",
       "    </tr>\n",
       "    <tr>\n",
       "      <th>WhatsApp</th>\n",
       "      <td>0.280788</td>\n",
       "    </tr>\n",
       "    <tr>\n",
       "      <th>Bootcamp Alumni</th>\n",
       "      <td>0.029557</td>\n",
       "    </tr>\n",
       "    <tr>\n",
       "      <th>Facebook</th>\n",
       "      <td>0.167488</td>\n",
       "    </tr>\n",
       "    <tr>\n",
       "      <th>ESIH</th>\n",
       "      <td>0.064039</td>\n",
       "    </tr>\n",
       "    <tr>\n",
       "      <th>Ayiti Analytics Website</th>\n",
       "      <td>0.054187</td>\n",
       "    </tr>\n",
       "    <tr>\n",
       "      <th>other</th>\n",
       "      <td>0.034483</td>\n",
       "    </tr>\n",
       "    <tr>\n",
       "      <th>Instagram</th>\n",
       "      <td>0.019704</td>\n",
       "    </tr>\n",
       "    <tr>\n",
       "      <th>LinkedIn</th>\n",
       "      <td>0.068966</td>\n",
       "    </tr>\n",
       "    <tr>\n",
       "      <th>unknown</th>\n",
       "      <td>0.004926</td>\n",
       "    </tr>\n",
       "  </tbody>\n",
       "</table>\n",
       "</div>"
      ]
     },
     "metadata": {},
     "execution_count": 305
    }
   ],
   "metadata": {}
  },
  {
   "cell_type": "markdown",
   "source": [
    "### 11. Deduce the probability of being a woman knowing each communication channel"
   ],
   "metadata": {}
  },
  {
   "cell_type": "code",
   "execution_count": null,
   "source": [
    "#here your codes\r\n",
    "gender_table = pd.crosstab(result5.gender, result5[\"hear_AA_1\"], margins=True, normalize=\"columns\")\r\n",
    "for col in gender_table.columns:\r\n",
    "  print(f\"The proba of being a woman knowing knowing {col} is: {round(gender_table.at['female', col], 3)}\")"
   ],
   "outputs": [
    {
     "output_type": "stream",
     "name": "stdout",
     "text": [
      "The proba of being a woman knowing knowing Ayiti Analytics Website is: 0.267\n",
      "The proba of being a woman knowing knowing Bootcamp Alumni is: 0.571\n",
      "The proba of being a woman knowing knowing ESIH is: 0.278\n",
      "The proba of being a woman knowing knowing Facebook is: 0.15\n",
      "The proba of being a woman knowing knowing Friend is: 0.164\n",
      "The proba of being a woman knowing knowing Instagram is: 0.2\n",
      "The proba of being a woman knowing knowing LinkedIn is: 0.067\n",
      "The proba of being a woman knowing knowing WhatsApp is: 0.136\n",
      "The proba of being a woman knowing knowing other is: 0.222\n",
      "The proba of being a woman knowing knowing unknown is: 0.0\n",
      "The proba of being a woman knowing knowing All is: 0.188\n"
     ]
    }
   ],
   "metadata": {}
  },
  {
   "cell_type": "code",
   "execution_count": null,
   "source": [
    "#here your codes\r\n",
    "res =result5.hear_AA_1.value_counts(normalize=True).to_frame()\r\n",
    "display(res)\r\n",
    "gender_table = pd.pivot_table(result5,'age1',index='hear_AA_1',columns=['gender'],aggfunc = ['count'],fill_value=0)\r\n",
    "my_pivot = gender_table.sort_values(by= ('count','female'),ascending = False)\r\n",
    "my_pivot['Probabilty of being female and being in each communications channels'] =gender_table[('count','female')]/result5.shape[0]\r\n",
    "my_pivot['Probabilty of being male and being in each communications channels'] = gender_table[('count','male')]/result5.shape[0]\r\n",
    "my_pivot=my_pivot.loc[:,['Probabilty of being female and being in each communications channels','Probabilty of being male and being in each communications channels']]\r\n",
    "display(my_pivot)\r\n",
    "my_pivot['Friend'] =my_pivot['Probabilty of being female and being in each communications channels']/ res.loc[\"Friend\",\"hear_AA_1\"]\r\n",
    "my_pivot['WhatsApp'] =my_pivot['Probabilty of being female and being in each communications channels']/ res.loc[\"WhatsApp\",\"hear_AA_1\"]\r\n",
    "my_pivot['Facebook'] =my_pivot['Probabilty of being female and being in each communications channels']/ res.loc[\"Facebook\",\"hear_AA_1\"]\r\n",
    "my_pivot['ESIH'] =my_pivot['Probabilty of being female and being in each communications channels']/ res.loc[\"ESIH\",\"hear_AA_1\"]\r\n",
    "my_pivot['LinkedIn'] =my_pivot['Probabilty of being female and being in each communications channels']/ res.loc[\"LinkedIn\",\"hear_AA_1\"]\r\n",
    "my_pivot['Ayiti Analytics Website'] =my_pivot['Probabilty of being female and being in each communications channels']/ res.loc[\"Ayiti Analytics Website\",\"hear_AA_1\"]\r\n",
    "my_pivot['Bootcamp Alumni'] =my_pivot['Probabilty of being female and being in each communications channels']/ res.loc[\"Bootcamp Alumni\",\"hear_AA_1\"]\r\n",
    "my_pivot['other'] =my_pivot['Probabilty of being female and being in each communications channels']/ res.loc[\"other\",\"hear_AA_1\"]\r\n",
    "my_pivot['Instagram'] =my_pivot['Probabilty of being female and being in each communications channels']/ res.loc[\"Instagram\",\"hear_AA_1\"]\r\n",
    "my_pivot['unknown'] =my_pivot['Probabilty of being female and being in each communications channels']/ res.loc[\"unknown\",\"hear_AA_1\"]\r\n",
    "my_pivot.loc[:,['Friend','WhatsApp','Facebook','ESIH','LinkedIn','Ayiti Analytics Website','Bootcamp Alumni','other','Instagram','unknown']]\r\n"
   ],
   "outputs": [
    {
     "output_type": "display_data",
     "data": {
      "text/plain": [
       "                         hear_AA_1\n",
       "Friend                       0.268\n",
       "WhatsApp                     0.264\n",
       "Facebook                     0.160\n",
       "ESIH                         0.072\n",
       "Ayiti Analytics Website      0.060\n",
       "LinkedIn                     0.060\n",
       "Bootcamp Alumni              0.056\n",
       "other                        0.036\n",
       "Instagram                    0.020\n",
       "unknown                      0.004"
      ],
      "text/html": [
       "<div>\n",
       "<style scoped>\n",
       "    .dataframe tbody tr th:only-of-type {\n",
       "        vertical-align: middle;\n",
       "    }\n",
       "\n",
       "    .dataframe tbody tr th {\n",
       "        vertical-align: top;\n",
       "    }\n",
       "\n",
       "    .dataframe thead th {\n",
       "        text-align: right;\n",
       "    }\n",
       "</style>\n",
       "<table border=\"1\" class=\"dataframe\">\n",
       "  <thead>\n",
       "    <tr style=\"text-align: right;\">\n",
       "      <th></th>\n",
       "      <th>hear_AA_1</th>\n",
       "    </tr>\n",
       "  </thead>\n",
       "  <tbody>\n",
       "    <tr>\n",
       "      <th>Friend</th>\n",
       "      <td>0.268</td>\n",
       "    </tr>\n",
       "    <tr>\n",
       "      <th>WhatsApp</th>\n",
       "      <td>0.264</td>\n",
       "    </tr>\n",
       "    <tr>\n",
       "      <th>Facebook</th>\n",
       "      <td>0.160</td>\n",
       "    </tr>\n",
       "    <tr>\n",
       "      <th>ESIH</th>\n",
       "      <td>0.072</td>\n",
       "    </tr>\n",
       "    <tr>\n",
       "      <th>Ayiti Analytics Website</th>\n",
       "      <td>0.060</td>\n",
       "    </tr>\n",
       "    <tr>\n",
       "      <th>LinkedIn</th>\n",
       "      <td>0.060</td>\n",
       "    </tr>\n",
       "    <tr>\n",
       "      <th>Bootcamp Alumni</th>\n",
       "      <td>0.056</td>\n",
       "    </tr>\n",
       "    <tr>\n",
       "      <th>other</th>\n",
       "      <td>0.036</td>\n",
       "    </tr>\n",
       "    <tr>\n",
       "      <th>Instagram</th>\n",
       "      <td>0.020</td>\n",
       "    </tr>\n",
       "    <tr>\n",
       "      <th>unknown</th>\n",
       "      <td>0.004</td>\n",
       "    </tr>\n",
       "  </tbody>\n",
       "</table>\n",
       "</div>"
      ]
     },
     "metadata": {}
    },
    {
     "output_type": "display_data",
     "data": {
      "text/plain": [
       "                        Probabilty of being female and being in each communications channels  \\\n",
       "gender                                                                                         \n",
       "hear_AA_1                                                                                      \n",
       "Friend                                                               0.044                     \n",
       "WhatsApp                                                             0.036                     \n",
       "Bootcamp Alumni                                                      0.032                     \n",
       "Facebook                                                             0.024                     \n",
       "ESIH                                                                 0.020                     \n",
       "Ayiti Analytics Website                                              0.016                     \n",
       "other                                                                0.008                     \n",
       "Instagram                                                            0.004                     \n",
       "LinkedIn                                                             0.004                     \n",
       "unknown                                                              0.000                     \n",
       "\n",
       "                        Probabilty of being male and being in each communications channels  \n",
       "gender                                                                                      \n",
       "hear_AA_1                                                                                   \n",
       "Friend                                                               0.224                  \n",
       "WhatsApp                                                             0.228                  \n",
       "Bootcamp Alumni                                                      0.024                  \n",
       "Facebook                                                             0.136                  \n",
       "ESIH                                                                 0.052                  \n",
       "Ayiti Analytics Website                                              0.044                  \n",
       "other                                                                0.028                  \n",
       "Instagram                                                            0.016                  \n",
       "LinkedIn                                                             0.056                  \n",
       "unknown                                                              0.004                  "
      ],
      "text/html": [
       "<div>\n",
       "<style scoped>\n",
       "    .dataframe tbody tr th:only-of-type {\n",
       "        vertical-align: middle;\n",
       "    }\n",
       "\n",
       "    .dataframe tbody tr th {\n",
       "        vertical-align: top;\n",
       "    }\n",
       "\n",
       "    .dataframe thead tr th {\n",
       "        text-align: left;\n",
       "    }\n",
       "\n",
       "    .dataframe thead tr:last-of-type th {\n",
       "        text-align: right;\n",
       "    }\n",
       "</style>\n",
       "<table border=\"1\" class=\"dataframe\">\n",
       "  <thead>\n",
       "    <tr>\n",
       "      <th></th>\n",
       "      <th>Probabilty of being female and being in each communications channels</th>\n",
       "      <th>Probabilty of being male and being in each communications channels</th>\n",
       "    </tr>\n",
       "    <tr>\n",
       "      <th>gender</th>\n",
       "      <th></th>\n",
       "      <th></th>\n",
       "    </tr>\n",
       "    <tr>\n",
       "      <th>hear_AA_1</th>\n",
       "      <th></th>\n",
       "      <th></th>\n",
       "    </tr>\n",
       "  </thead>\n",
       "  <tbody>\n",
       "    <tr>\n",
       "      <th>Friend</th>\n",
       "      <td>0.044</td>\n",
       "      <td>0.224</td>\n",
       "    </tr>\n",
       "    <tr>\n",
       "      <th>WhatsApp</th>\n",
       "      <td>0.036</td>\n",
       "      <td>0.228</td>\n",
       "    </tr>\n",
       "    <tr>\n",
       "      <th>Bootcamp Alumni</th>\n",
       "      <td>0.032</td>\n",
       "      <td>0.024</td>\n",
       "    </tr>\n",
       "    <tr>\n",
       "      <th>Facebook</th>\n",
       "      <td>0.024</td>\n",
       "      <td>0.136</td>\n",
       "    </tr>\n",
       "    <tr>\n",
       "      <th>ESIH</th>\n",
       "      <td>0.020</td>\n",
       "      <td>0.052</td>\n",
       "    </tr>\n",
       "    <tr>\n",
       "      <th>Ayiti Analytics Website</th>\n",
       "      <td>0.016</td>\n",
       "      <td>0.044</td>\n",
       "    </tr>\n",
       "    <tr>\n",
       "      <th>other</th>\n",
       "      <td>0.008</td>\n",
       "      <td>0.028</td>\n",
       "    </tr>\n",
       "    <tr>\n",
       "      <th>Instagram</th>\n",
       "      <td>0.004</td>\n",
       "      <td>0.016</td>\n",
       "    </tr>\n",
       "    <tr>\n",
       "      <th>LinkedIn</th>\n",
       "      <td>0.004</td>\n",
       "      <td>0.056</td>\n",
       "    </tr>\n",
       "    <tr>\n",
       "      <th>unknown</th>\n",
       "      <td>0.000</td>\n",
       "      <td>0.004</td>\n",
       "    </tr>\n",
       "  </tbody>\n",
       "</table>\n",
       "</div>"
      ]
     },
     "metadata": {}
    },
    {
     "output_type": "execute_result",
     "data": {
      "text/plain": [
       "                           Friend  WhatsApp Facebook      ESIH  LinkedIn  \\\n",
       "gender                                                                     \n",
       "hear_AA_1                                                                  \n",
       "Friend                   0.164179  0.166667    0.275  0.611111  0.733333   \n",
       "WhatsApp                 0.134328  0.136364    0.225  0.500000  0.600000   \n",
       "Bootcamp Alumni          0.119403  0.121212    0.200  0.444444  0.533333   \n",
       "Facebook                 0.089552  0.090909    0.150  0.333333  0.400000   \n",
       "ESIH                     0.074627  0.075758    0.125  0.277778  0.333333   \n",
       "Ayiti Analytics Website  0.059701  0.060606    0.100  0.222222  0.266667   \n",
       "other                    0.029851  0.030303    0.050  0.111111  0.133333   \n",
       "Instagram                0.014925  0.015152    0.025  0.055556  0.066667   \n",
       "LinkedIn                 0.014925  0.015152    0.025  0.055556  0.066667   \n",
       "unknown                  0.000000  0.000000    0.000  0.000000  0.000000   \n",
       "\n",
       "                        Ayiti Analytics Website Bootcamp Alumni     other  \\\n",
       "gender                                                                      \n",
       "hear_AA_1                                                                   \n",
       "Friend                                 0.733333        0.785714  1.222222   \n",
       "WhatsApp                               0.600000        0.642857  1.000000   \n",
       "Bootcamp Alumni                        0.533333        0.571429  0.888889   \n",
       "Facebook                               0.400000        0.428571  0.666667   \n",
       "ESIH                                   0.333333        0.357143  0.555556   \n",
       "Ayiti Analytics Website                0.266667        0.285714  0.444444   \n",
       "other                                  0.133333        0.142857  0.222222   \n",
       "Instagram                              0.066667        0.071429  0.111111   \n",
       "LinkedIn                               0.066667        0.071429  0.111111   \n",
       "unknown                                0.000000        0.000000  0.000000   \n",
       "\n",
       "                        Instagram unknown  \n",
       "gender                                     \n",
       "hear_AA_1                                  \n",
       "Friend                        2.2    11.0  \n",
       "WhatsApp                      1.8     9.0  \n",
       "Bootcamp Alumni               1.6     8.0  \n",
       "Facebook                      1.2     6.0  \n",
       "ESIH                          1.0     5.0  \n",
       "Ayiti Analytics Website       0.8     4.0  \n",
       "other                         0.4     2.0  \n",
       "Instagram                     0.2     1.0  \n",
       "LinkedIn                      0.2     1.0  \n",
       "unknown                       0.0     0.0  "
      ],
      "text/html": [
       "<div>\n",
       "<style scoped>\n",
       "    .dataframe tbody tr th:only-of-type {\n",
       "        vertical-align: middle;\n",
       "    }\n",
       "\n",
       "    .dataframe tbody tr th {\n",
       "        vertical-align: top;\n",
       "    }\n",
       "\n",
       "    .dataframe thead tr th {\n",
       "        text-align: left;\n",
       "    }\n",
       "\n",
       "    .dataframe thead tr:last-of-type th {\n",
       "        text-align: right;\n",
       "    }\n",
       "</style>\n",
       "<table border=\"1\" class=\"dataframe\">\n",
       "  <thead>\n",
       "    <tr>\n",
       "      <th></th>\n",
       "      <th>Friend</th>\n",
       "      <th>WhatsApp</th>\n",
       "      <th>Facebook</th>\n",
       "      <th>ESIH</th>\n",
       "      <th>LinkedIn</th>\n",
       "      <th>Ayiti Analytics Website</th>\n",
       "      <th>Bootcamp Alumni</th>\n",
       "      <th>other</th>\n",
       "      <th>Instagram</th>\n",
       "      <th>unknown</th>\n",
       "    </tr>\n",
       "    <tr>\n",
       "      <th>gender</th>\n",
       "      <th></th>\n",
       "      <th></th>\n",
       "      <th></th>\n",
       "      <th></th>\n",
       "      <th></th>\n",
       "      <th></th>\n",
       "      <th></th>\n",
       "      <th></th>\n",
       "      <th></th>\n",
       "      <th></th>\n",
       "    </tr>\n",
       "    <tr>\n",
       "      <th>hear_AA_1</th>\n",
       "      <th></th>\n",
       "      <th></th>\n",
       "      <th></th>\n",
       "      <th></th>\n",
       "      <th></th>\n",
       "      <th></th>\n",
       "      <th></th>\n",
       "      <th></th>\n",
       "      <th></th>\n",
       "      <th></th>\n",
       "    </tr>\n",
       "  </thead>\n",
       "  <tbody>\n",
       "    <tr>\n",
       "      <th>Friend</th>\n",
       "      <td>0.164179</td>\n",
       "      <td>0.166667</td>\n",
       "      <td>0.275</td>\n",
       "      <td>0.611111</td>\n",
       "      <td>0.733333</td>\n",
       "      <td>0.733333</td>\n",
       "      <td>0.785714</td>\n",
       "      <td>1.222222</td>\n",
       "      <td>2.2</td>\n",
       "      <td>11.0</td>\n",
       "    </tr>\n",
       "    <tr>\n",
       "      <th>WhatsApp</th>\n",
       "      <td>0.134328</td>\n",
       "      <td>0.136364</td>\n",
       "      <td>0.225</td>\n",
       "      <td>0.500000</td>\n",
       "      <td>0.600000</td>\n",
       "      <td>0.600000</td>\n",
       "      <td>0.642857</td>\n",
       "      <td>1.000000</td>\n",
       "      <td>1.8</td>\n",
       "      <td>9.0</td>\n",
       "    </tr>\n",
       "    <tr>\n",
       "      <th>Bootcamp Alumni</th>\n",
       "      <td>0.119403</td>\n",
       "      <td>0.121212</td>\n",
       "      <td>0.200</td>\n",
       "      <td>0.444444</td>\n",
       "      <td>0.533333</td>\n",
       "      <td>0.533333</td>\n",
       "      <td>0.571429</td>\n",
       "      <td>0.888889</td>\n",
       "      <td>1.6</td>\n",
       "      <td>8.0</td>\n",
       "    </tr>\n",
       "    <tr>\n",
       "      <th>Facebook</th>\n",
       "      <td>0.089552</td>\n",
       "      <td>0.090909</td>\n",
       "      <td>0.150</td>\n",
       "      <td>0.333333</td>\n",
       "      <td>0.400000</td>\n",
       "      <td>0.400000</td>\n",
       "      <td>0.428571</td>\n",
       "      <td>0.666667</td>\n",
       "      <td>1.2</td>\n",
       "      <td>6.0</td>\n",
       "    </tr>\n",
       "    <tr>\n",
       "      <th>ESIH</th>\n",
       "      <td>0.074627</td>\n",
       "      <td>0.075758</td>\n",
       "      <td>0.125</td>\n",
       "      <td>0.277778</td>\n",
       "      <td>0.333333</td>\n",
       "      <td>0.333333</td>\n",
       "      <td>0.357143</td>\n",
       "      <td>0.555556</td>\n",
       "      <td>1.0</td>\n",
       "      <td>5.0</td>\n",
       "    </tr>\n",
       "    <tr>\n",
       "      <th>Ayiti Analytics Website</th>\n",
       "      <td>0.059701</td>\n",
       "      <td>0.060606</td>\n",
       "      <td>0.100</td>\n",
       "      <td>0.222222</td>\n",
       "      <td>0.266667</td>\n",
       "      <td>0.266667</td>\n",
       "      <td>0.285714</td>\n",
       "      <td>0.444444</td>\n",
       "      <td>0.8</td>\n",
       "      <td>4.0</td>\n",
       "    </tr>\n",
       "    <tr>\n",
       "      <th>other</th>\n",
       "      <td>0.029851</td>\n",
       "      <td>0.030303</td>\n",
       "      <td>0.050</td>\n",
       "      <td>0.111111</td>\n",
       "      <td>0.133333</td>\n",
       "      <td>0.133333</td>\n",
       "      <td>0.142857</td>\n",
       "      <td>0.222222</td>\n",
       "      <td>0.4</td>\n",
       "      <td>2.0</td>\n",
       "    </tr>\n",
       "    <tr>\n",
       "      <th>Instagram</th>\n",
       "      <td>0.014925</td>\n",
       "      <td>0.015152</td>\n",
       "      <td>0.025</td>\n",
       "      <td>0.055556</td>\n",
       "      <td>0.066667</td>\n",
       "      <td>0.066667</td>\n",
       "      <td>0.071429</td>\n",
       "      <td>0.111111</td>\n",
       "      <td>0.2</td>\n",
       "      <td>1.0</td>\n",
       "    </tr>\n",
       "    <tr>\n",
       "      <th>LinkedIn</th>\n",
       "      <td>0.014925</td>\n",
       "      <td>0.015152</td>\n",
       "      <td>0.025</td>\n",
       "      <td>0.055556</td>\n",
       "      <td>0.066667</td>\n",
       "      <td>0.066667</td>\n",
       "      <td>0.071429</td>\n",
       "      <td>0.111111</td>\n",
       "      <td>0.2</td>\n",
       "      <td>1.0</td>\n",
       "    </tr>\n",
       "    <tr>\n",
       "      <th>unknown</th>\n",
       "      <td>0.000000</td>\n",
       "      <td>0.000000</td>\n",
       "      <td>0.000</td>\n",
       "      <td>0.000000</td>\n",
       "      <td>0.000000</td>\n",
       "      <td>0.000000</td>\n",
       "      <td>0.000000</td>\n",
       "      <td>0.000000</td>\n",
       "      <td>0.0</td>\n",
       "      <td>0.0</td>\n",
       "    </tr>\n",
       "  </tbody>\n",
       "</table>\n",
       "</div>"
      ]
     },
     "metadata": {},
     "execution_count": 307
    }
   ],
   "metadata": {}
  },
  {
   "cell_type": "markdown",
   "source": [
    "### 13. Deduce the probability of being a woman knowing each communication channel"
   ],
   "metadata": {}
  },
  {
   "cell_type": "code",
   "execution_count": null,
   "source": [
    "# here your codes\r\n",
    "res =result5.hear_AA_1.value_counts(normalize=True).to_frame()\r\n",
    "display(res)\r\n",
    "gender_table = pd.pivot_table(result5,'age1',index='hear_AA_1',columns=['gender'],aggfunc = ['count'],fill_value=0)\r\n",
    "my_pivot = gender_table.sort_values(by= ('count','female'),ascending = False)\r\n",
    "my_pivot['Probabilty of being female and being in each communications channels'] =gender_table[('count','female')]/result5.shape[0]\r\n",
    "my_pivot['Probabilty of being male and being in each communications channels'] = gender_table[('count','male')]/result5.shape[0]\r\n",
    "my_pivot=my_pivot.loc[:,['Probabilty of being female and being in each communications channels','Probabilty of being male and being in each communications channels']]\r\n",
    "display(my_pivot)\r\n",
    "my_pivot['Friend'] =my_pivot['Probabilty of being female and being in each communications channels']/ res.loc[\"Friend\",\"hear_AA_1\"]\r\n",
    "my_pivot['WhatsApp'] =my_pivot['Probabilty of being female and being in each communications channels']/ res.loc[\"WhatsApp\",\"hear_AA_1\"]\r\n",
    "my_pivot['Facebook'] =my_pivot['Probabilty of being female and being in each communications channels']/ res.loc[\"Facebook\",\"hear_AA_1\"]\r\n",
    "my_pivot['ESIH'] =my_pivot['Probabilty of being female and being in each communications channels']/ res.loc[\"ESIH\",\"hear_AA_1\"]\r\n",
    "my_pivot['LinkedIn'] =my_pivot['Probabilty of being female and being in each communications channels']/ res.loc[\"LinkedIn\",\"hear_AA_1\"]\r\n",
    "my_pivot['Ayiti Analytics Website'] =my_pivot['Probabilty of being female and being in each communications channels']/ res.loc[\"Ayiti Analytics Website\",\"hear_AA_1\"]\r\n",
    "my_pivot['Bootcamp Alumni'] =my_pivot['Probabilty of being female and being in each communications channels']/ res.loc[\"Bootcamp Alumni\",\"hear_AA_1\"]\r\n",
    "my_pivot['other'] =my_pivot['Probabilty of being female and being in each communications channels']/ res.loc[\"other\",\"hear_AA_1\"]\r\n",
    "my_pivot['Instagram'] =my_pivot['Probabilty of being female and being in each communications channels']/ res.loc[\"Instagram\",\"hear_AA_1\"]\r\n",
    "my_pivot['unknown'] =my_pivot['Probabilty of being female and being in each communications channels']/ res.loc[\"unknown\",\"hear_AA_1\"]\r\n",
    "my_pivot.loc[:,['Friend','WhatsApp','Facebook','ESIH','LinkedIn','Ayiti Analytics Website','Bootcamp Alumni','other','Instagram','unknown']]"
   ],
   "outputs": [
    {
     "output_type": "display_data",
     "data": {
      "text/plain": [
       "                         hear_AA_1\n",
       "Friend                       0.268\n",
       "WhatsApp                     0.264\n",
       "Facebook                     0.160\n",
       "ESIH                         0.072\n",
       "Ayiti Analytics Website      0.060\n",
       "LinkedIn                     0.060\n",
       "Bootcamp Alumni              0.056\n",
       "other                        0.036\n",
       "Instagram                    0.020\n",
       "unknown                      0.004"
      ],
      "text/html": [
       "<div>\n",
       "<style scoped>\n",
       "    .dataframe tbody tr th:only-of-type {\n",
       "        vertical-align: middle;\n",
       "    }\n",
       "\n",
       "    .dataframe tbody tr th {\n",
       "        vertical-align: top;\n",
       "    }\n",
       "\n",
       "    .dataframe thead th {\n",
       "        text-align: right;\n",
       "    }\n",
       "</style>\n",
       "<table border=\"1\" class=\"dataframe\">\n",
       "  <thead>\n",
       "    <tr style=\"text-align: right;\">\n",
       "      <th></th>\n",
       "      <th>hear_AA_1</th>\n",
       "    </tr>\n",
       "  </thead>\n",
       "  <tbody>\n",
       "    <tr>\n",
       "      <th>Friend</th>\n",
       "      <td>0.268</td>\n",
       "    </tr>\n",
       "    <tr>\n",
       "      <th>WhatsApp</th>\n",
       "      <td>0.264</td>\n",
       "    </tr>\n",
       "    <tr>\n",
       "      <th>Facebook</th>\n",
       "      <td>0.160</td>\n",
       "    </tr>\n",
       "    <tr>\n",
       "      <th>ESIH</th>\n",
       "      <td>0.072</td>\n",
       "    </tr>\n",
       "    <tr>\n",
       "      <th>Ayiti Analytics Website</th>\n",
       "      <td>0.060</td>\n",
       "    </tr>\n",
       "    <tr>\n",
       "      <th>LinkedIn</th>\n",
       "      <td>0.060</td>\n",
       "    </tr>\n",
       "    <tr>\n",
       "      <th>Bootcamp Alumni</th>\n",
       "      <td>0.056</td>\n",
       "    </tr>\n",
       "    <tr>\n",
       "      <th>other</th>\n",
       "      <td>0.036</td>\n",
       "    </tr>\n",
       "    <tr>\n",
       "      <th>Instagram</th>\n",
       "      <td>0.020</td>\n",
       "    </tr>\n",
       "    <tr>\n",
       "      <th>unknown</th>\n",
       "      <td>0.004</td>\n",
       "    </tr>\n",
       "  </tbody>\n",
       "</table>\n",
       "</div>"
      ]
     },
     "metadata": {}
    },
    {
     "output_type": "display_data",
     "data": {
      "text/plain": [
       "                        Probabilty of being female and being in each communications channels  \\\n",
       "gender                                                                                         \n",
       "hear_AA_1                                                                                      \n",
       "Friend                                                               0.044                     \n",
       "WhatsApp                                                             0.036                     \n",
       "Bootcamp Alumni                                                      0.032                     \n",
       "Facebook                                                             0.024                     \n",
       "ESIH                                                                 0.020                     \n",
       "Ayiti Analytics Website                                              0.016                     \n",
       "other                                                                0.008                     \n",
       "Instagram                                                            0.004                     \n",
       "LinkedIn                                                             0.004                     \n",
       "unknown                                                              0.000                     \n",
       "\n",
       "                        Probabilty of being male and being in each communications channels  \n",
       "gender                                                                                      \n",
       "hear_AA_1                                                                                   \n",
       "Friend                                                               0.224                  \n",
       "WhatsApp                                                             0.228                  \n",
       "Bootcamp Alumni                                                      0.024                  \n",
       "Facebook                                                             0.136                  \n",
       "ESIH                                                                 0.052                  \n",
       "Ayiti Analytics Website                                              0.044                  \n",
       "other                                                                0.028                  \n",
       "Instagram                                                            0.016                  \n",
       "LinkedIn                                                             0.056                  \n",
       "unknown                                                              0.004                  "
      ],
      "text/html": [
       "<div>\n",
       "<style scoped>\n",
       "    .dataframe tbody tr th:only-of-type {\n",
       "        vertical-align: middle;\n",
       "    }\n",
       "\n",
       "    .dataframe tbody tr th {\n",
       "        vertical-align: top;\n",
       "    }\n",
       "\n",
       "    .dataframe thead tr th {\n",
       "        text-align: left;\n",
       "    }\n",
       "\n",
       "    .dataframe thead tr:last-of-type th {\n",
       "        text-align: right;\n",
       "    }\n",
       "</style>\n",
       "<table border=\"1\" class=\"dataframe\">\n",
       "  <thead>\n",
       "    <tr>\n",
       "      <th></th>\n",
       "      <th>Probabilty of being female and being in each communications channels</th>\n",
       "      <th>Probabilty of being male and being in each communications channels</th>\n",
       "    </tr>\n",
       "    <tr>\n",
       "      <th>gender</th>\n",
       "      <th></th>\n",
       "      <th></th>\n",
       "    </tr>\n",
       "    <tr>\n",
       "      <th>hear_AA_1</th>\n",
       "      <th></th>\n",
       "      <th></th>\n",
       "    </tr>\n",
       "  </thead>\n",
       "  <tbody>\n",
       "    <tr>\n",
       "      <th>Friend</th>\n",
       "      <td>0.044</td>\n",
       "      <td>0.224</td>\n",
       "    </tr>\n",
       "    <tr>\n",
       "      <th>WhatsApp</th>\n",
       "      <td>0.036</td>\n",
       "      <td>0.228</td>\n",
       "    </tr>\n",
       "    <tr>\n",
       "      <th>Bootcamp Alumni</th>\n",
       "      <td>0.032</td>\n",
       "      <td>0.024</td>\n",
       "    </tr>\n",
       "    <tr>\n",
       "      <th>Facebook</th>\n",
       "      <td>0.024</td>\n",
       "      <td>0.136</td>\n",
       "    </tr>\n",
       "    <tr>\n",
       "      <th>ESIH</th>\n",
       "      <td>0.020</td>\n",
       "      <td>0.052</td>\n",
       "    </tr>\n",
       "    <tr>\n",
       "      <th>Ayiti Analytics Website</th>\n",
       "      <td>0.016</td>\n",
       "      <td>0.044</td>\n",
       "    </tr>\n",
       "    <tr>\n",
       "      <th>other</th>\n",
       "      <td>0.008</td>\n",
       "      <td>0.028</td>\n",
       "    </tr>\n",
       "    <tr>\n",
       "      <th>Instagram</th>\n",
       "      <td>0.004</td>\n",
       "      <td>0.016</td>\n",
       "    </tr>\n",
       "    <tr>\n",
       "      <th>LinkedIn</th>\n",
       "      <td>0.004</td>\n",
       "      <td>0.056</td>\n",
       "    </tr>\n",
       "    <tr>\n",
       "      <th>unknown</th>\n",
       "      <td>0.000</td>\n",
       "      <td>0.004</td>\n",
       "    </tr>\n",
       "  </tbody>\n",
       "</table>\n",
       "</div>"
      ]
     },
     "metadata": {}
    },
    {
     "output_type": "execute_result",
     "data": {
      "text/plain": [
       "                           Friend  WhatsApp Facebook      ESIH  LinkedIn  \\\n",
       "gender                                                                     \n",
       "hear_AA_1                                                                  \n",
       "Friend                   0.164179  0.166667    0.275  0.611111  0.733333   \n",
       "WhatsApp                 0.134328  0.136364    0.225  0.500000  0.600000   \n",
       "Bootcamp Alumni          0.119403  0.121212    0.200  0.444444  0.533333   \n",
       "Facebook                 0.089552  0.090909    0.150  0.333333  0.400000   \n",
       "ESIH                     0.074627  0.075758    0.125  0.277778  0.333333   \n",
       "Ayiti Analytics Website  0.059701  0.060606    0.100  0.222222  0.266667   \n",
       "other                    0.029851  0.030303    0.050  0.111111  0.133333   \n",
       "Instagram                0.014925  0.015152    0.025  0.055556  0.066667   \n",
       "LinkedIn                 0.014925  0.015152    0.025  0.055556  0.066667   \n",
       "unknown                  0.000000  0.000000    0.000  0.000000  0.000000   \n",
       "\n",
       "                        Ayiti Analytics Website Bootcamp Alumni     other  \\\n",
       "gender                                                                      \n",
       "hear_AA_1                                                                   \n",
       "Friend                                 0.733333        0.785714  1.222222   \n",
       "WhatsApp                               0.600000        0.642857  1.000000   \n",
       "Bootcamp Alumni                        0.533333        0.571429  0.888889   \n",
       "Facebook                               0.400000        0.428571  0.666667   \n",
       "ESIH                                   0.333333        0.357143  0.555556   \n",
       "Ayiti Analytics Website                0.266667        0.285714  0.444444   \n",
       "other                                  0.133333        0.142857  0.222222   \n",
       "Instagram                              0.066667        0.071429  0.111111   \n",
       "LinkedIn                               0.066667        0.071429  0.111111   \n",
       "unknown                                0.000000        0.000000  0.000000   \n",
       "\n",
       "                        Instagram unknown  \n",
       "gender                                     \n",
       "hear_AA_1                                  \n",
       "Friend                        2.2    11.0  \n",
       "WhatsApp                      1.8     9.0  \n",
       "Bootcamp Alumni               1.6     8.0  \n",
       "Facebook                      1.2     6.0  \n",
       "ESIH                          1.0     5.0  \n",
       "Ayiti Analytics Website       0.8     4.0  \n",
       "other                         0.4     2.0  \n",
       "Instagram                     0.2     1.0  \n",
       "LinkedIn                      0.2     1.0  \n",
       "unknown                       0.0     0.0  "
      ],
      "text/html": [
       "<div>\n",
       "<style scoped>\n",
       "    .dataframe tbody tr th:only-of-type {\n",
       "        vertical-align: middle;\n",
       "    }\n",
       "\n",
       "    .dataframe tbody tr th {\n",
       "        vertical-align: top;\n",
       "    }\n",
       "\n",
       "    .dataframe thead tr th {\n",
       "        text-align: left;\n",
       "    }\n",
       "\n",
       "    .dataframe thead tr:last-of-type th {\n",
       "        text-align: right;\n",
       "    }\n",
       "</style>\n",
       "<table border=\"1\" class=\"dataframe\">\n",
       "  <thead>\n",
       "    <tr>\n",
       "      <th></th>\n",
       "      <th>Friend</th>\n",
       "      <th>WhatsApp</th>\n",
       "      <th>Facebook</th>\n",
       "      <th>ESIH</th>\n",
       "      <th>LinkedIn</th>\n",
       "      <th>Ayiti Analytics Website</th>\n",
       "      <th>Bootcamp Alumni</th>\n",
       "      <th>other</th>\n",
       "      <th>Instagram</th>\n",
       "      <th>unknown</th>\n",
       "    </tr>\n",
       "    <tr>\n",
       "      <th>gender</th>\n",
       "      <th></th>\n",
       "      <th></th>\n",
       "      <th></th>\n",
       "      <th></th>\n",
       "      <th></th>\n",
       "      <th></th>\n",
       "      <th></th>\n",
       "      <th></th>\n",
       "      <th></th>\n",
       "      <th></th>\n",
       "    </tr>\n",
       "    <tr>\n",
       "      <th>hear_AA_1</th>\n",
       "      <th></th>\n",
       "      <th></th>\n",
       "      <th></th>\n",
       "      <th></th>\n",
       "      <th></th>\n",
       "      <th></th>\n",
       "      <th></th>\n",
       "      <th></th>\n",
       "      <th></th>\n",
       "      <th></th>\n",
       "    </tr>\n",
       "  </thead>\n",
       "  <tbody>\n",
       "    <tr>\n",
       "      <th>Friend</th>\n",
       "      <td>0.164179</td>\n",
       "      <td>0.166667</td>\n",
       "      <td>0.275</td>\n",
       "      <td>0.611111</td>\n",
       "      <td>0.733333</td>\n",
       "      <td>0.733333</td>\n",
       "      <td>0.785714</td>\n",
       "      <td>1.222222</td>\n",
       "      <td>2.2</td>\n",
       "      <td>11.0</td>\n",
       "    </tr>\n",
       "    <tr>\n",
       "      <th>WhatsApp</th>\n",
       "      <td>0.134328</td>\n",
       "      <td>0.136364</td>\n",
       "      <td>0.225</td>\n",
       "      <td>0.500000</td>\n",
       "      <td>0.600000</td>\n",
       "      <td>0.600000</td>\n",
       "      <td>0.642857</td>\n",
       "      <td>1.000000</td>\n",
       "      <td>1.8</td>\n",
       "      <td>9.0</td>\n",
       "    </tr>\n",
       "    <tr>\n",
       "      <th>Bootcamp Alumni</th>\n",
       "      <td>0.119403</td>\n",
       "      <td>0.121212</td>\n",
       "      <td>0.200</td>\n",
       "      <td>0.444444</td>\n",
       "      <td>0.533333</td>\n",
       "      <td>0.533333</td>\n",
       "      <td>0.571429</td>\n",
       "      <td>0.888889</td>\n",
       "      <td>1.6</td>\n",
       "      <td>8.0</td>\n",
       "    </tr>\n",
       "    <tr>\n",
       "      <th>Facebook</th>\n",
       "      <td>0.089552</td>\n",
       "      <td>0.090909</td>\n",
       "      <td>0.150</td>\n",
       "      <td>0.333333</td>\n",
       "      <td>0.400000</td>\n",
       "      <td>0.400000</td>\n",
       "      <td>0.428571</td>\n",
       "      <td>0.666667</td>\n",
       "      <td>1.2</td>\n",
       "      <td>6.0</td>\n",
       "    </tr>\n",
       "    <tr>\n",
       "      <th>ESIH</th>\n",
       "      <td>0.074627</td>\n",
       "      <td>0.075758</td>\n",
       "      <td>0.125</td>\n",
       "      <td>0.277778</td>\n",
       "      <td>0.333333</td>\n",
       "      <td>0.333333</td>\n",
       "      <td>0.357143</td>\n",
       "      <td>0.555556</td>\n",
       "      <td>1.0</td>\n",
       "      <td>5.0</td>\n",
       "    </tr>\n",
       "    <tr>\n",
       "      <th>Ayiti Analytics Website</th>\n",
       "      <td>0.059701</td>\n",
       "      <td>0.060606</td>\n",
       "      <td>0.100</td>\n",
       "      <td>0.222222</td>\n",
       "      <td>0.266667</td>\n",
       "      <td>0.266667</td>\n",
       "      <td>0.285714</td>\n",
       "      <td>0.444444</td>\n",
       "      <td>0.8</td>\n",
       "      <td>4.0</td>\n",
       "    </tr>\n",
       "    <tr>\n",
       "      <th>other</th>\n",
       "      <td>0.029851</td>\n",
       "      <td>0.030303</td>\n",
       "      <td>0.050</td>\n",
       "      <td>0.111111</td>\n",
       "      <td>0.133333</td>\n",
       "      <td>0.133333</td>\n",
       "      <td>0.142857</td>\n",
       "      <td>0.222222</td>\n",
       "      <td>0.4</td>\n",
       "      <td>2.0</td>\n",
       "    </tr>\n",
       "    <tr>\n",
       "      <th>Instagram</th>\n",
       "      <td>0.014925</td>\n",
       "      <td>0.015152</td>\n",
       "      <td>0.025</td>\n",
       "      <td>0.055556</td>\n",
       "      <td>0.066667</td>\n",
       "      <td>0.066667</td>\n",
       "      <td>0.071429</td>\n",
       "      <td>0.111111</td>\n",
       "      <td>0.2</td>\n",
       "      <td>1.0</td>\n",
       "    </tr>\n",
       "    <tr>\n",
       "      <th>LinkedIn</th>\n",
       "      <td>0.014925</td>\n",
       "      <td>0.015152</td>\n",
       "      <td>0.025</td>\n",
       "      <td>0.055556</td>\n",
       "      <td>0.066667</td>\n",
       "      <td>0.066667</td>\n",
       "      <td>0.071429</td>\n",
       "      <td>0.111111</td>\n",
       "      <td>0.2</td>\n",
       "      <td>1.0</td>\n",
       "    </tr>\n",
       "    <tr>\n",
       "      <th>unknown</th>\n",
       "      <td>0.000000</td>\n",
       "      <td>0.000000</td>\n",
       "      <td>0.000</td>\n",
       "      <td>0.000000</td>\n",
       "      <td>0.000000</td>\n",
       "      <td>0.000000</td>\n",
       "      <td>0.000000</td>\n",
       "      <td>0.000000</td>\n",
       "      <td>0.0</td>\n",
       "      <td>0.0</td>\n",
       "    </tr>\n",
       "  </tbody>\n",
       "</table>\n",
       "</div>"
      ]
     },
     "metadata": {},
     "execution_count": 308
    }
   ],
   "metadata": {}
  },
  {
   "cell_type": "markdown",
   "source": [
    "### 14. Deduce the probability of being a man knowing each communication channel"
   ],
   "metadata": {}
  },
  {
   "cell_type": "code",
   "execution_count": null,
   "source": [
    "#here your codes\r\n",
    "gender_table = pd.crosstab(result5.gender, result5[\"hear_AA_1\"], margins=True, normalize=\"columns\")\r\n",
    "for col in gender_table.columns:\r\n",
    "  print(f\"The proba of being a woman knowing knowing {col} is: {round(gender_table.at['male', col], 3)}\")"
   ],
   "outputs": [
    {
     "output_type": "stream",
     "name": "stdout",
     "text": [
      "The proba of being a woman knowing knowing Ayiti Analytics Website is: 0.733\n",
      "The proba of being a woman knowing knowing Bootcamp Alumni is: 0.429\n",
      "The proba of being a woman knowing knowing ESIH is: 0.722\n",
      "The proba of being a woman knowing knowing Facebook is: 0.85\n",
      "The proba of being a woman knowing knowing Friend is: 0.836\n",
      "The proba of being a woman knowing knowing Instagram is: 0.8\n",
      "The proba of being a woman knowing knowing LinkedIn is: 0.933\n",
      "The proba of being a woman knowing knowing WhatsApp is: 0.864\n",
      "The proba of being a woman knowing knowing other is: 0.778\n",
      "The proba of being a woman knowing knowing unknown is: 1.0\n",
      "The proba of being a woman knowing knowing All is: 0.812\n"
     ]
    }
   ],
   "metadata": {}
  },
  {
   "cell_type": "code",
   "execution_count": null,
   "source": [
    "\r\n",
    "#here your codes\r\n",
    "res =result5.hear_AA_1.value_counts(normalize=True).to_frame()\r\n",
    "display(res)\r\n",
    "gender_table = pd.pivot_table(result5,'age1',index='hear_AA_1',columns=['gender'],aggfunc = ['count'],fill_value=0)\r\n",
    "my_pivot = gender_table.sort_values(by= ('count','female'),ascending = False)\r\n",
    "my_pivot['Probabilty of being female and being in each communications channels'] =gender_table[('count','female')]/result5.shape[0]\r\n",
    "my_pivot['Probabilty of being male and being in each communications channels'] = gender_table[('count','male')]/result5.shape[0]\r\n",
    "my_pivot=my_pivot.loc[:,['Probabilty of being female and being in each communications channels','Probabilty of being male and being in each communications channels']]\r\n",
    "display(my_pivot)\r\n",
    "my_pivot['Friend'] =my_pivot['Probabilty of being male and being in each communications channels']/ res.loc[\"Friend\",\"hear_AA_1\"]\r\n",
    "my_pivot['WhatsApp'] =my_pivot['Probabilty of being male and being in each communications channels']/ res.loc[\"WhatsApp\",\"hear_AA_1\"]\r\n",
    "my_pivot['Facebook'] =my_pivot['Probabilty of being male and being in each communications channels']/ res.loc[\"Facebook\",\"hear_AA_1\"]\r\n",
    "my_pivot['ESIH'] =my_pivot['Probabilty of being female and being in each communications channels']/ res.loc[\"ESIH\",\"hear_AA_1\"]\r\n",
    "my_pivot['LinkedIn'] =my_pivot['Probabilty of being male and being in each communications channels']/ res.loc[\"LinkedIn\",\"hear_AA_1\"]\r\n",
    "my_pivot['Ayiti Analytics Website'] =my_pivot['Probabilty of being male and being in each communications channels']/ res.loc[\"Ayiti Analytics Website\",\"hear_AA_1\"]\r\n",
    "my_pivot['Bootcamp Alumni'] =my_pivot['Probabilty of being male and being in each communications channels']/ res.loc[\"Bootcamp Alumni\",\"hear_AA_1\"]\r\n",
    "my_pivot['other'] =my_pivot['Probabilty of being male and being in each communications channels']/ res.loc[\"other\",\"hear_AA_1\"]\r\n",
    "my_pivot['Instagram'] =my_pivot['Probabilty of being male and being in each communications channels']/ res.loc[\"Instagram\",\"hear_AA_1\"]\r\n",
    "my_pivot['unknown'] =my_pivot['Probabilty of being male and being in each communications channels']/ res.loc[\"unknown\",\"hear_AA_1\"]\r\n",
    "my_pivot.loc[:,['Friend','WhatsApp','Facebook','ESIH','LinkedIn','Ayiti Analytics Website','Bootcamp Alumni','other','Instagram','unknown']]"
   ],
   "outputs": [
    {
     "output_type": "display_data",
     "data": {
      "text/plain": [
       "                         hear_AA_1\n",
       "Friend                       0.268\n",
       "WhatsApp                     0.264\n",
       "Facebook                     0.160\n",
       "ESIH                         0.072\n",
       "Ayiti Analytics Website      0.060\n",
       "LinkedIn                     0.060\n",
       "Bootcamp Alumni              0.056\n",
       "other                        0.036\n",
       "Instagram                    0.020\n",
       "unknown                      0.004"
      ],
      "text/html": [
       "<div>\n",
       "<style scoped>\n",
       "    .dataframe tbody tr th:only-of-type {\n",
       "        vertical-align: middle;\n",
       "    }\n",
       "\n",
       "    .dataframe tbody tr th {\n",
       "        vertical-align: top;\n",
       "    }\n",
       "\n",
       "    .dataframe thead th {\n",
       "        text-align: right;\n",
       "    }\n",
       "</style>\n",
       "<table border=\"1\" class=\"dataframe\">\n",
       "  <thead>\n",
       "    <tr style=\"text-align: right;\">\n",
       "      <th></th>\n",
       "      <th>hear_AA_1</th>\n",
       "    </tr>\n",
       "  </thead>\n",
       "  <tbody>\n",
       "    <tr>\n",
       "      <th>Friend</th>\n",
       "      <td>0.268</td>\n",
       "    </tr>\n",
       "    <tr>\n",
       "      <th>WhatsApp</th>\n",
       "      <td>0.264</td>\n",
       "    </tr>\n",
       "    <tr>\n",
       "      <th>Facebook</th>\n",
       "      <td>0.160</td>\n",
       "    </tr>\n",
       "    <tr>\n",
       "      <th>ESIH</th>\n",
       "      <td>0.072</td>\n",
       "    </tr>\n",
       "    <tr>\n",
       "      <th>Ayiti Analytics Website</th>\n",
       "      <td>0.060</td>\n",
       "    </tr>\n",
       "    <tr>\n",
       "      <th>LinkedIn</th>\n",
       "      <td>0.060</td>\n",
       "    </tr>\n",
       "    <tr>\n",
       "      <th>Bootcamp Alumni</th>\n",
       "      <td>0.056</td>\n",
       "    </tr>\n",
       "    <tr>\n",
       "      <th>other</th>\n",
       "      <td>0.036</td>\n",
       "    </tr>\n",
       "    <tr>\n",
       "      <th>Instagram</th>\n",
       "      <td>0.020</td>\n",
       "    </tr>\n",
       "    <tr>\n",
       "      <th>unknown</th>\n",
       "      <td>0.004</td>\n",
       "    </tr>\n",
       "  </tbody>\n",
       "</table>\n",
       "</div>"
      ]
     },
     "metadata": {}
    },
    {
     "output_type": "display_data",
     "data": {
      "text/plain": [
       "                        Probabilty of being female and being in each communications channels  \\\n",
       "gender                                                                                         \n",
       "hear_AA_1                                                                                      \n",
       "Friend                                                               0.044                     \n",
       "WhatsApp                                                             0.036                     \n",
       "Bootcamp Alumni                                                      0.032                     \n",
       "Facebook                                                             0.024                     \n",
       "ESIH                                                                 0.020                     \n",
       "Ayiti Analytics Website                                              0.016                     \n",
       "other                                                                0.008                     \n",
       "Instagram                                                            0.004                     \n",
       "LinkedIn                                                             0.004                     \n",
       "unknown                                                              0.000                     \n",
       "\n",
       "                        Probabilty of being male and being in each communications channels  \n",
       "gender                                                                                      \n",
       "hear_AA_1                                                                                   \n",
       "Friend                                                               0.224                  \n",
       "WhatsApp                                                             0.228                  \n",
       "Bootcamp Alumni                                                      0.024                  \n",
       "Facebook                                                             0.136                  \n",
       "ESIH                                                                 0.052                  \n",
       "Ayiti Analytics Website                                              0.044                  \n",
       "other                                                                0.028                  \n",
       "Instagram                                                            0.016                  \n",
       "LinkedIn                                                             0.056                  \n",
       "unknown                                                              0.004                  "
      ],
      "text/html": [
       "<div>\n",
       "<style scoped>\n",
       "    .dataframe tbody tr th:only-of-type {\n",
       "        vertical-align: middle;\n",
       "    }\n",
       "\n",
       "    .dataframe tbody tr th {\n",
       "        vertical-align: top;\n",
       "    }\n",
       "\n",
       "    .dataframe thead tr th {\n",
       "        text-align: left;\n",
       "    }\n",
       "\n",
       "    .dataframe thead tr:last-of-type th {\n",
       "        text-align: right;\n",
       "    }\n",
       "</style>\n",
       "<table border=\"1\" class=\"dataframe\">\n",
       "  <thead>\n",
       "    <tr>\n",
       "      <th></th>\n",
       "      <th>Probabilty of being female and being in each communications channels</th>\n",
       "      <th>Probabilty of being male and being in each communications channels</th>\n",
       "    </tr>\n",
       "    <tr>\n",
       "      <th>gender</th>\n",
       "      <th></th>\n",
       "      <th></th>\n",
       "    </tr>\n",
       "    <tr>\n",
       "      <th>hear_AA_1</th>\n",
       "      <th></th>\n",
       "      <th></th>\n",
       "    </tr>\n",
       "  </thead>\n",
       "  <tbody>\n",
       "    <tr>\n",
       "      <th>Friend</th>\n",
       "      <td>0.044</td>\n",
       "      <td>0.224</td>\n",
       "    </tr>\n",
       "    <tr>\n",
       "      <th>WhatsApp</th>\n",
       "      <td>0.036</td>\n",
       "      <td>0.228</td>\n",
       "    </tr>\n",
       "    <tr>\n",
       "      <th>Bootcamp Alumni</th>\n",
       "      <td>0.032</td>\n",
       "      <td>0.024</td>\n",
       "    </tr>\n",
       "    <tr>\n",
       "      <th>Facebook</th>\n",
       "      <td>0.024</td>\n",
       "      <td>0.136</td>\n",
       "    </tr>\n",
       "    <tr>\n",
       "      <th>ESIH</th>\n",
       "      <td>0.020</td>\n",
       "      <td>0.052</td>\n",
       "    </tr>\n",
       "    <tr>\n",
       "      <th>Ayiti Analytics Website</th>\n",
       "      <td>0.016</td>\n",
       "      <td>0.044</td>\n",
       "    </tr>\n",
       "    <tr>\n",
       "      <th>other</th>\n",
       "      <td>0.008</td>\n",
       "      <td>0.028</td>\n",
       "    </tr>\n",
       "    <tr>\n",
       "      <th>Instagram</th>\n",
       "      <td>0.004</td>\n",
       "      <td>0.016</td>\n",
       "    </tr>\n",
       "    <tr>\n",
       "      <th>LinkedIn</th>\n",
       "      <td>0.004</td>\n",
       "      <td>0.056</td>\n",
       "    </tr>\n",
       "    <tr>\n",
       "      <th>unknown</th>\n",
       "      <td>0.000</td>\n",
       "      <td>0.004</td>\n",
       "    </tr>\n",
       "  </tbody>\n",
       "</table>\n",
       "</div>"
      ]
     },
     "metadata": {}
    },
    {
     "output_type": "execute_result",
     "data": {
      "text/plain": [
       "                           Friend  WhatsApp Facebook      ESIH  LinkedIn  \\\n",
       "gender                                                                     \n",
       "hear_AA_1                                                                  \n",
       "Friend                   0.835821  0.848485    1.400  0.611111  3.733333   \n",
       "WhatsApp                 0.850746  0.863636    1.425  0.500000  3.800000   \n",
       "Bootcamp Alumni          0.089552  0.090909    0.150  0.444444  0.400000   \n",
       "Facebook                 0.507463  0.515152    0.850  0.333333  2.266667   \n",
       "ESIH                     0.194030  0.196970    0.325  0.277778  0.866667   \n",
       "Ayiti Analytics Website  0.164179  0.166667    0.275  0.222222  0.733333   \n",
       "other                    0.104478  0.106061    0.175  0.111111  0.466667   \n",
       "Instagram                0.059701  0.060606    0.100  0.055556  0.266667   \n",
       "LinkedIn                 0.208955  0.212121    0.350  0.055556  0.933333   \n",
       "unknown                  0.014925  0.015152    0.025  0.000000  0.066667   \n",
       "\n",
       "                        Ayiti Analytics Website Bootcamp Alumni     other  \\\n",
       "gender                                                                      \n",
       "hear_AA_1                                                                   \n",
       "Friend                                 3.733333        4.000000  6.222222   \n",
       "WhatsApp                               3.800000        4.071429  6.333333   \n",
       "Bootcamp Alumni                        0.400000        0.428571  0.666667   \n",
       "Facebook                               2.266667        2.428571  3.777778   \n",
       "ESIH                                   0.866667        0.928571  1.444444   \n",
       "Ayiti Analytics Website                0.733333        0.785714  1.222222   \n",
       "other                                  0.466667        0.500000  0.777778   \n",
       "Instagram                              0.266667        0.285714  0.444444   \n",
       "LinkedIn                               0.933333        1.000000  1.555556   \n",
       "unknown                                0.066667        0.071429  0.111111   \n",
       "\n",
       "                        Instagram unknown  \n",
       "gender                                     \n",
       "hear_AA_1                                  \n",
       "Friend                       11.2    56.0  \n",
       "WhatsApp                     11.4    57.0  \n",
       "Bootcamp Alumni               1.2     6.0  \n",
       "Facebook                      6.8    34.0  \n",
       "ESIH                          2.6    13.0  \n",
       "Ayiti Analytics Website       2.2    11.0  \n",
       "other                         1.4     7.0  \n",
       "Instagram                     0.8     4.0  \n",
       "LinkedIn                      2.8    14.0  \n",
       "unknown                       0.2     1.0  "
      ],
      "text/html": [
       "<div>\n",
       "<style scoped>\n",
       "    .dataframe tbody tr th:only-of-type {\n",
       "        vertical-align: middle;\n",
       "    }\n",
       "\n",
       "    .dataframe tbody tr th {\n",
       "        vertical-align: top;\n",
       "    }\n",
       "\n",
       "    .dataframe thead tr th {\n",
       "        text-align: left;\n",
       "    }\n",
       "\n",
       "    .dataframe thead tr:last-of-type th {\n",
       "        text-align: right;\n",
       "    }\n",
       "</style>\n",
       "<table border=\"1\" class=\"dataframe\">\n",
       "  <thead>\n",
       "    <tr>\n",
       "      <th></th>\n",
       "      <th>Friend</th>\n",
       "      <th>WhatsApp</th>\n",
       "      <th>Facebook</th>\n",
       "      <th>ESIH</th>\n",
       "      <th>LinkedIn</th>\n",
       "      <th>Ayiti Analytics Website</th>\n",
       "      <th>Bootcamp Alumni</th>\n",
       "      <th>other</th>\n",
       "      <th>Instagram</th>\n",
       "      <th>unknown</th>\n",
       "    </tr>\n",
       "    <tr>\n",
       "      <th>gender</th>\n",
       "      <th></th>\n",
       "      <th></th>\n",
       "      <th></th>\n",
       "      <th></th>\n",
       "      <th></th>\n",
       "      <th></th>\n",
       "      <th></th>\n",
       "      <th></th>\n",
       "      <th></th>\n",
       "      <th></th>\n",
       "    </tr>\n",
       "    <tr>\n",
       "      <th>hear_AA_1</th>\n",
       "      <th></th>\n",
       "      <th></th>\n",
       "      <th></th>\n",
       "      <th></th>\n",
       "      <th></th>\n",
       "      <th></th>\n",
       "      <th></th>\n",
       "      <th></th>\n",
       "      <th></th>\n",
       "      <th></th>\n",
       "    </tr>\n",
       "  </thead>\n",
       "  <tbody>\n",
       "    <tr>\n",
       "      <th>Friend</th>\n",
       "      <td>0.835821</td>\n",
       "      <td>0.848485</td>\n",
       "      <td>1.400</td>\n",
       "      <td>0.611111</td>\n",
       "      <td>3.733333</td>\n",
       "      <td>3.733333</td>\n",
       "      <td>4.000000</td>\n",
       "      <td>6.222222</td>\n",
       "      <td>11.2</td>\n",
       "      <td>56.0</td>\n",
       "    </tr>\n",
       "    <tr>\n",
       "      <th>WhatsApp</th>\n",
       "      <td>0.850746</td>\n",
       "      <td>0.863636</td>\n",
       "      <td>1.425</td>\n",
       "      <td>0.500000</td>\n",
       "      <td>3.800000</td>\n",
       "      <td>3.800000</td>\n",
       "      <td>4.071429</td>\n",
       "      <td>6.333333</td>\n",
       "      <td>11.4</td>\n",
       "      <td>57.0</td>\n",
       "    </tr>\n",
       "    <tr>\n",
       "      <th>Bootcamp Alumni</th>\n",
       "      <td>0.089552</td>\n",
       "      <td>0.090909</td>\n",
       "      <td>0.150</td>\n",
       "      <td>0.444444</td>\n",
       "      <td>0.400000</td>\n",
       "      <td>0.400000</td>\n",
       "      <td>0.428571</td>\n",
       "      <td>0.666667</td>\n",
       "      <td>1.2</td>\n",
       "      <td>6.0</td>\n",
       "    </tr>\n",
       "    <tr>\n",
       "      <th>Facebook</th>\n",
       "      <td>0.507463</td>\n",
       "      <td>0.515152</td>\n",
       "      <td>0.850</td>\n",
       "      <td>0.333333</td>\n",
       "      <td>2.266667</td>\n",
       "      <td>2.266667</td>\n",
       "      <td>2.428571</td>\n",
       "      <td>3.777778</td>\n",
       "      <td>6.8</td>\n",
       "      <td>34.0</td>\n",
       "    </tr>\n",
       "    <tr>\n",
       "      <th>ESIH</th>\n",
       "      <td>0.194030</td>\n",
       "      <td>0.196970</td>\n",
       "      <td>0.325</td>\n",
       "      <td>0.277778</td>\n",
       "      <td>0.866667</td>\n",
       "      <td>0.866667</td>\n",
       "      <td>0.928571</td>\n",
       "      <td>1.444444</td>\n",
       "      <td>2.6</td>\n",
       "      <td>13.0</td>\n",
       "    </tr>\n",
       "    <tr>\n",
       "      <th>Ayiti Analytics Website</th>\n",
       "      <td>0.164179</td>\n",
       "      <td>0.166667</td>\n",
       "      <td>0.275</td>\n",
       "      <td>0.222222</td>\n",
       "      <td>0.733333</td>\n",
       "      <td>0.733333</td>\n",
       "      <td>0.785714</td>\n",
       "      <td>1.222222</td>\n",
       "      <td>2.2</td>\n",
       "      <td>11.0</td>\n",
       "    </tr>\n",
       "    <tr>\n",
       "      <th>other</th>\n",
       "      <td>0.104478</td>\n",
       "      <td>0.106061</td>\n",
       "      <td>0.175</td>\n",
       "      <td>0.111111</td>\n",
       "      <td>0.466667</td>\n",
       "      <td>0.466667</td>\n",
       "      <td>0.500000</td>\n",
       "      <td>0.777778</td>\n",
       "      <td>1.4</td>\n",
       "      <td>7.0</td>\n",
       "    </tr>\n",
       "    <tr>\n",
       "      <th>Instagram</th>\n",
       "      <td>0.059701</td>\n",
       "      <td>0.060606</td>\n",
       "      <td>0.100</td>\n",
       "      <td>0.055556</td>\n",
       "      <td>0.266667</td>\n",
       "      <td>0.266667</td>\n",
       "      <td>0.285714</td>\n",
       "      <td>0.444444</td>\n",
       "      <td>0.8</td>\n",
       "      <td>4.0</td>\n",
       "    </tr>\n",
       "    <tr>\n",
       "      <th>LinkedIn</th>\n",
       "      <td>0.208955</td>\n",
       "      <td>0.212121</td>\n",
       "      <td>0.350</td>\n",
       "      <td>0.055556</td>\n",
       "      <td>0.933333</td>\n",
       "      <td>0.933333</td>\n",
       "      <td>1.000000</td>\n",
       "      <td>1.555556</td>\n",
       "      <td>2.8</td>\n",
       "      <td>14.0</td>\n",
       "    </tr>\n",
       "    <tr>\n",
       "      <th>unknown</th>\n",
       "      <td>0.014925</td>\n",
       "      <td>0.015152</td>\n",
       "      <td>0.025</td>\n",
       "      <td>0.000000</td>\n",
       "      <td>0.066667</td>\n",
       "      <td>0.066667</td>\n",
       "      <td>0.071429</td>\n",
       "      <td>0.111111</td>\n",
       "      <td>0.2</td>\n",
       "      <td>1.0</td>\n",
       "    </tr>\n",
       "  </tbody>\n",
       "</table>\n",
       "</div>"
      ]
     },
     "metadata": {},
     "execution_count": 310
    }
   ],
   "metadata": {}
  },
  {
   "cell_type": "markdown",
   "source": [
    "### 15 Display a plot to see Gender vs Communication Channels .Is there any dependency between communication channels and gender?"
   ],
   "metadata": {}
  },
  {
   "cell_type": "code",
   "execution_count": null,
   "source": [
    "#here\r\n",
    "my_pivot2 =  pd.pivot_table(data=result5,index=\"gender\",columns=\"hear_AA_1\",values =\"quest_id\",aggfunc=\"count\")\r\n",
    "result5[\"male\"] =result5[\"gender\"].apply(lambda x: 1 if x == \"male\" else 0)\r\n",
    "result5[\"female\"] =result5[\"gender\"].apply(lambda x: 1 if x==\"female\" else 0)\r\n",
    "\r\n",
    "# Cross tabulation between GENDER and communication channel\r\n",
    "CrosstabResult=pd.crosstab(index=result5.gender,columns=result5.hear_AA_1)\r\n",
    "print(CrosstabResult)\r\n",
    " \r\n",
    "# Grouped bar chart between GENDER and communication channel\r\n",
    "CrosstabResult.plot.bar(figsize=(12,8), rot=0)"
   ],
   "outputs": [
    {
     "output_type": "stream",
     "name": "stdout",
     "text": [
      "hear_AA_1  Ayiti Analytics Website  Bootcamp Alumni  ESIH  Facebook  Friend  \\\n",
      "gender                                                                        \n",
      "female                           4                8     5         6      11   \n",
      "male                            11                6    13        34      56   \n",
      "\n",
      "hear_AA_1  Instagram  LinkedIn  WhatsApp  other  unknown  \n",
      "gender                                                    \n",
      "female             1         1         9      2        0  \n",
      "male               4        14        57      7        1  \n"
     ]
    },
    {
     "output_type": "execute_result",
     "data": {
      "text/plain": [
       "<AxesSubplot:xlabel='gender'>"
      ]
     },
     "metadata": {},
     "execution_count": 327
    },
    {
     "output_type": "display_data",
     "data": {
      "text/plain": [
       "<Figure size 864x576 with 1 Axes>"
      ],
      "image/png": "[encoded data removed]"
     },
     "metadata": {
      "needs_background": "light"
     }
    }
   ],
   "metadata": {}
  },
  {
   "cell_type": "code",
   "execution_count": null,
   "source": [
    "my_pivot2.values\r\n",
    "CrosstabResult.values"
   ],
   "outputs": [
    {
     "output_type": "execute_result",
     "data": {
      "text/plain": [
       "array([[ 4,  8,  5,  6, 11,  1,  1,  9,  2,  0],\n",
       "       [11,  6, 13, 34, 56,  4, 14, 57,  7,  1]], dtype=int64)"
      ]
     },
     "metadata": {},
     "execution_count": 312
    }
   ],
   "metadata": {}
  },
  {
   "cell_type": "code",
   "execution_count": null,
   "source": [
    "\r\n",
    "\r\n",
    "chi2_contingency(CrosstabResult.values)\r\n",
    "stat, p, dof, expected = chi2_contingency(CrosstabResult.values)\r\n",
    "  # interpret p-value\r\n",
    "alpha = 0.05\r\n",
    "print(\"p value is \" + str(p))\r\n",
    "if p <= alpha:\r\n",
    "    print('The two variables are dependent (reject Null Hypothesis H0)')\r\n",
    "else:\r\n",
    "    print('The two variables are independent (Null Hypothesis H0 holds true)')"
   ],
   "outputs": [
    {
     "output_type": "stream",
     "name": "stdout",
     "text": [
      "p value is 0.02907484414773651\n",
      "The two variables are dependent (reject Null Hypothesis H0)\n"
     ]
    }
   ],
   "metadata": {}
  },
  {
   "cell_type": "markdown",
   "source": [
    "### 16 Use the same method to display plot and know if is there any dependency between communication channels and Bootcamp Insterest?"
   ],
   "metadata": {}
  },
  {
   "cell_type": "code",
   "execution_count": null,
   "source": [
    "my_pivot3 =  pd.pivot_table(data=result5,index=\"after_AA\",columns=\"hear_AA_1\",values =\"quest_id\",aggfunc=\"count\")"
   ],
   "outputs": [],
   "metadata": {}
  },
  {
   "cell_type": "code",
   "execution_count": null,
   "source": [
    "# Cross tabulation between GENDER and bootcamp interest\r\n",
    "CrosstabResult1=pd.crosstab(index=result5.after_AA,columns=result5.hear_AA_1)\r\n",
    "print(CrosstabResult1)\r\n",
    " \r\n",
    "# Grouped bar chart between GENDER and bootcamp interest\r\n",
    "CrosstabResult.plot.bar(figsize=(15,15), rot=0)"
   ],
   "outputs": [
    {
     "output_type": "stream",
     "name": "stdout",
     "text": [
      "hear_AA_1                          Ayiti Analytics Website  Bootcamp Alumni  \\\n",
      "after_AA                                                                      \n",
      "Finding a job/internship                                 1                3   \n",
      "Improving my data analysis skills                        9                8   \n",
      "Mentorship                                               1                0   \n",
      "Switching careers                                        2                1   \n",
      "Training to start my own company                         2                1   \n",
      "other                                                    0                0   \n",
      "unknown                                                  0                1   \n",
      "\n",
      "hear_AA_1                          ESIH  Facebook  Friend  Instagram  \\\n",
      "after_AA                                                               \n",
      "Finding a job/internship              2        10      10          2   \n",
      "Improving my data analysis skills    12        20      38          0   \n",
      "Mentorship                            1         3       1          0   \n",
      "Switching careers                     0         3       4          1   \n",
      "Training to start my own company      2         4      14          2   \n",
      "other                                 1         0       0          0   \n",
      "unknown                               0         0       0          0   \n",
      "\n",
      "hear_AA_1                          LinkedIn  WhatsApp  other  unknown  \n",
      "after_AA                                                               \n",
      "Finding a job/internship                  2        11      2        0  \n",
      "Improving my data analysis skills        10        29      4        0  \n",
      "Mentorship                                0         6      1        0  \n",
      "Switching careers                         1         8      0        0  \n",
      "Training to start my own company          2        11      1        0  \n",
      "other                                     0         1      1        0  \n",
      "unknown                                   0         0      0        1  \n"
     ]
    },
    {
     "output_type": "execute_result",
     "data": {
      "text/plain": [
       "<AxesSubplot:xlabel='gender'>"
      ]
     },
     "metadata": {},
     "execution_count": 330
    },
    {
     "output_type": "display_data",
     "data": {
      "text/plain": [
       "<Figure size 1080x1080 with 1 Axes>"
      ],
      "image/png": "[encoded data removed]"
     },
     "metadata": {
      "needs_background": "light"
     }
    }
   ],
   "metadata": {}
  },
  {
   "cell_type": "code",
   "execution_count": null,
   "source": [
    "chi2_contingency(CrosstabResult1.values)\r\n",
    "stat, p, dof, expected = chi2_contingency(CrosstabResult1.values)\r\n",
    "  # interpret p-value\r\n",
    "alpha = 0.05\r\n",
    "print(\"p value is \" + str(p))\r\n",
    "if p <= alpha:\r\n",
    "    print('The two variables are dependent (reject Null Hypothesis H0)')\r\n",
    "else:\r\n",
    "    print('The two variables are independent (Null Hypothesis H0 holds true)')"
   ],
   "outputs": [
    {
     "output_type": "stream",
     "name": "stdout",
     "text": [
      "p value is 2.7040922010696464e-14\n",
      "The two variables are dependent (reject Null Hypothesis H0)\n"
     ]
    }
   ],
   "metadata": {}
  },
  {
   "cell_type": "markdown",
   "source": [
    "### 17.Plan a BA  strategy for each communication channel, Bootcamp Insterest regarding the gender "
   ],
   "metadata": {}
  },
  {
   "cell_type": "code",
   "execution_count": null,
   "source": [
    "#here your codes"
   ],
   "outputs": [],
   "metadata": {}
  },
  {
   "cell_type": "markdown",
   "source": [
    "There is dependency between the communication channel and bootcamp interest regarding the gender. Friends and whatsapp are the communication channel  that are the most used by the applicants who want to improve their data analytics skills and to find a job after the bootcamp. I think they should think about how they can help the participants improve their skills  and achieve their goals. "
   ],
   "metadata": {}
  },
  {
   "cell_type": "markdown",
   "source": [
    "### 18.Plan a BA  strategy for each communication channel, Bootcamp Insterest regarding the gender"
   ],
   "metadata": {}
  },
  {
   "cell_type": "code",
   "execution_count": null,
   "source": [
    "# here your codes\r\n"
   ],
   "outputs": [],
   "metadata": {}
  },
  {
   "cell_type": "markdown",
   "source": [
    "There is dependency between the communication channel and bootcamp interest regarding the gender. Friends and whatsapp are the communication channel  that are the most used by the applicants who want to improve their data analytics skills and to find a job after the bootcamp. I think they should think about how they can help the participants improve their skills  and achieve their goals. "
   ],
   "metadata": {}
  },
  {
   "cell_type": "markdown",
   "source": [
    "### 19. Calculate \r\n",
    "    * P(Bootcamp Insterest,Communication channels,Gender/Payed=yes)\r\n",
    "    * P(Bootcamp Insterest,Communication channels,Gender/Payed=no)"
   ],
   "metadata": {}
  },
  {
   "cell_type": "code",
   "execution_count": null,
   "source": [
    "#shape\r\n",
    "yes=len(result5[result5[\"payed\"]=='yes'])\r\n",
    "no=len(result5)-yes"
   ],
   "outputs": [],
   "metadata": {}
  },
  {
   "cell_type": "code",
   "execution_count": null,
   "source": [
    "result6=pd.pivot_table(result5[result5['payed']==\"yes\"],values='quest_id',index=['after_AA','hear_AA_1','gender'], aggfunc='count')\r\n",
    "result6=result6/yes\r\n",
    "print('Probabilities for a payed applicant by his interest for the bootcamp, his gender and his communication channel')\r\n",
    "print(result6)"
   ],
   "outputs": [
    {
     "output_type": "stream",
     "name": "stdout",
     "text": [
      "Probabilities for a payed applicant by his interest for the bootcamp, his gender and his communication channel\n",
      "                                                                  quest_id\n",
      "after_AA                          hear_AA_1               gender          \n",
      "Finding a job/internship          Ayiti Analytics Website male    0.015385\n",
      "                                  Bootcamp Alumni         female  0.015385\n",
      "                                  ESIH                    male    0.015385\n",
      "                                  Facebook                male    0.015385\n",
      "                                  Friend                  female  0.015385\n",
      "                                                          male    0.030769\n",
      "                                  Instagram               male    0.015385\n",
      "                                  LinkedIn                male    0.015385\n",
      "                                  WhatsApp                female  0.015385\n",
      "                                                          male    0.046154\n",
      "Improving my data analysis skills Ayiti Analytics Website male    0.015385\n",
      "                                  Bootcamp Alumni         female  0.015385\n",
      "                                                          male    0.076923\n",
      "                                  ESIH                    male    0.030769\n",
      "                                  Facebook                female  0.030769\n",
      "                                                          male    0.076923\n",
      "                                  Friend                  female  0.030769\n",
      "                                                          male    0.215385\n",
      "                                  LinkedIn                female  0.015385\n",
      "                                                          male    0.015385\n",
      "                                  WhatsApp                female  0.046154\n",
      "                                                          male    0.046154\n",
      "                                  other                   male    0.015385\n",
      "Mentorship                        other                   female  0.015385\n",
      "Switching careers                 Bootcamp Alumni         female  0.015385\n",
      "Training to start my own company  Ayiti Analytics Website male    0.015385\n",
      "                                  Facebook                male    0.015385\n",
      "                                  Friend                  male    0.046154\n",
      "                                  WhatsApp                male    0.030769\n",
      "other                             ESIH                    male    0.015385\n",
      "                                  WhatsApp                male    0.015385\n"
     ]
    }
   ],
   "metadata": {}
  },
  {
   "cell_type": "code",
   "execution_count": null,
   "source": [
    "result7=pd.pivot_table(result5[result5['payed']==\"no\"],values='quest_id',index=['after_AA','hear_AA_1','gender'], aggfunc='count')\r\n",
    "result7=result7/no\r\n",
    "print('Probabilities for a non-payed applicant by his interest for the bootcamp, his gender and his communication channel')\r\n",
    "print(result7)\r\n",
    "result7"
   ],
   "outputs": [
    {
     "output_type": "stream",
     "name": "stdout",
     "text": [
      "Probabilities for a non-payed applicant by his interest for the bootcamp, his gender and his communication channel\n",
      "                                                                  quest_id\n",
      "after_AA                          hear_AA_1               gender          \n",
      "Finding a job/internship          Bootcamp Alumni         female  0.010811\n",
      "                                  ESIH                    male    0.005405\n",
      "                                  Facebook                female  0.010811\n",
      "                                                          male    0.037838\n",
      "                                  Friend                  female  0.016216\n",
      "                                                          male    0.021622\n",
      "                                  Instagram               male    0.005405\n",
      "                                  LinkedIn                male    0.005405\n",
      "                                  WhatsApp                male    0.037838\n",
      "                                  other                   male    0.010811\n",
      "Improving my data analysis skills Ayiti Analytics Website female  0.010811\n",
      "                                                          male    0.032432\n",
      "                                  Bootcamp Alumni         female  0.010811\n",
      "                                  ESIH                    female  0.016216\n",
      "                                                          male    0.037838\n",
      "                                  Facebook                male    0.070270\n",
      "                                  Friend                  female  0.021622\n",
      "                                                          male    0.097297\n",
      "                                  LinkedIn                male    0.043243\n",
      "                                  WhatsApp                female  0.016216\n",
      "                                                          male    0.108108\n",
      "                                  other                   female  0.005405\n",
      "                                                          male    0.010811\n",
      "Mentorship                        Ayiti Analytics Website male    0.005405\n",
      "                                  ESIH                    female  0.005405\n",
      "                                  Facebook                female  0.010811\n",
      "                                                          male    0.005405\n",
      "                                  Friend                  male    0.005405\n",
      "                                  WhatsApp                male    0.032432\n",
      "Switching careers                 Ayiti Analytics Website female  0.005405\n",
      "                                                          male    0.005405\n",
      "                                  Facebook                male    0.016216\n",
      "                                  Friend                  male    0.021622\n",
      "                                  Instagram               male    0.005405\n",
      "                                  LinkedIn                male    0.005405\n",
      "                                  WhatsApp                female  0.005405\n",
      "                                                          male    0.037838\n",
      "Training to start my own company  Ayiti Analytics Website female  0.005405\n",
      "                                  Bootcamp Alumni         female  0.005405\n",
      "                                  ESIH                    female  0.005405\n",
      "                                                          male    0.005405\n",
      "                                  Facebook                male    0.016216\n",
      "                                  Friend                  female  0.005405\n",
      "                                                          male    0.054054\n",
      "                                  Instagram               female  0.005405\n",
      "                                                          male    0.005405\n",
      "                                  LinkedIn                male    0.010811\n",
      "                                  WhatsApp                female  0.005405\n",
      "                                                          male    0.043243\n",
      "                                  other                   male    0.005405\n",
      "other                             other                   male    0.005405\n",
      "unknown                           Bootcamp Alumni         male    0.005405\n",
      "                                  unknown                 male    0.005405\n"
     ]
    },
    {
     "output_type": "execute_result",
     "data": {
      "text/plain": [
       "                                                                  quest_id\n",
       "after_AA                          hear_AA_1               gender          \n",
       "Finding a job/internship          Bootcamp Alumni         female  0.010811\n",
       "                                  ESIH                    male    0.005405\n",
       "                                  Facebook                female  0.010811\n",
       "                                                          male    0.037838\n",
       "                                  Friend                  female  0.016216\n",
       "                                                          male    0.021622\n",
       "                                  Instagram               male    0.005405\n",
       "                                  LinkedIn                male    0.005405\n",
       "                                  WhatsApp                male    0.037838\n",
       "                                  other                   male    0.010811\n",
       "Improving my data analysis skills Ayiti Analytics Website female  0.010811\n",
       "                                                          male    0.032432\n",
       "                                  Bootcamp Alumni         female  0.010811\n",
       "                                  ESIH                    female  0.016216\n",
       "                                                          male    0.037838\n",
       "                                  Facebook                male    0.070270\n",
       "                                  Friend                  female  0.021622\n",
       "                                                          male    0.097297\n",
       "                                  LinkedIn                male    0.043243\n",
       "                                  WhatsApp                female  0.016216\n",
       "                                                          male    0.108108\n",
       "                                  other                   female  0.005405\n",
       "                                                          male    0.010811\n",
       "Mentorship                        Ayiti Analytics Website male    0.005405\n",
       "                                  ESIH                    female  0.005405\n",
       "                                  Facebook                female  0.010811\n",
       "                                                          male    0.005405\n",
       "                                  Friend                  male    0.005405\n",
       "                                  WhatsApp                male    0.032432\n",
       "Switching careers                 Ayiti Analytics Website female  0.005405\n",
       "                                                          male    0.005405\n",
       "                                  Facebook                male    0.016216\n",
       "                                  Friend                  male    0.021622\n",
       "                                  Instagram               male    0.005405\n",
       "                                  LinkedIn                male    0.005405\n",
       "                                  WhatsApp                female  0.005405\n",
       "                                                          male    0.037838\n",
       "Training to start my own company  Ayiti Analytics Website female  0.005405\n",
       "                                  Bootcamp Alumni         female  0.005405\n",
       "                                  ESIH                    female  0.005405\n",
       "                                                          male    0.005405\n",
       "                                  Facebook                male    0.016216\n",
       "                                  Friend                  female  0.005405\n",
       "                                                          male    0.054054\n",
       "                                  Instagram               female  0.005405\n",
       "                                                          male    0.005405\n",
       "                                  LinkedIn                male    0.010811\n",
       "                                  WhatsApp                female  0.005405\n",
       "                                                          male    0.043243\n",
       "                                  other                   male    0.005405\n",
       "other                             other                   male    0.005405\n",
       "unknown                           Bootcamp Alumni         male    0.005405\n",
       "                                  unknown                 male    0.005405"
      ],
      "text/html": [
       "<div>\n",
       "<style scoped>\n",
       "    .dataframe tbody tr th:only-of-type {\n",
       "        vertical-align: middle;\n",
       "    }\n",
       "\n",
       "    .dataframe tbody tr th {\n",
       "        vertical-align: top;\n",
       "    }\n",
       "\n",
       "    .dataframe thead th {\n",
       "        text-align: right;\n",
       "    }\n",
       "</style>\n",
       "<table border=\"1\" class=\"dataframe\">\n",
       "  <thead>\n",
       "    <tr style=\"text-align: right;\">\n",
       "      <th></th>\n",
       "      <th></th>\n",
       "      <th></th>\n",
       "      <th>quest_id</th>\n",
       "    </tr>\n",
       "    <tr>\n",
       "      <th>after_AA</th>\n",
       "      <th>hear_AA_1</th>\n",
       "      <th>gender</th>\n",
       "      <th></th>\n",
       "    </tr>\n",
       "  </thead>\n",
       "  <tbody>\n",
       "    <tr>\n",
       "      <th rowspan=\"10\" valign=\"top\">Finding a job/internship</th>\n",
       "      <th>Bootcamp Alumni</th>\n",
       "      <th>female</th>\n",
       "      <td>0.010811</td>\n",
       "    </tr>\n",
       "    <tr>\n",
       "      <th>ESIH</th>\n",
       "      <th>male</th>\n",
       "      <td>0.005405</td>\n",
       "    </tr>\n",
       "    <tr>\n",
       "      <th rowspan=\"2\" valign=\"top\">Facebook</th>\n",
       "      <th>female</th>\n",
       "      <td>0.010811</td>\n",
       "    </tr>\n",
       "    <tr>\n",
       "      <th>male</th>\n",
       "      <td>0.037838</td>\n",
       "    </tr>\n",
       "    <tr>\n",
       "      <th rowspan=\"2\" valign=\"top\">Friend</th>\n",
       "      <th>female</th>\n",
       "      <td>0.016216</td>\n",
       "    </tr>\n",
       "    <tr>\n",
       "      <th>male</th>\n",
       "      <td>0.021622</td>\n",
       "    </tr>\n",
       "    <tr>\n",
       "      <th>Instagram</th>\n",
       "      <th>male</th>\n",
       "      <td>0.005405</td>\n",
       "    </tr>\n",
       "    <tr>\n",
       "      <th>LinkedIn</th>\n",
       "      <th>male</th>\n",
       "      <td>0.005405</td>\n",
       "    </tr>\n",
       "    <tr>\n",
       "      <th>WhatsApp</th>\n",
       "      <th>male</th>\n",
       "      <td>0.037838</td>\n",
       "    </tr>\n",
       "    <tr>\n",
       "      <th>other</th>\n",
       "      <th>male</th>\n",
       "      <td>0.010811</td>\n",
       "    </tr>\n",
       "    <tr>\n",
       "      <th rowspan=\"13\" valign=\"top\">Improving my data analysis skills</th>\n",
       "      <th rowspan=\"2\" valign=\"top\">Ayiti Analytics Website</th>\n",
       "      <th>female</th>\n",
       "      <td>0.010811</td>\n",
       "    </tr>\n",
       "    <tr>\n",
       "      <th>male</th>\n",
       "      <td>0.032432</td>\n",
       "    </tr>\n",
       "    <tr>\n",
       "      <th>Bootcamp Alumni</th>\n",
       "      <th>female</th>\n",
       "      <td>0.010811</td>\n",
       "    </tr>\n",
       "    <tr>\n",
       "      <th rowspan=\"2\" valign=\"top\">ESIH</th>\n",
       "      <th>female</th>\n",
       "      <td>0.016216</td>\n",
       "    </tr>\n",
       "    <tr>\n",
       "      <th>male</th>\n",
       "      <td>0.037838</td>\n",
       "    </tr>\n",
       "    <tr>\n",
       "      <th>Facebook</th>\n",
       "      <th>male</th>\n",
       "      <td>0.070270</td>\n",
       "    </tr>\n",
       "    <tr>\n",
       "      <th rowspan=\"2\" valign=\"top\">Friend</th>\n",
       "      <th>female</th>\n",
       "      <td>0.021622</td>\n",
       "    </tr>\n",
       "    <tr>\n",
       "      <th>male</th>\n",
       "      <td>0.097297</td>\n",
       "    </tr>\n",
       "    <tr>\n",
       "      <th>LinkedIn</th>\n",
       "      <th>male</th>\n",
       "      <td>0.043243</td>\n",
       "    </tr>\n",
       "    <tr>\n",
       "      <th rowspan=\"2\" valign=\"top\">WhatsApp</th>\n",
       "      <th>female</th>\n",
       "      <td>0.016216</td>\n",
       "    </tr>\n",
       "    <tr>\n",
       "      <th>male</th>\n",
       "      <td>0.108108</td>\n",
       "    </tr>\n",
       "    <tr>\n",
       "      <th rowspan=\"2\" valign=\"top\">other</th>\n",
       "      <th>female</th>\n",
       "      <td>0.005405</td>\n",
       "    </tr>\n",
       "    <tr>\n",
       "      <th>male</th>\n",
       "      <td>0.010811</td>\n",
       "    </tr>\n",
       "    <tr>\n",
       "      <th rowspan=\"6\" valign=\"top\">Mentorship</th>\n",
       "      <th>Ayiti Analytics Website</th>\n",
       "      <th>male</th>\n",
       "      <td>0.005405</td>\n",
       "    </tr>\n",
       "    <tr>\n",
       "      <th>ESIH</th>\n",
       "      <th>female</th>\n",
       "      <td>0.005405</td>\n",
       "    </tr>\n",
       "    <tr>\n",
       "      <th rowspan=\"2\" valign=\"top\">Facebook</th>\n",
       "      <th>female</th>\n",
       "      <td>0.010811</td>\n",
       "    </tr>\n",
       "    <tr>\n",
       "      <th>male</th>\n",
       "      <td>0.005405</td>\n",
       "    </tr>\n",
       "    <tr>\n",
       "      <th>Friend</th>\n",
       "      <th>male</th>\n",
       "      <td>0.005405</td>\n",
       "    </tr>\n",
       "    <tr>\n",
       "      <th>WhatsApp</th>\n",
       "      <th>male</th>\n",
       "      <td>0.032432</td>\n",
       "    </tr>\n",
       "    <tr>\n",
       "      <th rowspan=\"8\" valign=\"top\">Switching careers</th>\n",
       "      <th rowspan=\"2\" valign=\"top\">Ayiti Analytics Website</th>\n",
       "      <th>female</th>\n",
       "      <td>0.005405</td>\n",
       "    </tr>\n",
       "    <tr>\n",
       "      <th>male</th>\n",
       "      <td>0.005405</td>\n",
       "    </tr>\n",
       "    <tr>\n",
       "      <th>Facebook</th>\n",
       "      <th>male</th>\n",
       "      <td>0.016216</td>\n",
       "    </tr>\n",
       "    <tr>\n",
       "      <th>Friend</th>\n",
       "      <th>male</th>\n",
       "      <td>0.021622</td>\n",
       "    </tr>\n",
       "    <tr>\n",
       "      <th>Instagram</th>\n",
       "      <th>male</th>\n",
       "      <td>0.005405</td>\n",
       "    </tr>\n",
       "    <tr>\n",
       "      <th>LinkedIn</th>\n",
       "      <th>male</th>\n",
       "      <td>0.005405</td>\n",
       "    </tr>\n",
       "    <tr>\n",
       "      <th rowspan=\"2\" valign=\"top\">WhatsApp</th>\n",
       "      <th>female</th>\n",
       "      <td>0.005405</td>\n",
       "    </tr>\n",
       "    <tr>\n",
       "      <th>male</th>\n",
       "      <td>0.037838</td>\n",
       "    </tr>\n",
       "    <tr>\n",
       "      <th rowspan=\"13\" valign=\"top\">Training to start my own company</th>\n",
       "      <th>Ayiti Analytics Website</th>\n",
       "      <th>female</th>\n",
       "      <td>0.005405</td>\n",
       "    </tr>\n",
       "    <tr>\n",
       "      <th>Bootcamp Alumni</th>\n",
       "      <th>female</th>\n",
       "      <td>0.005405</td>\n",
       "    </tr>\n",
       "    <tr>\n",
       "      <th rowspan=\"2\" valign=\"top\">ESIH</th>\n",
       "      <th>female</th>\n",
       "      <td>0.005405</td>\n",
       "    </tr>\n",
       "    <tr>\n",
       "      <th>male</th>\n",
       "      <td>0.005405</td>\n",
       "    </tr>\n",
       "    <tr>\n",
       "      <th>Facebook</th>\n",
       "      <th>male</th>\n",
       "      <td>0.016216</td>\n",
       "    </tr>\n",
       "    <tr>\n",
       "      <th rowspan=\"2\" valign=\"top\">Friend</th>\n",
       "      <th>female</th>\n",
       "      <td>0.005405</td>\n",
       "    </tr>\n",
       "    <tr>\n",
       "      <th>male</th>\n",
       "      <td>0.054054</td>\n",
       "    </tr>\n",
       "    <tr>\n",
       "      <th rowspan=\"2\" valign=\"top\">Instagram</th>\n",
       "      <th>female</th>\n",
       "      <td>0.005405</td>\n",
       "    </tr>\n",
       "    <tr>\n",
       "      <th>male</th>\n",
       "      <td>0.005405</td>\n",
       "    </tr>\n",
       "    <tr>\n",
       "      <th>LinkedIn</th>\n",
       "      <th>male</th>\n",
       "      <td>0.010811</td>\n",
       "    </tr>\n",
       "    <tr>\n",
       "      <th rowspan=\"2\" valign=\"top\">WhatsApp</th>\n",
       "      <th>female</th>\n",
       "      <td>0.005405</td>\n",
       "    </tr>\n",
       "    <tr>\n",
       "      <th>male</th>\n",
       "      <td>0.043243</td>\n",
       "    </tr>\n",
       "    <tr>\n",
       "      <th>other</th>\n",
       "      <th>male</th>\n",
       "      <td>0.005405</td>\n",
       "    </tr>\n",
       "    <tr>\n",
       "      <th>other</th>\n",
       "      <th>other</th>\n",
       "      <th>male</th>\n",
       "      <td>0.005405</td>\n",
       "    </tr>\n",
       "    <tr>\n",
       "      <th rowspan=\"2\" valign=\"top\">unknown</th>\n",
       "      <th>Bootcamp Alumni</th>\n",
       "      <th>male</th>\n",
       "      <td>0.005405</td>\n",
       "    </tr>\n",
       "    <tr>\n",
       "      <th>unknown</th>\n",
       "      <th>male</th>\n",
       "      <td>0.005405</td>\n",
       "    </tr>\n",
       "  </tbody>\n",
       "</table>\n",
       "</div>"
      ]
     },
     "metadata": {},
     "execution_count": 320
    }
   ],
   "metadata": {}
  },
  {
   "cell_type": "markdown",
   "source": [
    "### 20 reduce \r\n",
    "* P(Payed=\"yes\"/Bootcamp Insterest=\"Increase Skill\",Communication channels=\"Friend\",Gender=\"male\")\r\n",
    "* P(Payed=\"no\"/Bootcamp Insterest=\"Increase Skill\",Communication channels=\"Friend\",Gender=\"male\")"
   ],
   "metadata": {}
  },
  {
   "cell_type": "code",
   "execution_count": null,
   "source": [
    "result5['after_AA'].unique()"
   ],
   "outputs": [
    {
     "output_type": "execute_result",
     "data": {
      "text/plain": [
       "array(['unknown', 'Finding a job/internship',\n",
       "       'Improving my data analysis skills', 'Mentorship',\n",
       "       'Training to start my own company', 'Switching careers', 'other'],\n",
       "      dtype=object)"
      ]
     },
     "metadata": {},
     "execution_count": 543
    }
   ],
   "metadata": {}
  },
  {
   "cell_type": "code",
   "execution_count": null,
   "source": [
    "# here your codes\r\n",
    "result10=result5[(result5['after_AA']=='Improving my data analysis skills')& (result5['hear_AA_1']=='Friend') & (result5['gender']=='male')]\r\n",
    "r10=result10['payed'].value_counts(normalize=1 )\r\n",
    "r10.rename(index={\"yes\":\"Probability that the applicant pays knowing he wants to improve her skills, he is male and the communication channel is a friend\",\r\n",
    "'no':\"Probability that the applicant doesn't pay knowing he wants to improve her skills, he is male and the communication channel is a friend\"}, inplace=True)\r\n",
    "r10"
   ],
   "outputs": [
    {
     "output_type": "execute_result",
     "data": {
      "text/plain": [
       "Probability that the applicant doesn't pay knowing he wants to improve her skills, he is male and the communication channel is a friend    0.5625\n",
       "Probability that the applicant pays knowing he wants to improve her skills, he is male and the communication channel is a friend           0.4375\n",
       "Name: payed, dtype: float64"
      ]
     },
     "metadata": {},
     "execution_count": 1892
    }
   ],
   "metadata": {}
  },
  {
   "cell_type": "markdown",
   "source": [
    "### Based on these findings, propose strategies to increase our sales?"
   ],
   "metadata": {}
  },
  {
   "cell_type": "code",
   "execution_count": null,
   "source": [
    "#here your codes\r\n"
   ],
   "outputs": [],
   "metadata": {}
  },
  {
   "cell_type": "markdown",
   "source": [
    "If they want to increase their sales, they should focu on the friends of the bootcaamp alumni. Because the probability that the applicant pay knowing that he wants to improve his skills, he is male and his communication channel is a friend is more than 45%. It will be more benefits if the participants  of the actual bootcamp talk with their friends about Ayiti Analytics. By friends I mean in their old school, and maybe their family too."
   ],
   "metadata": {}
  },
  {
   "cell_type": "markdown",
   "source": [],
   "metadata": {}
  }
 ],
 "metadata": {
  "interpreter": {
   "hash": "3cf14a904ca0b861123f05f683cfd6d5594802892345ddb7edf5fc4845c1f0cd"
  },
  "kernelspec": {
   "name": "python3",
   "display_name": "Python 3.9.5 64-bit"
  },
  "language_info": {
   "codemirror_mode": {
    "name": "ipython",
    "version": 3
   },
   "file_extension": ".py",
   "mimetype": "text/x-python",
   "name": "python",
   "nbconvert_exporter": "python",
   "pygments_lexer": "ipython3",
   "version": "3.9.5"
  },
  "orig_nbformat": 4
 },
 "nbformat": 4,
 "nbformat_minor": 2
}